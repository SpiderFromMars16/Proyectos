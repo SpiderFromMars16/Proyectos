{
  "nbformat": 4,
  "nbformat_minor": 0,
  "metadata": {
    "colab": {
      "provenance": []
    },
    "kernelspec": {
      "name": "python3",
      "display_name": "Python 3"
    },
    "language_info": {
      "name": "python"
    }
  },
  "cells": [
    {
      "cell_type": "code",
      "source": [
        "pip install exchange_calendars"
      ],
      "metadata": {
        "colab": {
          "base_uri": "https://localhost:8080/"
        },
        "id": "5JH_DrOyXlzJ",
        "outputId": "36763d3f-bd06-48b4-e1a5-a6f07ec6df29"
      },
      "execution_count": null,
      "outputs": [
        {
          "output_type": "stream",
          "name": "stdout",
          "text": [
            "Requirement already satisfied: exchange_calendars in /usr/local/lib/python3.10/dist-packages (4.5)\n",
            "Requirement already satisfied: numpy in /usr/local/lib/python3.10/dist-packages (from exchange_calendars) (1.23.5)\n",
            "Requirement already satisfied: pandas>=1.5 in /usr/local/lib/python3.10/dist-packages (from exchange_calendars) (1.5.3)\n",
            "Requirement already satisfied: pyluach in /usr/local/lib/python3.10/dist-packages (from exchange_calendars) (2.2.0)\n",
            "Requirement already satisfied: python-dateutil in /usr/local/lib/python3.10/dist-packages (from exchange_calendars) (2.8.2)\n",
            "Requirement already satisfied: toolz in /usr/local/lib/python3.10/dist-packages (from exchange_calendars) (0.12.0)\n",
            "Requirement already satisfied: tzdata in /usr/local/lib/python3.10/dist-packages (from exchange_calendars) (2023.3)\n",
            "Requirement already satisfied: korean-lunar-calendar in /usr/local/lib/python3.10/dist-packages (from exchange_calendars) (0.3.1)\n",
            "Requirement already satisfied: pytz>=2020.1 in /usr/local/lib/python3.10/dist-packages (from pandas>=1.5->exchange_calendars) (2023.3.post1)\n",
            "Requirement already satisfied: six>=1.5 in /usr/local/lib/python3.10/dist-packages (from python-dateutil->exchange_calendars) (1.16.0)\n"
          ]
        }
      ]
    },
    {
      "cell_type": "markdown",
      "source": [
        "# **Selección de Activos**"
      ],
      "metadata": {
        "id": "z5-WWahWYy-p"
      }
    },
    {
      "cell_type": "markdown",
      "source": [
        "**Selección de Activos**\n",
        "\n",
        "\n",
        "1.   **AGG**: ETF que da exposición a bonos de grado de inversión en EE.UU. Toma como indice de referencia el Bloomber US Aggregate Bonds Index. Con principal enfoque en bonos emitidos por el tesoro estadounidense, el sector industrial y bonos de hipotecas respaldadas por activos. Donde los bonos que lo conforman cuentan con calidad crediticia desde AAA hasta BBB, donde el 70% del portafolio se encuentra conformado por bonos AA. Donde nuestros activos cuentan con vencimiento desde 1 hasta más de 20 años. Mayormente el etf cuenta con bonos de 7 a 10 años. Con una comisión del 0.03%. Con una Beta de 0.24 y un Yield de 3.19%. Con convexidad de 0.64. Con una desviación estandar de 6.25%. Divisa base en USD.\n",
        "2.   **SEMB.L**: ETF que da exposición a bonos de mercados emergentes emitidos en dolares, con principal peso en bonos soberanos y bonos de propiedad sin garantia, mayormente en los siguientes paises: México, Arabia Saudita, Turquia, indonesia, Emiratos Arabes, Qatar, China y Brasil. Con vencimiento de los instrumentos a plazos mayores a 20 años, de 3 a 5 y de 7 a 10 años. Con una comisión por gestion del 0.45%. Con  divisa base en Dolares Estadounidenses. Desviación Tipica de 10.80%. Duración efectiva de 6.95. Beta de 1. Que toma como indice de referencia al JP Morgan EMBI Global Core Index.\n",
        "3.   **IYW**:ETF de empresas de software, hardware y tecnologias de la información en EEUU. Divisa base en USD. Beta de 1.19, Desviacion Estandar de 23.62%. Comision de administracion de 0.40%. Con principales posiciones en: APPLE INC, MICROSOFT CORP, ALPHABET INC CLASS A, NVIDIA CORP, META PLATFORMS INC CLASS A. Toma como indice de referencia al Rusell 1000 Technology RIC 22.5/45 Capped Index.\n",
        "4.   **IEMS.L**: ETF que da exposición diversificada a mercados emergentes: India, Taiwan, Corea, China, Brasil, México, entre otros.Con principal enfoque en tecnologia e información, industria, materiales y consumo discrecional. Divisa base en USD. Comision por gestion de 0.74%. Beta de 0.998. Desviación de 17.21%. Define como Benchmark el MSCI Emergentic Markets Small Cap Index.\n",
        "5.   **GSG**: ETF de exposicón a materias primas con principal enfoque en ganaderia, agricultura, energia, metales industriales y preciosos. Con una beta de 0.40 y una desviación estandar de 20.51%. Toma como indice de referencia el S&P GSCI Total Return. Divisa Base en USD"
      ],
      "metadata": {
        "id": "rSgYCJ_eJNKE"
      }
    },
    {
      "cell_type": "markdown",
      "source": [
        "# **Paqueteria**"
      ],
      "metadata": {
        "id": "Ugq9XCIXts-V"
      }
    },
    {
      "cell_type": "code",
      "execution_count": null,
      "metadata": {
        "id": "zSVpT--utHFi",
        "colab": {
          "base_uri": "https://localhost:8080/",
          "height": 17
        },
        "outputId": "ca122e25-30d6-49f8-a315-796fea79b0ce"
      },
      "outputs": [
        {
          "output_type": "display_data",
          "data": {
            "text/html": [
              "        <script type=\"text/javascript\">\n",
              "        window.PlotlyConfig = {MathJaxConfig: 'local'};\n",
              "        if (window.MathJax && window.MathJax.Hub && window.MathJax.Hub.Config) {window.MathJax.Hub.Config({SVG: {font: \"STIX-Web\"}});}\n",
              "        if (typeof require !== 'undefined') {\n",
              "        require.undef(\"plotly\");\n",
              "        requirejs.config({\n",
              "            paths: {\n",
              "                'plotly': ['https://cdn.plot.ly/plotly-2.24.1.min']\n",
              "            }\n",
              "        });\n",
              "        require(['plotly'], function(Plotly) {\n",
              "            window._Plotly = Plotly;\n",
              "        });\n",
              "        }\n",
              "        </script>\n",
              "        "
            ]
          },
          "metadata": {}
        }
      ],
      "source": [
        "# Importa librerias\n",
        "from numpy import *\n",
        "import numpy as np\n",
        "from numpy.linalg import multi_dot\n",
        "import pandas as pd\n",
        "import yfinance as yf\n",
        "import plotly as plt\n",
        "from datetime import date, datetime\n",
        "import exchange_calendars as xcals\n",
        "from scipy.stats import norm, skew, kurtosis\n",
        "import cufflinks as cf\n",
        "cf.set_config_file(offline=True)\n",
        "import scipy.optimize as sco\n",
        "from scipy.optimize import minimize\n",
        "\n",
        "\n",
        "# Libreria especifica para ignorar warnings\n",
        "import warnings\n",
        "warnings.filterwarnings('ignore')"
      ]
    },
    {
      "cell_type": "markdown",
      "source": [
        "# **Estadisticas de activos**: Obtención de rendimientos"
      ],
      "metadata": {
        "id": "1q-6SKabZATo"
      }
    },
    {
      "cell_type": "markdown",
      "source": [
        "Definimos los tickers que vamos a utilizar"
      ],
      "metadata": {
        "id": "rrHRBujX0aVJ"
      }
    },
    {
      "cell_type": "code",
      "source": [
        "# Tickers\n",
        "symbols = ['AGG', 'SEMB.L', 'IYW', 'IEMS.L', 'GSG', 'MXN=X', 'GBPMXN=X' ]\n",
        "etfs = ['AGG', 'SEMB.L', 'IYW', 'IEMS.L', 'GSG']\n",
        "\n",
        "# Number of assets\n",
        "numofasset = len(symbols)\n",
        "numofasset2 = numofasset-2\n",
        "\n",
        "# Número de portafolios a optimizar\n",
        "numofportfolio = 1000"
      ],
      "metadata": {
        "id": "Bbgg1A370lvH"
      },
      "execution_count": null,
      "outputs": []
    },
    {
      "cell_type": "markdown",
      "source": [
        "Funcion para bajar datos de Yahoo Finance"
      ],
      "metadata": {
        "id": "j_Nz44dm2uSv"
      }
    },
    {
      "cell_type": "code",
      "source": [
        "def download_data(tickers, start_date='2010-01-01', end_date=date.today().strftime('%Y-%m-%d')):\n",
        "    data = yf.download(tickers, start=start_date, end=end_date)\n",
        "\n",
        "    return data['Close']"
      ],
      "metadata": {
        "id": "s5wYy6q521H9"
      },
      "execution_count": null,
      "outputs": []
    },
    {
      "cell_type": "markdown",
      "source": [
        "Obtencion de los datos de nuestros tickers"
      ],
      "metadata": {
        "id": "alfYWMam25Rh"
      }
    },
    {
      "cell_type": "code",
      "source": [
        "df=download_data(symbols)\n",
        "df = df.dropna()\n",
        "df"
      ],
      "metadata": {
        "id": "P2J2i2Za2-Hp",
        "colab": {
          "base_uri": "https://localhost:8080/",
          "height": 472
        },
        "outputId": "de6ac33a-2cd8-4f04-9c12-1312ff383bd2"
      },
      "execution_count": null,
      "outputs": [
        {
          "output_type": "stream",
          "name": "stdout",
          "text": [
            "[*********************100%%**********************]  7 of 7 completed\n"
          ]
        },
        {
          "output_type": "execute_result",
          "data": {
            "text/plain": [
              "                   AGG   GBPMXN=X        GSG     IEMS.L         IYW  \\\n",
              "Date                                                                  \n",
              "2010-01-04  103.309998  20.739000  32.700001  63.380001   14.622500   \n",
              "2010-01-05  103.779999  20.472000  33.029999  63.799999   14.600000   \n",
              "2010-01-06  103.720001  20.410999  33.270000  64.589996   14.497500   \n",
              "2010-01-07  103.599998  20.329000  33.110001  64.309998   14.442500   \n",
              "2010-01-08  103.660004  20.322001  33.180000  64.620003   14.552500   \n",
              "...                ...        ...        ...        ...         ...   \n",
              "2023-12-04   96.459999  21.849300  20.330000  83.105003  116.190002   \n",
              "2023-12-05   97.099998  22.064600  20.180000  82.839996  116.820000   \n",
              "2023-12-06   97.349998  21.861425  19.620001  83.309998  115.720001   \n",
              "2023-12-07   97.379997  21.709324  19.709999  83.320000  117.690002   \n",
              "2023-12-08   96.889999  21.993605  19.920000  82.605003  118.540001   \n",
              "\n",
              "                MXN=X       SEMB.L  \n",
              "Date                                \n",
              "2010-01-04  12.871800  6312.120117  \n",
              "2010-01-05  12.810800  6365.080078  \n",
              "2010-01-06  12.739500  6361.410156  \n",
              "2010-01-07  12.760200  6389.250000  \n",
              "2010-01-08  12.684200  6363.479980  \n",
              "...               ...          ...  \n",
              "2023-12-04  17.188761  6706.500000  \n",
              "2023-12-05  17.454100  6773.500000  \n",
              "2023-12-06  17.358299  6811.000000  \n",
              "2023-12-07  17.287460  6825.500000  \n",
              "2023-12-08  17.472050  6802.000000  \n",
              "\n",
              "[3439 rows x 7 columns]"
            ],
            "text/html": [
              "\n",
              "  <div id=\"df-a79438d5-a47c-4501-9d87-f4f1eb71fc0f\" class=\"colab-df-container\">\n",
              "    <div>\n",
              "<style scoped>\n",
              "    .dataframe tbody tr th:only-of-type {\n",
              "        vertical-align: middle;\n",
              "    }\n",
              "\n",
              "    .dataframe tbody tr th {\n",
              "        vertical-align: top;\n",
              "    }\n",
              "\n",
              "    .dataframe thead th {\n",
              "        text-align: right;\n",
              "    }\n",
              "</style>\n",
              "<table border=\"1\" class=\"dataframe\">\n",
              "  <thead>\n",
              "    <tr style=\"text-align: right;\">\n",
              "      <th></th>\n",
              "      <th>AGG</th>\n",
              "      <th>GBPMXN=X</th>\n",
              "      <th>GSG</th>\n",
              "      <th>IEMS.L</th>\n",
              "      <th>IYW</th>\n",
              "      <th>MXN=X</th>\n",
              "      <th>SEMB.L</th>\n",
              "    </tr>\n",
              "    <tr>\n",
              "      <th>Date</th>\n",
              "      <th></th>\n",
              "      <th></th>\n",
              "      <th></th>\n",
              "      <th></th>\n",
              "      <th></th>\n",
              "      <th></th>\n",
              "      <th></th>\n",
              "    </tr>\n",
              "  </thead>\n",
              "  <tbody>\n",
              "    <tr>\n",
              "      <th>2010-01-04</th>\n",
              "      <td>103.309998</td>\n",
              "      <td>20.739000</td>\n",
              "      <td>32.700001</td>\n",
              "      <td>63.380001</td>\n",
              "      <td>14.622500</td>\n",
              "      <td>12.871800</td>\n",
              "      <td>6312.120117</td>\n",
              "    </tr>\n",
              "    <tr>\n",
              "      <th>2010-01-05</th>\n",
              "      <td>103.779999</td>\n",
              "      <td>20.472000</td>\n",
              "      <td>33.029999</td>\n",
              "      <td>63.799999</td>\n",
              "      <td>14.600000</td>\n",
              "      <td>12.810800</td>\n",
              "      <td>6365.080078</td>\n",
              "    </tr>\n",
              "    <tr>\n",
              "      <th>2010-01-06</th>\n",
              "      <td>103.720001</td>\n",
              "      <td>20.410999</td>\n",
              "      <td>33.270000</td>\n",
              "      <td>64.589996</td>\n",
              "      <td>14.497500</td>\n",
              "      <td>12.739500</td>\n",
              "      <td>6361.410156</td>\n",
              "    </tr>\n",
              "    <tr>\n",
              "      <th>2010-01-07</th>\n",
              "      <td>103.599998</td>\n",
              "      <td>20.329000</td>\n",
              "      <td>33.110001</td>\n",
              "      <td>64.309998</td>\n",
              "      <td>14.442500</td>\n",
              "      <td>12.760200</td>\n",
              "      <td>6389.250000</td>\n",
              "    </tr>\n",
              "    <tr>\n",
              "      <th>2010-01-08</th>\n",
              "      <td>103.660004</td>\n",
              "      <td>20.322001</td>\n",
              "      <td>33.180000</td>\n",
              "      <td>64.620003</td>\n",
              "      <td>14.552500</td>\n",
              "      <td>12.684200</td>\n",
              "      <td>6363.479980</td>\n",
              "    </tr>\n",
              "    <tr>\n",
              "      <th>...</th>\n",
              "      <td>...</td>\n",
              "      <td>...</td>\n",
              "      <td>...</td>\n",
              "      <td>...</td>\n",
              "      <td>...</td>\n",
              "      <td>...</td>\n",
              "      <td>...</td>\n",
              "    </tr>\n",
              "    <tr>\n",
              "      <th>2023-12-04</th>\n",
              "      <td>96.459999</td>\n",
              "      <td>21.849300</td>\n",
              "      <td>20.330000</td>\n",
              "      <td>83.105003</td>\n",
              "      <td>116.190002</td>\n",
              "      <td>17.188761</td>\n",
              "      <td>6706.500000</td>\n",
              "    </tr>\n",
              "    <tr>\n",
              "      <th>2023-12-05</th>\n",
              "      <td>97.099998</td>\n",
              "      <td>22.064600</td>\n",
              "      <td>20.180000</td>\n",
              "      <td>82.839996</td>\n",
              "      <td>116.820000</td>\n",
              "      <td>17.454100</td>\n",
              "      <td>6773.500000</td>\n",
              "    </tr>\n",
              "    <tr>\n",
              "      <th>2023-12-06</th>\n",
              "      <td>97.349998</td>\n",
              "      <td>21.861425</td>\n",
              "      <td>19.620001</td>\n",
              "      <td>83.309998</td>\n",
              "      <td>115.720001</td>\n",
              "      <td>17.358299</td>\n",
              "      <td>6811.000000</td>\n",
              "    </tr>\n",
              "    <tr>\n",
              "      <th>2023-12-07</th>\n",
              "      <td>97.379997</td>\n",
              "      <td>21.709324</td>\n",
              "      <td>19.709999</td>\n",
              "      <td>83.320000</td>\n",
              "      <td>117.690002</td>\n",
              "      <td>17.287460</td>\n",
              "      <td>6825.500000</td>\n",
              "    </tr>\n",
              "    <tr>\n",
              "      <th>2023-12-08</th>\n",
              "      <td>96.889999</td>\n",
              "      <td>21.993605</td>\n",
              "      <td>19.920000</td>\n",
              "      <td>82.605003</td>\n",
              "      <td>118.540001</td>\n",
              "      <td>17.472050</td>\n",
              "      <td>6802.000000</td>\n",
              "    </tr>\n",
              "  </tbody>\n",
              "</table>\n",
              "<p>3439 rows × 7 columns</p>\n",
              "</div>\n",
              "    <div class=\"colab-df-buttons\">\n",
              "\n",
              "  <div class=\"colab-df-container\">\n",
              "    <button class=\"colab-df-convert\" onclick=\"convertToInteractive('df-a79438d5-a47c-4501-9d87-f4f1eb71fc0f')\"\n",
              "            title=\"Convert this dataframe to an interactive table.\"\n",
              "            style=\"display:none;\">\n",
              "\n",
              "  <svg xmlns=\"http://www.w3.org/2000/svg\" height=\"24px\" viewBox=\"0 -960 960 960\">\n",
              "    <path d=\"M120-120v-720h720v720H120Zm60-500h600v-160H180v160Zm220 220h160v-160H400v160Zm0 220h160v-160H400v160ZM180-400h160v-160H180v160Zm440 0h160v-160H620v160ZM180-180h160v-160H180v160Zm440 0h160v-160H620v160Z\"/>\n",
              "  </svg>\n",
              "    </button>\n",
              "\n",
              "  <style>\n",
              "    .colab-df-container {\n",
              "      display:flex;\n",
              "      gap: 12px;\n",
              "    }\n",
              "\n",
              "    .colab-df-convert {\n",
              "      background-color: #E8F0FE;\n",
              "      border: none;\n",
              "      border-radius: 50%;\n",
              "      cursor: pointer;\n",
              "      display: none;\n",
              "      fill: #1967D2;\n",
              "      height: 32px;\n",
              "      padding: 0 0 0 0;\n",
              "      width: 32px;\n",
              "    }\n",
              "\n",
              "    .colab-df-convert:hover {\n",
              "      background-color: #E2EBFA;\n",
              "      box-shadow: 0px 1px 2px rgba(60, 64, 67, 0.3), 0px 1px 3px 1px rgba(60, 64, 67, 0.15);\n",
              "      fill: #174EA6;\n",
              "    }\n",
              "\n",
              "    .colab-df-buttons div {\n",
              "      margin-bottom: 4px;\n",
              "    }\n",
              "\n",
              "    [theme=dark] .colab-df-convert {\n",
              "      background-color: #3B4455;\n",
              "      fill: #D2E3FC;\n",
              "    }\n",
              "\n",
              "    [theme=dark] .colab-df-convert:hover {\n",
              "      background-color: #434B5C;\n",
              "      box-shadow: 0px 1px 3px 1px rgba(0, 0, 0, 0.15);\n",
              "      filter: drop-shadow(0px 1px 2px rgba(0, 0, 0, 0.3));\n",
              "      fill: #FFFFFF;\n",
              "    }\n",
              "  </style>\n",
              "\n",
              "    <script>\n",
              "      const buttonEl =\n",
              "        document.querySelector('#df-a79438d5-a47c-4501-9d87-f4f1eb71fc0f button.colab-df-convert');\n",
              "      buttonEl.style.display =\n",
              "        google.colab.kernel.accessAllowed ? 'block' : 'none';\n",
              "\n",
              "      async function convertToInteractive(key) {\n",
              "        const element = document.querySelector('#df-a79438d5-a47c-4501-9d87-f4f1eb71fc0f');\n",
              "        const dataTable =\n",
              "          await google.colab.kernel.invokeFunction('convertToInteractive',\n",
              "                                                    [key], {});\n",
              "        if (!dataTable) return;\n",
              "\n",
              "        const docLinkHtml = 'Like what you see? Visit the ' +\n",
              "          '<a target=\"_blank\" href=https://colab.research.google.com/notebooks/data_table.ipynb>data table notebook</a>'\n",
              "          + ' to learn more about interactive tables.';\n",
              "        element.innerHTML = '';\n",
              "        dataTable['output_type'] = 'display_data';\n",
              "        await google.colab.output.renderOutput(dataTable, element);\n",
              "        const docLink = document.createElement('div');\n",
              "        docLink.innerHTML = docLinkHtml;\n",
              "        element.appendChild(docLink);\n",
              "      }\n",
              "    </script>\n",
              "  </div>\n",
              "\n",
              "\n",
              "<div id=\"df-1149c966-baa8-428b-af51-b3fae74d3e43\">\n",
              "  <button class=\"colab-df-quickchart\" onclick=\"quickchart('df-1149c966-baa8-428b-af51-b3fae74d3e43')\"\n",
              "            title=\"Suggest charts\"\n",
              "            style=\"display:none;\">\n",
              "\n",
              "<svg xmlns=\"http://www.w3.org/2000/svg\" height=\"24px\"viewBox=\"0 0 24 24\"\n",
              "     width=\"24px\">\n",
              "    <g>\n",
              "        <path d=\"M19 3H5c-1.1 0-2 .9-2 2v14c0 1.1.9 2 2 2h14c1.1 0 2-.9 2-2V5c0-1.1-.9-2-2-2zM9 17H7v-7h2v7zm4 0h-2V7h2v10zm4 0h-2v-4h2v4z\"/>\n",
              "    </g>\n",
              "</svg>\n",
              "  </button>\n",
              "\n",
              "<style>\n",
              "  .colab-df-quickchart {\n",
              "      --bg-color: #E8F0FE;\n",
              "      --fill-color: #1967D2;\n",
              "      --hover-bg-color: #E2EBFA;\n",
              "      --hover-fill-color: #174EA6;\n",
              "      --disabled-fill-color: #AAA;\n",
              "      --disabled-bg-color: #DDD;\n",
              "  }\n",
              "\n",
              "  [theme=dark] .colab-df-quickchart {\n",
              "      --bg-color: #3B4455;\n",
              "      --fill-color: #D2E3FC;\n",
              "      --hover-bg-color: #434B5C;\n",
              "      --hover-fill-color: #FFFFFF;\n",
              "      --disabled-bg-color: #3B4455;\n",
              "      --disabled-fill-color: #666;\n",
              "  }\n",
              "\n",
              "  .colab-df-quickchart {\n",
              "    background-color: var(--bg-color);\n",
              "    border: none;\n",
              "    border-radius: 50%;\n",
              "    cursor: pointer;\n",
              "    display: none;\n",
              "    fill: var(--fill-color);\n",
              "    height: 32px;\n",
              "    padding: 0;\n",
              "    width: 32px;\n",
              "  }\n",
              "\n",
              "  .colab-df-quickchart:hover {\n",
              "    background-color: var(--hover-bg-color);\n",
              "    box-shadow: 0 1px 2px rgba(60, 64, 67, 0.3), 0 1px 3px 1px rgba(60, 64, 67, 0.15);\n",
              "    fill: var(--button-hover-fill-color);\n",
              "  }\n",
              "\n",
              "  .colab-df-quickchart-complete:disabled,\n",
              "  .colab-df-quickchart-complete:disabled:hover {\n",
              "    background-color: var(--disabled-bg-color);\n",
              "    fill: var(--disabled-fill-color);\n",
              "    box-shadow: none;\n",
              "  }\n",
              "\n",
              "  .colab-df-spinner {\n",
              "    border: 2px solid var(--fill-color);\n",
              "    border-color: transparent;\n",
              "    border-bottom-color: var(--fill-color);\n",
              "    animation:\n",
              "      spin 1s steps(1) infinite;\n",
              "  }\n",
              "\n",
              "  @keyframes spin {\n",
              "    0% {\n",
              "      border-color: transparent;\n",
              "      border-bottom-color: var(--fill-color);\n",
              "      border-left-color: var(--fill-color);\n",
              "    }\n",
              "    20% {\n",
              "      border-color: transparent;\n",
              "      border-left-color: var(--fill-color);\n",
              "      border-top-color: var(--fill-color);\n",
              "    }\n",
              "    30% {\n",
              "      border-color: transparent;\n",
              "      border-left-color: var(--fill-color);\n",
              "      border-top-color: var(--fill-color);\n",
              "      border-right-color: var(--fill-color);\n",
              "    }\n",
              "    40% {\n",
              "      border-color: transparent;\n",
              "      border-right-color: var(--fill-color);\n",
              "      border-top-color: var(--fill-color);\n",
              "    }\n",
              "    60% {\n",
              "      border-color: transparent;\n",
              "      border-right-color: var(--fill-color);\n",
              "    }\n",
              "    80% {\n",
              "      border-color: transparent;\n",
              "      border-right-color: var(--fill-color);\n",
              "      border-bottom-color: var(--fill-color);\n",
              "    }\n",
              "    90% {\n",
              "      border-color: transparent;\n",
              "      border-bottom-color: var(--fill-color);\n",
              "    }\n",
              "  }\n",
              "</style>\n",
              "\n",
              "  <script>\n",
              "    async function quickchart(key) {\n",
              "      const quickchartButtonEl =\n",
              "        document.querySelector('#' + key + ' button');\n",
              "      quickchartButtonEl.disabled = true;  // To prevent multiple clicks.\n",
              "      quickchartButtonEl.classList.add('colab-df-spinner');\n",
              "      try {\n",
              "        const charts = await google.colab.kernel.invokeFunction(\n",
              "            'suggestCharts', [key], {});\n",
              "      } catch (error) {\n",
              "        console.error('Error during call to suggestCharts:', error);\n",
              "      }\n",
              "      quickchartButtonEl.classList.remove('colab-df-spinner');\n",
              "      quickchartButtonEl.classList.add('colab-df-quickchart-complete');\n",
              "    }\n",
              "    (() => {\n",
              "      let quickchartButtonEl =\n",
              "        document.querySelector('#df-1149c966-baa8-428b-af51-b3fae74d3e43 button');\n",
              "      quickchartButtonEl.style.display =\n",
              "        google.colab.kernel.accessAllowed ? 'block' : 'none';\n",
              "    })();\n",
              "  </script>\n",
              "</div>\n",
              "    </div>\n",
              "  </div>\n"
            ]
          },
          "metadata": {},
          "execution_count": 988
        }
      ]
    },
    {
      "cell_type": "code",
      "source": [
        "#Pasando a pesos todo\n",
        "df[etfs[0]] = df[etfs[0]] * df[\"MXN=X\"]\n",
        "df[etfs[1]] = df[etfs[1]] * df[\"GBPMXN=X\"]\n",
        "df[etfs[2]] = df[etfs[2]]* df[\"MXN=X\"]\n",
        "df[etfs[3]] = df[etfs[3]] * df[\"MXN=X\"]\n",
        "df[etfs[4]] = df[etfs[4]] * df[\"MXN=X\"]"
      ],
      "metadata": {
        "id": "NqC3fMhQdbLH"
      },
      "execution_count": null,
      "outputs": []
    },
    {
      "cell_type": "markdown",
      "source": [
        "Obtenemos Rendimientos de los activos"
      ],
      "metadata": {
        "id": "EekqHKEIUHMQ"
      }
    },
    {
      "cell_type": "code",
      "source": [
        "#Calculando Retornos\n",
        "returns = df.pct_change().fillna(0)\n",
        "tasasdecambio = [\"GBPMXN=X\", \"MXN=X\"]\n",
        "returns = returns.drop(tasasdecambio, axis = 1)\n",
        "returns_1 = returns.copy()"
      ],
      "metadata": {
        "id": "16sHfCxAULzd"
      },
      "execution_count": null,
      "outputs": []
    },
    {
      "cell_type": "markdown",
      "source": [
        "Vamos a definir los datos para los dias del mercado mexicano."
      ],
      "metadata": {
        "id": "vfF2B89zfc6R"
      }
    },
    {
      "cell_type": "code",
      "source": [
        "# Obtén el calendario para la Bolsa de Mexicana\n",
        "mex_cal = xcals.get_calendar('XMEX')"
      ],
      "metadata": {
        "id": "UPURCJGAfk4Q"
      },
      "execution_count": null,
      "outputs": []
    },
    {
      "cell_type": "markdown",
      "source": [
        "Vamos a definir una funcion para obtener las distintas ventanas de tiempo.\n"
      ],
      "metadata": {
        "id": "vxyZaFTEijLl"
      }
    },
    {
      "cell_type": "code",
      "source": [
        "def calcular_fechas(hoy: pd.Timestamp):\n",
        "    # Obtén el calendario de la bolsa de México\n",
        "    xmex = xcals.get_calendar(\"XMEX\")\n",
        "\n",
        "    # Si el día de la semana es lunes (0 en el sistema Python weekday()), retrocede 3 días\n",
        "    if hoy.weekday() == 0:\n",
        "        prev_business_day = hoy - pd.Timedelta(days=3)\n",
        "    # De lo contrario, solo retrocede un día\n",
        "    else:\n",
        "        prev_business_day = hoy - pd.Timedelta(days=1)\n",
        "\n",
        "    # Si el día calculado no es un día hábil, busca el día hábil más reciente\n",
        "    if not xmex.is_session(prev_business_day):\n",
        "        prev_business_day = xmex.previous_close(prev_business_day).to_pydatetime()\n",
        "\n",
        "    ayer = prev_business_day\n",
        "\n",
        "    # Crear un diccionario para almacenar los resultados\n",
        "    resultado = {}\n",
        "\n",
        "    # Mes hasta la fecha\n",
        "    primer_dia_mes = xmex.date_to_session(hoy.replace(day=1), direction=\"next\")\n",
        "    if hoy == primer_dia_mes:\n",
        "        # Si hoy es el primer día hábil del mes, toma el primer día hábil del mes anterior\n",
        "        mes_anterior = hoy - pd.DateOffset(months=1)\n",
        "        primer_dia_mes = xmex.date_to_session(mes_anterior.replace(day=1), direction=\"next\")\n",
        "\n",
        "    # Calcula los días hábiles entre el primer día del mes y hoy\n",
        "    dias_habiles = len(xmex.sessions_in_range(primer_dia_mes, hoy))+1\n",
        "\n",
        "    # Usa estos días hábiles para obtener la ventana de sesiones\n",
        "    mes_hasta_fecha = xmex.sessions_window(hoy, -dias_habiles)\n",
        "\n",
        "    # Año hasta la fecha\n",
        "    primer_dia_año = xmex.date_to_session(hoy.replace(month=1, day=1), direction=\"next\")\n",
        "    if hoy == primer_dia_año:\n",
        "        # Si hoy es el primer día hábil del año, toma el primer día hábil del año anterior\n",
        "        año_anterior = hoy - pd.DateOffset(years=1)\n",
        "        primer_dia_año = xmex.date_to_session(año_anterior.replace(month=1, day=1), direction=\"next\")\n",
        "\n",
        "    # Calcula los días hábiles entre el primer día del año y hoy\n",
        "    dias_habiles = len(xmex.sessions_in_range(primer_dia_año, hoy))+1\n",
        "\n",
        "    # Usa estos días hábiles para obtener la ventana de sesiones\n",
        "    año_hasta_fecha = xmex.sessions_window(hoy, -dias_habiles)\n",
        "\n",
        "    # Fecha de hace un mes\n",
        "    hace_un_mes = hoy - pd.DateOffset(months=1)\n",
        "\n",
        "    # Encuentra el día hábil más cercano en el pasado a hace_un_mes\n",
        "    dia_habil_hace_un_mes = xmex.date_to_session(hace_un_mes, direction=\"previous\")\n",
        "\n",
        "    # Obtén todas las sesiones desde hace_un_mes hasta hoy\n",
        "    ultimos_30_dias = xmex.sessions_in_range(dia_habil_hace_un_mes, hoy)\n",
        "\n",
        "    # Fecha de hace tres meses\n",
        "    hace_tres_meses = hoy - pd.DateOffset(months=3)\n",
        "\n",
        "    # Encuentra el día hábil más cercano en el pasado a hace_tres_meses\n",
        "    dia_habil_hace_tres_meses = xmex.date_to_session(hace_tres_meses, direction=\"previous\")\n",
        "\n",
        "    # Obtén todas las sesiones desde hace_tres_meses hasta hoy\n",
        "    ultimos_90_dias = xmex.sessions_in_range(dia_habil_hace_tres_meses, hoy)\n",
        "\n",
        "    # Fecha de hace seis meses\n",
        "    hace_seis_meses = hoy - pd.DateOffset(months=6)\n",
        "\n",
        "    # Encuentra el día hábil más cercano en el pasado a hace_seis_meses\n",
        "    dia_habil_hace_seis_meses = xmex.date_to_session(hace_seis_meses, direction=\"previous\")\n",
        "\n",
        "    # Obtén todas las sesiones desde hace_seis_meses hasta hoy\n",
        "    ultimos_180_dias = xmex.sessions_in_range(dia_habil_hace_seis_meses, hoy)\n",
        "\n",
        "    # Fecha de hace un año\n",
        "    hace_un_año = hoy - pd.DateOffset(years=1)\n",
        "\n",
        "    # Encuentra el día hábil más cercano en el pasado a hace_un_año\n",
        "    dia_habil_hace_un_año = xmex.date_to_session(hace_un_año, direction=\"previous\")\n",
        "\n",
        "    # Obtén todas las sesiones desde hace_un_año hasta hoy\n",
        "    ultimos_365_dias = xmex.sessions_in_range(dia_habil_hace_un_año, hoy)\n",
        "\n",
        "    resultado['mes_hasta_fecha'] = mes_hasta_fecha\n",
        "    resultado['año_hasta_fecha'] = año_hasta_fecha\n",
        "    resultado['ultimos_30_dias'] = ultimos_30_dias\n",
        "    resultado['ultimos_90_dias'] = ultimos_90_dias\n",
        "    resultado['ultimos_180_dias'] = ultimos_180_dias\n",
        "    resultado['ultimos_365_dias'] = ultimos_365_dias\n",
        "\n",
        "    return resultado"
      ],
      "metadata": {
        "id": "LcfSmZ-ZfyQ_"
      },
      "execution_count": null,
      "outputs": []
    },
    {
      "cell_type": "markdown",
      "source": [
        "Definiremos dos funciones, una para obtener los rendimientos anualizados y otra para los rendimientos brutos para cada activo."
      ],
      "metadata": {
        "id": "1YZ0gG1wi-w0"
      }
    },
    {
      "cell_type": "code",
      "source": [
        "def anualizar_rendimiento(rendimiento_bruto, dias):\n",
        "    rendimiento_anualizado = rendimiento_bruto / dias * 360\n",
        "    return rendimiento_anualizado\n",
        "\n",
        "def calcular_rendimiento_bruto(precio_inicio, precio_fin, dias):\n",
        "    # Calcular el cambio porcentual en el precio\n",
        "    cambio_pct = (precio_fin / precio_inicio) - 1\n",
        "\n",
        "    # Calcular el rendimiento bruto\n",
        "    rendimiento_bruto = cambio_pct\n",
        "    return rendimiento_bruto"
      ],
      "metadata": {
        "id": "DulIbT9UgDpA"
      },
      "execution_count": null,
      "outputs": []
    },
    {
      "cell_type": "markdown",
      "source": [
        "Definiremos una funcion para obtener los rendimientos de cada activo utilizando las ventanas de tiempo y la anualización de rendimientos ya planteados."
      ],
      "metadata": {
        "id": "FRIad4L0juV7"
      }
    },
    {
      "cell_type": "code",
      "source": [
        "def calcular_rendimiento(precios, ventanas_de_tiempo, nombre_benchmark):\n",
        "    rendimientos = []\n",
        "\n",
        "    for periodo, ventana in ventanas_de_tiempo.items():\n",
        "        # Obtén los precios de inicio y fin para la ventana de tiempo actual\n",
        "        precio_inicio = precios.loc[ventana[0], nombre_benchmark]\n",
        "        precio_fin = precios.loc[ventana[-1], nombre_benchmark]\n",
        "\n",
        "        # Calcula el rendimiento bruto y anualizado\n",
        "        rendimiento_bruto = calcular_rendimiento_bruto(precio_inicio, precio_fin, (ventana[-1] - ventana[0]).days)\n",
        "        rendimiento_anualizado = anualizar_rendimiento(rendimiento_bruto, (ventana[-1] - ventana[0]).days)\n",
        "\n",
        "        # Agrega el rendimiento a la lista de rendimientos\n",
        "        rendimientos.append({\n",
        "            'Periodo': periodo,\n",
        "            'Rendimiento_bruto': rendimiento_bruto*100,\n",
        "            'Rendimiento_anualizado': rendimiento_anualizado*100\n",
        "        })\n",
        "\n",
        "    # Convierte la lista de rendimientos en un dataframe\n",
        "    df_rendimientos = pd.DataFrame(rendimientos)\n",
        "\n",
        "    return df_rendimientos"
      ],
      "metadata": {
        "id": "ddMQ0idygN_E"
      },
      "execution_count": null,
      "outputs": []
    },
    {
      "cell_type": "markdown",
      "source": [
        "Definimos una fecha limite para nuestras ventanas."
      ],
      "metadata": {
        "id": "QWzJaxq9kNkB"
      }
    },
    {
      "cell_type": "code",
      "source": [
        "hoy = pd.Timestamp(\"2023-11-30\")\n",
        "\n",
        "ventanas = calcular_fechas(hoy)"
      ],
      "metadata": {
        "id": "gqRyS0i0HWjO"
      },
      "execution_count": null,
      "outputs": []
    },
    {
      "cell_type": "markdown",
      "source": [
        "Definimos una función para obtener cada una de las tablas de los rendimientos de cada activo."
      ],
      "metadata": {
        "id": "gd5f1g7Vhutm"
      }
    },
    {
      "cell_type": "code",
      "source": [
        "df_rendimientos_1 = calcular_rendimiento(df, ventanas, etfs[0])\n",
        "df_rendimientos_1"
      ],
      "metadata": {
        "colab": {
          "base_uri": "https://localhost:8080/",
          "height": 238
        },
        "id": "uOFczcFYgUfF",
        "outputId": "f4d88e1c-2128-4fcd-d809-deb466c942ad"
      },
      "execution_count": null,
      "outputs": [
        {
          "output_type": "execute_result",
          "data": {
            "text/plain": [
              "            Periodo  Rendimiento_bruto  Rendimiento_anualizado\n",
              "0   mes_hasta_fecha          -0.142711               -1.712531\n",
              "1   año_hasta_fecha         -11.845644              -12.729648\n",
              "2   ultimos_30_dias          -0.523899               -6.083987\n",
              "3   ultimos_90_dias           2.529271                9.897148\n",
              "4  ultimos_180_dias          -3.755369               -7.347462\n",
              "5  ultimos_365_dias         -11.991181              -11.826919"
            ],
            "text/html": [
              "\n",
              "  <div id=\"df-cb930ba0-c39f-4723-8121-9646da0547a4\" class=\"colab-df-container\">\n",
              "    <div>\n",
              "<style scoped>\n",
              "    .dataframe tbody tr th:only-of-type {\n",
              "        vertical-align: middle;\n",
              "    }\n",
              "\n",
              "    .dataframe tbody tr th {\n",
              "        vertical-align: top;\n",
              "    }\n",
              "\n",
              "    .dataframe thead th {\n",
              "        text-align: right;\n",
              "    }\n",
              "</style>\n",
              "<table border=\"1\" class=\"dataframe\">\n",
              "  <thead>\n",
              "    <tr style=\"text-align: right;\">\n",
              "      <th></th>\n",
              "      <th>Periodo</th>\n",
              "      <th>Rendimiento_bruto</th>\n",
              "      <th>Rendimiento_anualizado</th>\n",
              "    </tr>\n",
              "  </thead>\n",
              "  <tbody>\n",
              "    <tr>\n",
              "      <th>0</th>\n",
              "      <td>mes_hasta_fecha</td>\n",
              "      <td>-0.142711</td>\n",
              "      <td>-1.712531</td>\n",
              "    </tr>\n",
              "    <tr>\n",
              "      <th>1</th>\n",
              "      <td>año_hasta_fecha</td>\n",
              "      <td>-11.845644</td>\n",
              "      <td>-12.729648</td>\n",
              "    </tr>\n",
              "    <tr>\n",
              "      <th>2</th>\n",
              "      <td>ultimos_30_dias</td>\n",
              "      <td>-0.523899</td>\n",
              "      <td>-6.083987</td>\n",
              "    </tr>\n",
              "    <tr>\n",
              "      <th>3</th>\n",
              "      <td>ultimos_90_dias</td>\n",
              "      <td>2.529271</td>\n",
              "      <td>9.897148</td>\n",
              "    </tr>\n",
              "    <tr>\n",
              "      <th>4</th>\n",
              "      <td>ultimos_180_dias</td>\n",
              "      <td>-3.755369</td>\n",
              "      <td>-7.347462</td>\n",
              "    </tr>\n",
              "    <tr>\n",
              "      <th>5</th>\n",
              "      <td>ultimos_365_dias</td>\n",
              "      <td>-11.991181</td>\n",
              "      <td>-11.826919</td>\n",
              "    </tr>\n",
              "  </tbody>\n",
              "</table>\n",
              "</div>\n",
              "    <div class=\"colab-df-buttons\">\n",
              "\n",
              "  <div class=\"colab-df-container\">\n",
              "    <button class=\"colab-df-convert\" onclick=\"convertToInteractive('df-cb930ba0-c39f-4723-8121-9646da0547a4')\"\n",
              "            title=\"Convert this dataframe to an interactive table.\"\n",
              "            style=\"display:none;\">\n",
              "\n",
              "  <svg xmlns=\"http://www.w3.org/2000/svg\" height=\"24px\" viewBox=\"0 -960 960 960\">\n",
              "    <path d=\"M120-120v-720h720v720H120Zm60-500h600v-160H180v160Zm220 220h160v-160H400v160Zm0 220h160v-160H400v160ZM180-400h160v-160H180v160Zm440 0h160v-160H620v160ZM180-180h160v-160H180v160Zm440 0h160v-160H620v160Z\"/>\n",
              "  </svg>\n",
              "    </button>\n",
              "\n",
              "  <style>\n",
              "    .colab-df-container {\n",
              "      display:flex;\n",
              "      gap: 12px;\n",
              "    }\n",
              "\n",
              "    .colab-df-convert {\n",
              "      background-color: #E8F0FE;\n",
              "      border: none;\n",
              "      border-radius: 50%;\n",
              "      cursor: pointer;\n",
              "      display: none;\n",
              "      fill: #1967D2;\n",
              "      height: 32px;\n",
              "      padding: 0 0 0 0;\n",
              "      width: 32px;\n",
              "    }\n",
              "\n",
              "    .colab-df-convert:hover {\n",
              "      background-color: #E2EBFA;\n",
              "      box-shadow: 0px 1px 2px rgba(60, 64, 67, 0.3), 0px 1px 3px 1px rgba(60, 64, 67, 0.15);\n",
              "      fill: #174EA6;\n",
              "    }\n",
              "\n",
              "    .colab-df-buttons div {\n",
              "      margin-bottom: 4px;\n",
              "    }\n",
              "\n",
              "    [theme=dark] .colab-df-convert {\n",
              "      background-color: #3B4455;\n",
              "      fill: #D2E3FC;\n",
              "    }\n",
              "\n",
              "    [theme=dark] .colab-df-convert:hover {\n",
              "      background-color: #434B5C;\n",
              "      box-shadow: 0px 1px 3px 1px rgba(0, 0, 0, 0.15);\n",
              "      filter: drop-shadow(0px 1px 2px rgba(0, 0, 0, 0.3));\n",
              "      fill: #FFFFFF;\n",
              "    }\n",
              "  </style>\n",
              "\n",
              "    <script>\n",
              "      const buttonEl =\n",
              "        document.querySelector('#df-cb930ba0-c39f-4723-8121-9646da0547a4 button.colab-df-convert');\n",
              "      buttonEl.style.display =\n",
              "        google.colab.kernel.accessAllowed ? 'block' : 'none';\n",
              "\n",
              "      async function convertToInteractive(key) {\n",
              "        const element = document.querySelector('#df-cb930ba0-c39f-4723-8121-9646da0547a4');\n",
              "        const dataTable =\n",
              "          await google.colab.kernel.invokeFunction('convertToInteractive',\n",
              "                                                    [key], {});\n",
              "        if (!dataTable) return;\n",
              "\n",
              "        const docLinkHtml = 'Like what you see? Visit the ' +\n",
              "          '<a target=\"_blank\" href=https://colab.research.google.com/notebooks/data_table.ipynb>data table notebook</a>'\n",
              "          + ' to learn more about interactive tables.';\n",
              "        element.innerHTML = '';\n",
              "        dataTable['output_type'] = 'display_data';\n",
              "        await google.colab.output.renderOutput(dataTable, element);\n",
              "        const docLink = document.createElement('div');\n",
              "        docLink.innerHTML = docLinkHtml;\n",
              "        element.appendChild(docLink);\n",
              "      }\n",
              "    </script>\n",
              "  </div>\n",
              "\n",
              "\n",
              "<div id=\"df-c113feb4-62e7-45e2-bb19-fea147c5eda1\">\n",
              "  <button class=\"colab-df-quickchart\" onclick=\"quickchart('df-c113feb4-62e7-45e2-bb19-fea147c5eda1')\"\n",
              "            title=\"Suggest charts\"\n",
              "            style=\"display:none;\">\n",
              "\n",
              "<svg xmlns=\"http://www.w3.org/2000/svg\" height=\"24px\"viewBox=\"0 0 24 24\"\n",
              "     width=\"24px\">\n",
              "    <g>\n",
              "        <path d=\"M19 3H5c-1.1 0-2 .9-2 2v14c0 1.1.9 2 2 2h14c1.1 0 2-.9 2-2V5c0-1.1-.9-2-2-2zM9 17H7v-7h2v7zm4 0h-2V7h2v10zm4 0h-2v-4h2v4z\"/>\n",
              "    </g>\n",
              "</svg>\n",
              "  </button>\n",
              "\n",
              "<style>\n",
              "  .colab-df-quickchart {\n",
              "      --bg-color: #E8F0FE;\n",
              "      --fill-color: #1967D2;\n",
              "      --hover-bg-color: #E2EBFA;\n",
              "      --hover-fill-color: #174EA6;\n",
              "      --disabled-fill-color: #AAA;\n",
              "      --disabled-bg-color: #DDD;\n",
              "  }\n",
              "\n",
              "  [theme=dark] .colab-df-quickchart {\n",
              "      --bg-color: #3B4455;\n",
              "      --fill-color: #D2E3FC;\n",
              "      --hover-bg-color: #434B5C;\n",
              "      --hover-fill-color: #FFFFFF;\n",
              "      --disabled-bg-color: #3B4455;\n",
              "      --disabled-fill-color: #666;\n",
              "  }\n",
              "\n",
              "  .colab-df-quickchart {\n",
              "    background-color: var(--bg-color);\n",
              "    border: none;\n",
              "    border-radius: 50%;\n",
              "    cursor: pointer;\n",
              "    display: none;\n",
              "    fill: var(--fill-color);\n",
              "    height: 32px;\n",
              "    padding: 0;\n",
              "    width: 32px;\n",
              "  }\n",
              "\n",
              "  .colab-df-quickchart:hover {\n",
              "    background-color: var(--hover-bg-color);\n",
              "    box-shadow: 0 1px 2px rgba(60, 64, 67, 0.3), 0 1px 3px 1px rgba(60, 64, 67, 0.15);\n",
              "    fill: var(--button-hover-fill-color);\n",
              "  }\n",
              "\n",
              "  .colab-df-quickchart-complete:disabled,\n",
              "  .colab-df-quickchart-complete:disabled:hover {\n",
              "    background-color: var(--disabled-bg-color);\n",
              "    fill: var(--disabled-fill-color);\n",
              "    box-shadow: none;\n",
              "  }\n",
              "\n",
              "  .colab-df-spinner {\n",
              "    border: 2px solid var(--fill-color);\n",
              "    border-color: transparent;\n",
              "    border-bottom-color: var(--fill-color);\n",
              "    animation:\n",
              "      spin 1s steps(1) infinite;\n",
              "  }\n",
              "\n",
              "  @keyframes spin {\n",
              "    0% {\n",
              "      border-color: transparent;\n",
              "      border-bottom-color: var(--fill-color);\n",
              "      border-left-color: var(--fill-color);\n",
              "    }\n",
              "    20% {\n",
              "      border-color: transparent;\n",
              "      border-left-color: var(--fill-color);\n",
              "      border-top-color: var(--fill-color);\n",
              "    }\n",
              "    30% {\n",
              "      border-color: transparent;\n",
              "      border-left-color: var(--fill-color);\n",
              "      border-top-color: var(--fill-color);\n",
              "      border-right-color: var(--fill-color);\n",
              "    }\n",
              "    40% {\n",
              "      border-color: transparent;\n",
              "      border-right-color: var(--fill-color);\n",
              "      border-top-color: var(--fill-color);\n",
              "    }\n",
              "    60% {\n",
              "      border-color: transparent;\n",
              "      border-right-color: var(--fill-color);\n",
              "    }\n",
              "    80% {\n",
              "      border-color: transparent;\n",
              "      border-right-color: var(--fill-color);\n",
              "      border-bottom-color: var(--fill-color);\n",
              "    }\n",
              "    90% {\n",
              "      border-color: transparent;\n",
              "      border-bottom-color: var(--fill-color);\n",
              "    }\n",
              "  }\n",
              "</style>\n",
              "\n",
              "  <script>\n",
              "    async function quickchart(key) {\n",
              "      const quickchartButtonEl =\n",
              "        document.querySelector('#' + key + ' button');\n",
              "      quickchartButtonEl.disabled = true;  // To prevent multiple clicks.\n",
              "      quickchartButtonEl.classList.add('colab-df-spinner');\n",
              "      try {\n",
              "        const charts = await google.colab.kernel.invokeFunction(\n",
              "            'suggestCharts', [key], {});\n",
              "      } catch (error) {\n",
              "        console.error('Error during call to suggestCharts:', error);\n",
              "      }\n",
              "      quickchartButtonEl.classList.remove('colab-df-spinner');\n",
              "      quickchartButtonEl.classList.add('colab-df-quickchart-complete');\n",
              "    }\n",
              "    (() => {\n",
              "      let quickchartButtonEl =\n",
              "        document.querySelector('#df-c113feb4-62e7-45e2-bb19-fea147c5eda1 button');\n",
              "      quickchartButtonEl.style.display =\n",
              "        google.colab.kernel.accessAllowed ? 'block' : 'none';\n",
              "    })();\n",
              "  </script>\n",
              "</div>\n",
              "    </div>\n",
              "  </div>\n"
            ]
          },
          "metadata": {},
          "execution_count": 996
        }
      ]
    },
    {
      "cell_type": "code",
      "source": [
        "df_rendimientos_2 = calcular_rendimiento(df, ventanas, etfs[1])\n",
        "df_rendimientos_2"
      ],
      "metadata": {
        "id": "MLOxduK6iGbG",
        "colab": {
          "base_uri": "https://localhost:8080/",
          "height": 238
        },
        "outputId": "d66ea691-bf85-44d1-9f6d-5ddcef559cf8"
      },
      "execution_count": null,
      "outputs": [
        {
          "output_type": "execute_result",
          "data": {
            "text/plain": [
              "            Periodo  Rendimiento_bruto  Rendimiento_anualizado\n",
              "0   mes_hasta_fecha           1.149664               13.795964\n",
              "1   año_hasta_fecha         -10.901658              -11.715214\n",
              "2   ultimos_30_dias           1.652404               19.189208\n",
              "3   ultimos_90_dias           3.844372               15.043194\n",
              "4  ultimos_180_dias          -0.124927               -0.244423\n",
              "5  ultimos_365_dias         -10.192395              -10.052774"
            ],
            "text/html": [
              "\n",
              "  <div id=\"df-87bc7ecf-8557-4da1-a851-2f590949f31f\" class=\"colab-df-container\">\n",
              "    <div>\n",
              "<style scoped>\n",
              "    .dataframe tbody tr th:only-of-type {\n",
              "        vertical-align: middle;\n",
              "    }\n",
              "\n",
              "    .dataframe tbody tr th {\n",
              "        vertical-align: top;\n",
              "    }\n",
              "\n",
              "    .dataframe thead th {\n",
              "        text-align: right;\n",
              "    }\n",
              "</style>\n",
              "<table border=\"1\" class=\"dataframe\">\n",
              "  <thead>\n",
              "    <tr style=\"text-align: right;\">\n",
              "      <th></th>\n",
              "      <th>Periodo</th>\n",
              "      <th>Rendimiento_bruto</th>\n",
              "      <th>Rendimiento_anualizado</th>\n",
              "    </tr>\n",
              "  </thead>\n",
              "  <tbody>\n",
              "    <tr>\n",
              "      <th>0</th>\n",
              "      <td>mes_hasta_fecha</td>\n",
              "      <td>1.149664</td>\n",
              "      <td>13.795964</td>\n",
              "    </tr>\n",
              "    <tr>\n",
              "      <th>1</th>\n",
              "      <td>año_hasta_fecha</td>\n",
              "      <td>-10.901658</td>\n",
              "      <td>-11.715214</td>\n",
              "    </tr>\n",
              "    <tr>\n",
              "      <th>2</th>\n",
              "      <td>ultimos_30_dias</td>\n",
              "      <td>1.652404</td>\n",
              "      <td>19.189208</td>\n",
              "    </tr>\n",
              "    <tr>\n",
              "      <th>3</th>\n",
              "      <td>ultimos_90_dias</td>\n",
              "      <td>3.844372</td>\n",
              "      <td>15.043194</td>\n",
              "    </tr>\n",
              "    <tr>\n",
              "      <th>4</th>\n",
              "      <td>ultimos_180_dias</td>\n",
              "      <td>-0.124927</td>\n",
              "      <td>-0.244423</td>\n",
              "    </tr>\n",
              "    <tr>\n",
              "      <th>5</th>\n",
              "      <td>ultimos_365_dias</td>\n",
              "      <td>-10.192395</td>\n",
              "      <td>-10.052774</td>\n",
              "    </tr>\n",
              "  </tbody>\n",
              "</table>\n",
              "</div>\n",
              "    <div class=\"colab-df-buttons\">\n",
              "\n",
              "  <div class=\"colab-df-container\">\n",
              "    <button class=\"colab-df-convert\" onclick=\"convertToInteractive('df-87bc7ecf-8557-4da1-a851-2f590949f31f')\"\n",
              "            title=\"Convert this dataframe to an interactive table.\"\n",
              "            style=\"display:none;\">\n",
              "\n",
              "  <svg xmlns=\"http://www.w3.org/2000/svg\" height=\"24px\" viewBox=\"0 -960 960 960\">\n",
              "    <path d=\"M120-120v-720h720v720H120Zm60-500h600v-160H180v160Zm220 220h160v-160H400v160Zm0 220h160v-160H400v160ZM180-400h160v-160H180v160Zm440 0h160v-160H620v160ZM180-180h160v-160H180v160Zm440 0h160v-160H620v160Z\"/>\n",
              "  </svg>\n",
              "    </button>\n",
              "\n",
              "  <style>\n",
              "    .colab-df-container {\n",
              "      display:flex;\n",
              "      gap: 12px;\n",
              "    }\n",
              "\n",
              "    .colab-df-convert {\n",
              "      background-color: #E8F0FE;\n",
              "      border: none;\n",
              "      border-radius: 50%;\n",
              "      cursor: pointer;\n",
              "      display: none;\n",
              "      fill: #1967D2;\n",
              "      height: 32px;\n",
              "      padding: 0 0 0 0;\n",
              "      width: 32px;\n",
              "    }\n",
              "\n",
              "    .colab-df-convert:hover {\n",
              "      background-color: #E2EBFA;\n",
              "      box-shadow: 0px 1px 2px rgba(60, 64, 67, 0.3), 0px 1px 3px 1px rgba(60, 64, 67, 0.15);\n",
              "      fill: #174EA6;\n",
              "    }\n",
              "\n",
              "    .colab-df-buttons div {\n",
              "      margin-bottom: 4px;\n",
              "    }\n",
              "\n",
              "    [theme=dark] .colab-df-convert {\n",
              "      background-color: #3B4455;\n",
              "      fill: #D2E3FC;\n",
              "    }\n",
              "\n",
              "    [theme=dark] .colab-df-convert:hover {\n",
              "      background-color: #434B5C;\n",
              "      box-shadow: 0px 1px 3px 1px rgba(0, 0, 0, 0.15);\n",
              "      filter: drop-shadow(0px 1px 2px rgba(0, 0, 0, 0.3));\n",
              "      fill: #FFFFFF;\n",
              "    }\n",
              "  </style>\n",
              "\n",
              "    <script>\n",
              "      const buttonEl =\n",
              "        document.querySelector('#df-87bc7ecf-8557-4da1-a851-2f590949f31f button.colab-df-convert');\n",
              "      buttonEl.style.display =\n",
              "        google.colab.kernel.accessAllowed ? 'block' : 'none';\n",
              "\n",
              "      async function convertToInteractive(key) {\n",
              "        const element = document.querySelector('#df-87bc7ecf-8557-4da1-a851-2f590949f31f');\n",
              "        const dataTable =\n",
              "          await google.colab.kernel.invokeFunction('convertToInteractive',\n",
              "                                                    [key], {});\n",
              "        if (!dataTable) return;\n",
              "\n",
              "        const docLinkHtml = 'Like what you see? Visit the ' +\n",
              "          '<a target=\"_blank\" href=https://colab.research.google.com/notebooks/data_table.ipynb>data table notebook</a>'\n",
              "          + ' to learn more about interactive tables.';\n",
              "        element.innerHTML = '';\n",
              "        dataTable['output_type'] = 'display_data';\n",
              "        await google.colab.output.renderOutput(dataTable, element);\n",
              "        const docLink = document.createElement('div');\n",
              "        docLink.innerHTML = docLinkHtml;\n",
              "        element.appendChild(docLink);\n",
              "      }\n",
              "    </script>\n",
              "  </div>\n",
              "\n",
              "\n",
              "<div id=\"df-79f331b2-3d57-4d81-907d-01fd53d601b5\">\n",
              "  <button class=\"colab-df-quickchart\" onclick=\"quickchart('df-79f331b2-3d57-4d81-907d-01fd53d601b5')\"\n",
              "            title=\"Suggest charts\"\n",
              "            style=\"display:none;\">\n",
              "\n",
              "<svg xmlns=\"http://www.w3.org/2000/svg\" height=\"24px\"viewBox=\"0 0 24 24\"\n",
              "     width=\"24px\">\n",
              "    <g>\n",
              "        <path d=\"M19 3H5c-1.1 0-2 .9-2 2v14c0 1.1.9 2 2 2h14c1.1 0 2-.9 2-2V5c0-1.1-.9-2-2-2zM9 17H7v-7h2v7zm4 0h-2V7h2v10zm4 0h-2v-4h2v4z\"/>\n",
              "    </g>\n",
              "</svg>\n",
              "  </button>\n",
              "\n",
              "<style>\n",
              "  .colab-df-quickchart {\n",
              "      --bg-color: #E8F0FE;\n",
              "      --fill-color: #1967D2;\n",
              "      --hover-bg-color: #E2EBFA;\n",
              "      --hover-fill-color: #174EA6;\n",
              "      --disabled-fill-color: #AAA;\n",
              "      --disabled-bg-color: #DDD;\n",
              "  }\n",
              "\n",
              "  [theme=dark] .colab-df-quickchart {\n",
              "      --bg-color: #3B4455;\n",
              "      --fill-color: #D2E3FC;\n",
              "      --hover-bg-color: #434B5C;\n",
              "      --hover-fill-color: #FFFFFF;\n",
              "      --disabled-bg-color: #3B4455;\n",
              "      --disabled-fill-color: #666;\n",
              "  }\n",
              "\n",
              "  .colab-df-quickchart {\n",
              "    background-color: var(--bg-color);\n",
              "    border: none;\n",
              "    border-radius: 50%;\n",
              "    cursor: pointer;\n",
              "    display: none;\n",
              "    fill: var(--fill-color);\n",
              "    height: 32px;\n",
              "    padding: 0;\n",
              "    width: 32px;\n",
              "  }\n",
              "\n",
              "  .colab-df-quickchart:hover {\n",
              "    background-color: var(--hover-bg-color);\n",
              "    box-shadow: 0 1px 2px rgba(60, 64, 67, 0.3), 0 1px 3px 1px rgba(60, 64, 67, 0.15);\n",
              "    fill: var(--button-hover-fill-color);\n",
              "  }\n",
              "\n",
              "  .colab-df-quickchart-complete:disabled,\n",
              "  .colab-df-quickchart-complete:disabled:hover {\n",
              "    background-color: var(--disabled-bg-color);\n",
              "    fill: var(--disabled-fill-color);\n",
              "    box-shadow: none;\n",
              "  }\n",
              "\n",
              "  .colab-df-spinner {\n",
              "    border: 2px solid var(--fill-color);\n",
              "    border-color: transparent;\n",
              "    border-bottom-color: var(--fill-color);\n",
              "    animation:\n",
              "      spin 1s steps(1) infinite;\n",
              "  }\n",
              "\n",
              "  @keyframes spin {\n",
              "    0% {\n",
              "      border-color: transparent;\n",
              "      border-bottom-color: var(--fill-color);\n",
              "      border-left-color: var(--fill-color);\n",
              "    }\n",
              "    20% {\n",
              "      border-color: transparent;\n",
              "      border-left-color: var(--fill-color);\n",
              "      border-top-color: var(--fill-color);\n",
              "    }\n",
              "    30% {\n",
              "      border-color: transparent;\n",
              "      border-left-color: var(--fill-color);\n",
              "      border-top-color: var(--fill-color);\n",
              "      border-right-color: var(--fill-color);\n",
              "    }\n",
              "    40% {\n",
              "      border-color: transparent;\n",
              "      border-right-color: var(--fill-color);\n",
              "      border-top-color: var(--fill-color);\n",
              "    }\n",
              "    60% {\n",
              "      border-color: transparent;\n",
              "      border-right-color: var(--fill-color);\n",
              "    }\n",
              "    80% {\n",
              "      border-color: transparent;\n",
              "      border-right-color: var(--fill-color);\n",
              "      border-bottom-color: var(--fill-color);\n",
              "    }\n",
              "    90% {\n",
              "      border-color: transparent;\n",
              "      border-bottom-color: var(--fill-color);\n",
              "    }\n",
              "  }\n",
              "</style>\n",
              "\n",
              "  <script>\n",
              "    async function quickchart(key) {\n",
              "      const quickchartButtonEl =\n",
              "        document.querySelector('#' + key + ' button');\n",
              "      quickchartButtonEl.disabled = true;  // To prevent multiple clicks.\n",
              "      quickchartButtonEl.classList.add('colab-df-spinner');\n",
              "      try {\n",
              "        const charts = await google.colab.kernel.invokeFunction(\n",
              "            'suggestCharts', [key], {});\n",
              "      } catch (error) {\n",
              "        console.error('Error during call to suggestCharts:', error);\n",
              "      }\n",
              "      quickchartButtonEl.classList.remove('colab-df-spinner');\n",
              "      quickchartButtonEl.classList.add('colab-df-quickchart-complete');\n",
              "    }\n",
              "    (() => {\n",
              "      let quickchartButtonEl =\n",
              "        document.querySelector('#df-79f331b2-3d57-4d81-907d-01fd53d601b5 button');\n",
              "      quickchartButtonEl.style.display =\n",
              "        google.colab.kernel.accessAllowed ? 'block' : 'none';\n",
              "    })();\n",
              "  </script>\n",
              "</div>\n",
              "    </div>\n",
              "  </div>\n"
            ]
          },
          "metadata": {},
          "execution_count": 997
        }
      ]
    },
    {
      "cell_type": "code",
      "source": [
        "df_rendimientos_3 = calcular_rendimiento(df, ventanas, etfs[2])\n",
        "df_rendimientos_3"
      ],
      "metadata": {
        "id": "C6w3ATFuiIdv",
        "colab": {
          "base_uri": "https://localhost:8080/",
          "height": 238
        },
        "outputId": "f0bc0e63-ad76-474d-d86d-4e5423342a2d"
      },
      "execution_count": null,
      "outputs": [
        {
          "output_type": "execute_result",
          "data": {
            "text/plain": [
              "            Periodo  Rendimiento_bruto  Rendimiento_anualizado\n",
              "0   mes_hasta_fecha           8.269727               99.236730\n",
              "1   año_hasta_fecha          39.834331               42.807042\n",
              "2   ultimos_30_dias           8.575565               99.587208\n",
              "3   ultimos_90_dias           8.849357               34.627920\n",
              "4  ultimos_180_dias          10.969551               21.462166\n",
              "5  ultimos_365_dias          29.433140               29.029946"
            ],
            "text/html": [
              "\n",
              "  <div id=\"df-43019a88-04cc-4575-a7ae-bfb05c9b6ca3\" class=\"colab-df-container\">\n",
              "    <div>\n",
              "<style scoped>\n",
              "    .dataframe tbody tr th:only-of-type {\n",
              "        vertical-align: middle;\n",
              "    }\n",
              "\n",
              "    .dataframe tbody tr th {\n",
              "        vertical-align: top;\n",
              "    }\n",
              "\n",
              "    .dataframe thead th {\n",
              "        text-align: right;\n",
              "    }\n",
              "</style>\n",
              "<table border=\"1\" class=\"dataframe\">\n",
              "  <thead>\n",
              "    <tr style=\"text-align: right;\">\n",
              "      <th></th>\n",
              "      <th>Periodo</th>\n",
              "      <th>Rendimiento_bruto</th>\n",
              "      <th>Rendimiento_anualizado</th>\n",
              "    </tr>\n",
              "  </thead>\n",
              "  <tbody>\n",
              "    <tr>\n",
              "      <th>0</th>\n",
              "      <td>mes_hasta_fecha</td>\n",
              "      <td>8.269727</td>\n",
              "      <td>99.236730</td>\n",
              "    </tr>\n",
              "    <tr>\n",
              "      <th>1</th>\n",
              "      <td>año_hasta_fecha</td>\n",
              "      <td>39.834331</td>\n",
              "      <td>42.807042</td>\n",
              "    </tr>\n",
              "    <tr>\n",
              "      <th>2</th>\n",
              "      <td>ultimos_30_dias</td>\n",
              "      <td>8.575565</td>\n",
              "      <td>99.587208</td>\n",
              "    </tr>\n",
              "    <tr>\n",
              "      <th>3</th>\n",
              "      <td>ultimos_90_dias</td>\n",
              "      <td>8.849357</td>\n",
              "      <td>34.627920</td>\n",
              "    </tr>\n",
              "    <tr>\n",
              "      <th>4</th>\n",
              "      <td>ultimos_180_dias</td>\n",
              "      <td>10.969551</td>\n",
              "      <td>21.462166</td>\n",
              "    </tr>\n",
              "    <tr>\n",
              "      <th>5</th>\n",
              "      <td>ultimos_365_dias</td>\n",
              "      <td>29.433140</td>\n",
              "      <td>29.029946</td>\n",
              "    </tr>\n",
              "  </tbody>\n",
              "</table>\n",
              "</div>\n",
              "    <div class=\"colab-df-buttons\">\n",
              "\n",
              "  <div class=\"colab-df-container\">\n",
              "    <button class=\"colab-df-convert\" onclick=\"convertToInteractive('df-43019a88-04cc-4575-a7ae-bfb05c9b6ca3')\"\n",
              "            title=\"Convert this dataframe to an interactive table.\"\n",
              "            style=\"display:none;\">\n",
              "\n",
              "  <svg xmlns=\"http://www.w3.org/2000/svg\" height=\"24px\" viewBox=\"0 -960 960 960\">\n",
              "    <path d=\"M120-120v-720h720v720H120Zm60-500h600v-160H180v160Zm220 220h160v-160H400v160Zm0 220h160v-160H400v160ZM180-400h160v-160H180v160Zm440 0h160v-160H620v160ZM180-180h160v-160H180v160Zm440 0h160v-160H620v160Z\"/>\n",
              "  </svg>\n",
              "    </button>\n",
              "\n",
              "  <style>\n",
              "    .colab-df-container {\n",
              "      display:flex;\n",
              "      gap: 12px;\n",
              "    }\n",
              "\n",
              "    .colab-df-convert {\n",
              "      background-color: #E8F0FE;\n",
              "      border: none;\n",
              "      border-radius: 50%;\n",
              "      cursor: pointer;\n",
              "      display: none;\n",
              "      fill: #1967D2;\n",
              "      height: 32px;\n",
              "      padding: 0 0 0 0;\n",
              "      width: 32px;\n",
              "    }\n",
              "\n",
              "    .colab-df-convert:hover {\n",
              "      background-color: #E2EBFA;\n",
              "      box-shadow: 0px 1px 2px rgba(60, 64, 67, 0.3), 0px 1px 3px 1px rgba(60, 64, 67, 0.15);\n",
              "      fill: #174EA6;\n",
              "    }\n",
              "\n",
              "    .colab-df-buttons div {\n",
              "      margin-bottom: 4px;\n",
              "    }\n",
              "\n",
              "    [theme=dark] .colab-df-convert {\n",
              "      background-color: #3B4455;\n",
              "      fill: #D2E3FC;\n",
              "    }\n",
              "\n",
              "    [theme=dark] .colab-df-convert:hover {\n",
              "      background-color: #434B5C;\n",
              "      box-shadow: 0px 1px 3px 1px rgba(0, 0, 0, 0.15);\n",
              "      filter: drop-shadow(0px 1px 2px rgba(0, 0, 0, 0.3));\n",
              "      fill: #FFFFFF;\n",
              "    }\n",
              "  </style>\n",
              "\n",
              "    <script>\n",
              "      const buttonEl =\n",
              "        document.querySelector('#df-43019a88-04cc-4575-a7ae-bfb05c9b6ca3 button.colab-df-convert');\n",
              "      buttonEl.style.display =\n",
              "        google.colab.kernel.accessAllowed ? 'block' : 'none';\n",
              "\n",
              "      async function convertToInteractive(key) {\n",
              "        const element = document.querySelector('#df-43019a88-04cc-4575-a7ae-bfb05c9b6ca3');\n",
              "        const dataTable =\n",
              "          await google.colab.kernel.invokeFunction('convertToInteractive',\n",
              "                                                    [key], {});\n",
              "        if (!dataTable) return;\n",
              "\n",
              "        const docLinkHtml = 'Like what you see? Visit the ' +\n",
              "          '<a target=\"_blank\" href=https://colab.research.google.com/notebooks/data_table.ipynb>data table notebook</a>'\n",
              "          + ' to learn more about interactive tables.';\n",
              "        element.innerHTML = '';\n",
              "        dataTable['output_type'] = 'display_data';\n",
              "        await google.colab.output.renderOutput(dataTable, element);\n",
              "        const docLink = document.createElement('div');\n",
              "        docLink.innerHTML = docLinkHtml;\n",
              "        element.appendChild(docLink);\n",
              "      }\n",
              "    </script>\n",
              "  </div>\n",
              "\n",
              "\n",
              "<div id=\"df-457d41c8-dd48-4ca9-be02-e260fc829c26\">\n",
              "  <button class=\"colab-df-quickchart\" onclick=\"quickchart('df-457d41c8-dd48-4ca9-be02-e260fc829c26')\"\n",
              "            title=\"Suggest charts\"\n",
              "            style=\"display:none;\">\n",
              "\n",
              "<svg xmlns=\"http://www.w3.org/2000/svg\" height=\"24px\"viewBox=\"0 0 24 24\"\n",
              "     width=\"24px\">\n",
              "    <g>\n",
              "        <path d=\"M19 3H5c-1.1 0-2 .9-2 2v14c0 1.1.9 2 2 2h14c1.1 0 2-.9 2-2V5c0-1.1-.9-2-2-2zM9 17H7v-7h2v7zm4 0h-2V7h2v10zm4 0h-2v-4h2v4z\"/>\n",
              "    </g>\n",
              "</svg>\n",
              "  </button>\n",
              "\n",
              "<style>\n",
              "  .colab-df-quickchart {\n",
              "      --bg-color: #E8F0FE;\n",
              "      --fill-color: #1967D2;\n",
              "      --hover-bg-color: #E2EBFA;\n",
              "      --hover-fill-color: #174EA6;\n",
              "      --disabled-fill-color: #AAA;\n",
              "      --disabled-bg-color: #DDD;\n",
              "  }\n",
              "\n",
              "  [theme=dark] .colab-df-quickchart {\n",
              "      --bg-color: #3B4455;\n",
              "      --fill-color: #D2E3FC;\n",
              "      --hover-bg-color: #434B5C;\n",
              "      --hover-fill-color: #FFFFFF;\n",
              "      --disabled-bg-color: #3B4455;\n",
              "      --disabled-fill-color: #666;\n",
              "  }\n",
              "\n",
              "  .colab-df-quickchart {\n",
              "    background-color: var(--bg-color);\n",
              "    border: none;\n",
              "    border-radius: 50%;\n",
              "    cursor: pointer;\n",
              "    display: none;\n",
              "    fill: var(--fill-color);\n",
              "    height: 32px;\n",
              "    padding: 0;\n",
              "    width: 32px;\n",
              "  }\n",
              "\n",
              "  .colab-df-quickchart:hover {\n",
              "    background-color: var(--hover-bg-color);\n",
              "    box-shadow: 0 1px 2px rgba(60, 64, 67, 0.3), 0 1px 3px 1px rgba(60, 64, 67, 0.15);\n",
              "    fill: var(--button-hover-fill-color);\n",
              "  }\n",
              "\n",
              "  .colab-df-quickchart-complete:disabled,\n",
              "  .colab-df-quickchart-complete:disabled:hover {\n",
              "    background-color: var(--disabled-bg-color);\n",
              "    fill: var(--disabled-fill-color);\n",
              "    box-shadow: none;\n",
              "  }\n",
              "\n",
              "  .colab-df-spinner {\n",
              "    border: 2px solid var(--fill-color);\n",
              "    border-color: transparent;\n",
              "    border-bottom-color: var(--fill-color);\n",
              "    animation:\n",
              "      spin 1s steps(1) infinite;\n",
              "  }\n",
              "\n",
              "  @keyframes spin {\n",
              "    0% {\n",
              "      border-color: transparent;\n",
              "      border-bottom-color: var(--fill-color);\n",
              "      border-left-color: var(--fill-color);\n",
              "    }\n",
              "    20% {\n",
              "      border-color: transparent;\n",
              "      border-left-color: var(--fill-color);\n",
              "      border-top-color: var(--fill-color);\n",
              "    }\n",
              "    30% {\n",
              "      border-color: transparent;\n",
              "      border-left-color: var(--fill-color);\n",
              "      border-top-color: var(--fill-color);\n",
              "      border-right-color: var(--fill-color);\n",
              "    }\n",
              "    40% {\n",
              "      border-color: transparent;\n",
              "      border-right-color: var(--fill-color);\n",
              "      border-top-color: var(--fill-color);\n",
              "    }\n",
              "    60% {\n",
              "      border-color: transparent;\n",
              "      border-right-color: var(--fill-color);\n",
              "    }\n",
              "    80% {\n",
              "      border-color: transparent;\n",
              "      border-right-color: var(--fill-color);\n",
              "      border-bottom-color: var(--fill-color);\n",
              "    }\n",
              "    90% {\n",
              "      border-color: transparent;\n",
              "      border-bottom-color: var(--fill-color);\n",
              "    }\n",
              "  }\n",
              "</style>\n",
              "\n",
              "  <script>\n",
              "    async function quickchart(key) {\n",
              "      const quickchartButtonEl =\n",
              "        document.querySelector('#' + key + ' button');\n",
              "      quickchartButtonEl.disabled = true;  // To prevent multiple clicks.\n",
              "      quickchartButtonEl.classList.add('colab-df-spinner');\n",
              "      try {\n",
              "        const charts = await google.colab.kernel.invokeFunction(\n",
              "            'suggestCharts', [key], {});\n",
              "      } catch (error) {\n",
              "        console.error('Error during call to suggestCharts:', error);\n",
              "      }\n",
              "      quickchartButtonEl.classList.remove('colab-df-spinner');\n",
              "      quickchartButtonEl.classList.add('colab-df-quickchart-complete');\n",
              "    }\n",
              "    (() => {\n",
              "      let quickchartButtonEl =\n",
              "        document.querySelector('#df-457d41c8-dd48-4ca9-be02-e260fc829c26 button');\n",
              "      quickchartButtonEl.style.display =\n",
              "        google.colab.kernel.accessAllowed ? 'block' : 'none';\n",
              "    })();\n",
              "  </script>\n",
              "</div>\n",
              "    </div>\n",
              "  </div>\n"
            ]
          },
          "metadata": {},
          "execution_count": 998
        }
      ]
    },
    {
      "cell_type": "code",
      "source": [
        "df_rendimientos_4 = calcular_rendimiento(df, ventanas, etfs[3])\n",
        "df_rendimientos_4"
      ],
      "metadata": {
        "id": "oKxRn5EDiIsc",
        "outputId": "47772e7b-77a1-44e5-8d0d-13871ec1b39c",
        "colab": {
          "base_uri": "https://localhost:8080/",
          "height": 238
        }
      },
      "execution_count": null,
      "outputs": [
        {
          "output_type": "execute_result",
          "data": {
            "text/plain": [
              "            Periodo  Rendimiento_bruto  Rendimiento_anualizado\n",
              "0   mes_hasta_fecha           4.235645               50.827734\n",
              "1   año_hasta_fecha           2.433832                2.615461\n",
              "2   ultimos_30_dias           4.411833               51.234191\n",
              "3   ultimos_90_dias           4.357067               17.049394\n",
              "4  ultimos_180_dias           8.750542               17.120626\n",
              "5  ultimos_365_dias           2.764547                2.726677"
            ],
            "text/html": [
              "\n",
              "  <div id=\"df-3637fbf7-5744-420e-aac7-7cc45d651ad6\" class=\"colab-df-container\">\n",
              "    <div>\n",
              "<style scoped>\n",
              "    .dataframe tbody tr th:only-of-type {\n",
              "        vertical-align: middle;\n",
              "    }\n",
              "\n",
              "    .dataframe tbody tr th {\n",
              "        vertical-align: top;\n",
              "    }\n",
              "\n",
              "    .dataframe thead th {\n",
              "        text-align: right;\n",
              "    }\n",
              "</style>\n",
              "<table border=\"1\" class=\"dataframe\">\n",
              "  <thead>\n",
              "    <tr style=\"text-align: right;\">\n",
              "      <th></th>\n",
              "      <th>Periodo</th>\n",
              "      <th>Rendimiento_bruto</th>\n",
              "      <th>Rendimiento_anualizado</th>\n",
              "    </tr>\n",
              "  </thead>\n",
              "  <tbody>\n",
              "    <tr>\n",
              "      <th>0</th>\n",
              "      <td>mes_hasta_fecha</td>\n",
              "      <td>4.235645</td>\n",
              "      <td>50.827734</td>\n",
              "    </tr>\n",
              "    <tr>\n",
              "      <th>1</th>\n",
              "      <td>año_hasta_fecha</td>\n",
              "      <td>2.433832</td>\n",
              "      <td>2.615461</td>\n",
              "    </tr>\n",
              "    <tr>\n",
              "      <th>2</th>\n",
              "      <td>ultimos_30_dias</td>\n",
              "      <td>4.411833</td>\n",
              "      <td>51.234191</td>\n",
              "    </tr>\n",
              "    <tr>\n",
              "      <th>3</th>\n",
              "      <td>ultimos_90_dias</td>\n",
              "      <td>4.357067</td>\n",
              "      <td>17.049394</td>\n",
              "    </tr>\n",
              "    <tr>\n",
              "      <th>4</th>\n",
              "      <td>ultimos_180_dias</td>\n",
              "      <td>8.750542</td>\n",
              "      <td>17.120626</td>\n",
              "    </tr>\n",
              "    <tr>\n",
              "      <th>5</th>\n",
              "      <td>ultimos_365_dias</td>\n",
              "      <td>2.764547</td>\n",
              "      <td>2.726677</td>\n",
              "    </tr>\n",
              "  </tbody>\n",
              "</table>\n",
              "</div>\n",
              "    <div class=\"colab-df-buttons\">\n",
              "\n",
              "  <div class=\"colab-df-container\">\n",
              "    <button class=\"colab-df-convert\" onclick=\"convertToInteractive('df-3637fbf7-5744-420e-aac7-7cc45d651ad6')\"\n",
              "            title=\"Convert this dataframe to an interactive table.\"\n",
              "            style=\"display:none;\">\n",
              "\n",
              "  <svg xmlns=\"http://www.w3.org/2000/svg\" height=\"24px\" viewBox=\"0 -960 960 960\">\n",
              "    <path d=\"M120-120v-720h720v720H120Zm60-500h600v-160H180v160Zm220 220h160v-160H400v160Zm0 220h160v-160H400v160ZM180-400h160v-160H180v160Zm440 0h160v-160H620v160ZM180-180h160v-160H180v160Zm440 0h160v-160H620v160Z\"/>\n",
              "  </svg>\n",
              "    </button>\n",
              "\n",
              "  <style>\n",
              "    .colab-df-container {\n",
              "      display:flex;\n",
              "      gap: 12px;\n",
              "    }\n",
              "\n",
              "    .colab-df-convert {\n",
              "      background-color: #E8F0FE;\n",
              "      border: none;\n",
              "      border-radius: 50%;\n",
              "      cursor: pointer;\n",
              "      display: none;\n",
              "      fill: #1967D2;\n",
              "      height: 32px;\n",
              "      padding: 0 0 0 0;\n",
              "      width: 32px;\n",
              "    }\n",
              "\n",
              "    .colab-df-convert:hover {\n",
              "      background-color: #E2EBFA;\n",
              "      box-shadow: 0px 1px 2px rgba(60, 64, 67, 0.3), 0px 1px 3px 1px rgba(60, 64, 67, 0.15);\n",
              "      fill: #174EA6;\n",
              "    }\n",
              "\n",
              "    .colab-df-buttons div {\n",
              "      margin-bottom: 4px;\n",
              "    }\n",
              "\n",
              "    [theme=dark] .colab-df-convert {\n",
              "      background-color: #3B4455;\n",
              "      fill: #D2E3FC;\n",
              "    }\n",
              "\n",
              "    [theme=dark] .colab-df-convert:hover {\n",
              "      background-color: #434B5C;\n",
              "      box-shadow: 0px 1px 3px 1px rgba(0, 0, 0, 0.15);\n",
              "      filter: drop-shadow(0px 1px 2px rgba(0, 0, 0, 0.3));\n",
              "      fill: #FFFFFF;\n",
              "    }\n",
              "  </style>\n",
              "\n",
              "    <script>\n",
              "      const buttonEl =\n",
              "        document.querySelector('#df-3637fbf7-5744-420e-aac7-7cc45d651ad6 button.colab-df-convert');\n",
              "      buttonEl.style.display =\n",
              "        google.colab.kernel.accessAllowed ? 'block' : 'none';\n",
              "\n",
              "      async function convertToInteractive(key) {\n",
              "        const element = document.querySelector('#df-3637fbf7-5744-420e-aac7-7cc45d651ad6');\n",
              "        const dataTable =\n",
              "          await google.colab.kernel.invokeFunction('convertToInteractive',\n",
              "                                                    [key], {});\n",
              "        if (!dataTable) return;\n",
              "\n",
              "        const docLinkHtml = 'Like what you see? Visit the ' +\n",
              "          '<a target=\"_blank\" href=https://colab.research.google.com/notebooks/data_table.ipynb>data table notebook</a>'\n",
              "          + ' to learn more about interactive tables.';\n",
              "        element.innerHTML = '';\n",
              "        dataTable['output_type'] = 'display_data';\n",
              "        await google.colab.output.renderOutput(dataTable, element);\n",
              "        const docLink = document.createElement('div');\n",
              "        docLink.innerHTML = docLinkHtml;\n",
              "        element.appendChild(docLink);\n",
              "      }\n",
              "    </script>\n",
              "  </div>\n",
              "\n",
              "\n",
              "<div id=\"df-6169bcdf-6aa3-4085-977e-aa7b5b185f58\">\n",
              "  <button class=\"colab-df-quickchart\" onclick=\"quickchart('df-6169bcdf-6aa3-4085-977e-aa7b5b185f58')\"\n",
              "            title=\"Suggest charts\"\n",
              "            style=\"display:none;\">\n",
              "\n",
              "<svg xmlns=\"http://www.w3.org/2000/svg\" height=\"24px\"viewBox=\"0 0 24 24\"\n",
              "     width=\"24px\">\n",
              "    <g>\n",
              "        <path d=\"M19 3H5c-1.1 0-2 .9-2 2v14c0 1.1.9 2 2 2h14c1.1 0 2-.9 2-2V5c0-1.1-.9-2-2-2zM9 17H7v-7h2v7zm4 0h-2V7h2v10zm4 0h-2v-4h2v4z\"/>\n",
              "    </g>\n",
              "</svg>\n",
              "  </button>\n",
              "\n",
              "<style>\n",
              "  .colab-df-quickchart {\n",
              "      --bg-color: #E8F0FE;\n",
              "      --fill-color: #1967D2;\n",
              "      --hover-bg-color: #E2EBFA;\n",
              "      --hover-fill-color: #174EA6;\n",
              "      --disabled-fill-color: #AAA;\n",
              "      --disabled-bg-color: #DDD;\n",
              "  }\n",
              "\n",
              "  [theme=dark] .colab-df-quickchart {\n",
              "      --bg-color: #3B4455;\n",
              "      --fill-color: #D2E3FC;\n",
              "      --hover-bg-color: #434B5C;\n",
              "      --hover-fill-color: #FFFFFF;\n",
              "      --disabled-bg-color: #3B4455;\n",
              "      --disabled-fill-color: #666;\n",
              "  }\n",
              "\n",
              "  .colab-df-quickchart {\n",
              "    background-color: var(--bg-color);\n",
              "    border: none;\n",
              "    border-radius: 50%;\n",
              "    cursor: pointer;\n",
              "    display: none;\n",
              "    fill: var(--fill-color);\n",
              "    height: 32px;\n",
              "    padding: 0;\n",
              "    width: 32px;\n",
              "  }\n",
              "\n",
              "  .colab-df-quickchart:hover {\n",
              "    background-color: var(--hover-bg-color);\n",
              "    box-shadow: 0 1px 2px rgba(60, 64, 67, 0.3), 0 1px 3px 1px rgba(60, 64, 67, 0.15);\n",
              "    fill: var(--button-hover-fill-color);\n",
              "  }\n",
              "\n",
              "  .colab-df-quickchart-complete:disabled,\n",
              "  .colab-df-quickchart-complete:disabled:hover {\n",
              "    background-color: var(--disabled-bg-color);\n",
              "    fill: var(--disabled-fill-color);\n",
              "    box-shadow: none;\n",
              "  }\n",
              "\n",
              "  .colab-df-spinner {\n",
              "    border: 2px solid var(--fill-color);\n",
              "    border-color: transparent;\n",
              "    border-bottom-color: var(--fill-color);\n",
              "    animation:\n",
              "      spin 1s steps(1) infinite;\n",
              "  }\n",
              "\n",
              "  @keyframes spin {\n",
              "    0% {\n",
              "      border-color: transparent;\n",
              "      border-bottom-color: var(--fill-color);\n",
              "      border-left-color: var(--fill-color);\n",
              "    }\n",
              "    20% {\n",
              "      border-color: transparent;\n",
              "      border-left-color: var(--fill-color);\n",
              "      border-top-color: var(--fill-color);\n",
              "    }\n",
              "    30% {\n",
              "      border-color: transparent;\n",
              "      border-left-color: var(--fill-color);\n",
              "      border-top-color: var(--fill-color);\n",
              "      border-right-color: var(--fill-color);\n",
              "    }\n",
              "    40% {\n",
              "      border-color: transparent;\n",
              "      border-right-color: var(--fill-color);\n",
              "      border-top-color: var(--fill-color);\n",
              "    }\n",
              "    60% {\n",
              "      border-color: transparent;\n",
              "      border-right-color: var(--fill-color);\n",
              "    }\n",
              "    80% {\n",
              "      border-color: transparent;\n",
              "      border-right-color: var(--fill-color);\n",
              "      border-bottom-color: var(--fill-color);\n",
              "    }\n",
              "    90% {\n",
              "      border-color: transparent;\n",
              "      border-bottom-color: var(--fill-color);\n",
              "    }\n",
              "  }\n",
              "</style>\n",
              "\n",
              "  <script>\n",
              "    async function quickchart(key) {\n",
              "      const quickchartButtonEl =\n",
              "        document.querySelector('#' + key + ' button');\n",
              "      quickchartButtonEl.disabled = true;  // To prevent multiple clicks.\n",
              "      quickchartButtonEl.classList.add('colab-df-spinner');\n",
              "      try {\n",
              "        const charts = await google.colab.kernel.invokeFunction(\n",
              "            'suggestCharts', [key], {});\n",
              "      } catch (error) {\n",
              "        console.error('Error during call to suggestCharts:', error);\n",
              "      }\n",
              "      quickchartButtonEl.classList.remove('colab-df-spinner');\n",
              "      quickchartButtonEl.classList.add('colab-df-quickchart-complete');\n",
              "    }\n",
              "    (() => {\n",
              "      let quickchartButtonEl =\n",
              "        document.querySelector('#df-6169bcdf-6aa3-4085-977e-aa7b5b185f58 button');\n",
              "      quickchartButtonEl.style.display =\n",
              "        google.colab.kernel.accessAllowed ? 'block' : 'none';\n",
              "    })();\n",
              "  </script>\n",
              "</div>\n",
              "    </div>\n",
              "  </div>\n"
            ]
          },
          "metadata": {},
          "execution_count": 999
        }
      ]
    },
    {
      "cell_type": "code",
      "source": [
        "df_rendimientos_5 = calcular_rendimiento(df, ventanas, etfs[4])\n",
        "df_rendimientos_5"
      ],
      "metadata": {
        "id": "1WJ-oFLTiOMd",
        "outputId": "29b6add3-78a5-4d89-ec72-f1fc8da16734",
        "colab": {
          "base_uri": "https://localhost:8080/",
          "height": 238
        }
      },
      "execution_count": null,
      "outputs": [
        {
          "output_type": "execute_result",
          "data": {
            "text/plain": [
              "            Periodo  Rendimiento_bruto  Rendimiento_anualizado\n",
              "0   mes_hasta_fecha          -8.446135             -101.353622\n",
              "1   año_hasta_fecha         -13.478226              -14.484064\n",
              "2   ultimos_30_dias          -9.114505             -105.845861\n",
              "3   ultimos_90_dias          -1.063379               -4.161047\n",
              "4  ultimos_180_dias           7.681083               15.028207\n",
              "5  ultimos_365_dias         -13.922914              -13.732189"
            ],
            "text/html": [
              "\n",
              "  <div id=\"df-309cde0b-b208-44a2-a2a6-4ab793874b86\" class=\"colab-df-container\">\n",
              "    <div>\n",
              "<style scoped>\n",
              "    .dataframe tbody tr th:only-of-type {\n",
              "        vertical-align: middle;\n",
              "    }\n",
              "\n",
              "    .dataframe tbody tr th {\n",
              "        vertical-align: top;\n",
              "    }\n",
              "\n",
              "    .dataframe thead th {\n",
              "        text-align: right;\n",
              "    }\n",
              "</style>\n",
              "<table border=\"1\" class=\"dataframe\">\n",
              "  <thead>\n",
              "    <tr style=\"text-align: right;\">\n",
              "      <th></th>\n",
              "      <th>Periodo</th>\n",
              "      <th>Rendimiento_bruto</th>\n",
              "      <th>Rendimiento_anualizado</th>\n",
              "    </tr>\n",
              "  </thead>\n",
              "  <tbody>\n",
              "    <tr>\n",
              "      <th>0</th>\n",
              "      <td>mes_hasta_fecha</td>\n",
              "      <td>-8.446135</td>\n",
              "      <td>-101.353622</td>\n",
              "    </tr>\n",
              "    <tr>\n",
              "      <th>1</th>\n",
              "      <td>año_hasta_fecha</td>\n",
              "      <td>-13.478226</td>\n",
              "      <td>-14.484064</td>\n",
              "    </tr>\n",
              "    <tr>\n",
              "      <th>2</th>\n",
              "      <td>ultimos_30_dias</td>\n",
              "      <td>-9.114505</td>\n",
              "      <td>-105.845861</td>\n",
              "    </tr>\n",
              "    <tr>\n",
              "      <th>3</th>\n",
              "      <td>ultimos_90_dias</td>\n",
              "      <td>-1.063379</td>\n",
              "      <td>-4.161047</td>\n",
              "    </tr>\n",
              "    <tr>\n",
              "      <th>4</th>\n",
              "      <td>ultimos_180_dias</td>\n",
              "      <td>7.681083</td>\n",
              "      <td>15.028207</td>\n",
              "    </tr>\n",
              "    <tr>\n",
              "      <th>5</th>\n",
              "      <td>ultimos_365_dias</td>\n",
              "      <td>-13.922914</td>\n",
              "      <td>-13.732189</td>\n",
              "    </tr>\n",
              "  </tbody>\n",
              "</table>\n",
              "</div>\n",
              "    <div class=\"colab-df-buttons\">\n",
              "\n",
              "  <div class=\"colab-df-container\">\n",
              "    <button class=\"colab-df-convert\" onclick=\"convertToInteractive('df-309cde0b-b208-44a2-a2a6-4ab793874b86')\"\n",
              "            title=\"Convert this dataframe to an interactive table.\"\n",
              "            style=\"display:none;\">\n",
              "\n",
              "  <svg xmlns=\"http://www.w3.org/2000/svg\" height=\"24px\" viewBox=\"0 -960 960 960\">\n",
              "    <path d=\"M120-120v-720h720v720H120Zm60-500h600v-160H180v160Zm220 220h160v-160H400v160Zm0 220h160v-160H400v160ZM180-400h160v-160H180v160Zm440 0h160v-160H620v160ZM180-180h160v-160H180v160Zm440 0h160v-160H620v160Z\"/>\n",
              "  </svg>\n",
              "    </button>\n",
              "\n",
              "  <style>\n",
              "    .colab-df-container {\n",
              "      display:flex;\n",
              "      gap: 12px;\n",
              "    }\n",
              "\n",
              "    .colab-df-convert {\n",
              "      background-color: #E8F0FE;\n",
              "      border: none;\n",
              "      border-radius: 50%;\n",
              "      cursor: pointer;\n",
              "      display: none;\n",
              "      fill: #1967D2;\n",
              "      height: 32px;\n",
              "      padding: 0 0 0 0;\n",
              "      width: 32px;\n",
              "    }\n",
              "\n",
              "    .colab-df-convert:hover {\n",
              "      background-color: #E2EBFA;\n",
              "      box-shadow: 0px 1px 2px rgba(60, 64, 67, 0.3), 0px 1px 3px 1px rgba(60, 64, 67, 0.15);\n",
              "      fill: #174EA6;\n",
              "    }\n",
              "\n",
              "    .colab-df-buttons div {\n",
              "      margin-bottom: 4px;\n",
              "    }\n",
              "\n",
              "    [theme=dark] .colab-df-convert {\n",
              "      background-color: #3B4455;\n",
              "      fill: #D2E3FC;\n",
              "    }\n",
              "\n",
              "    [theme=dark] .colab-df-convert:hover {\n",
              "      background-color: #434B5C;\n",
              "      box-shadow: 0px 1px 3px 1px rgba(0, 0, 0, 0.15);\n",
              "      filter: drop-shadow(0px 1px 2px rgba(0, 0, 0, 0.3));\n",
              "      fill: #FFFFFF;\n",
              "    }\n",
              "  </style>\n",
              "\n",
              "    <script>\n",
              "      const buttonEl =\n",
              "        document.querySelector('#df-309cde0b-b208-44a2-a2a6-4ab793874b86 button.colab-df-convert');\n",
              "      buttonEl.style.display =\n",
              "        google.colab.kernel.accessAllowed ? 'block' : 'none';\n",
              "\n",
              "      async function convertToInteractive(key) {\n",
              "        const element = document.querySelector('#df-309cde0b-b208-44a2-a2a6-4ab793874b86');\n",
              "        const dataTable =\n",
              "          await google.colab.kernel.invokeFunction('convertToInteractive',\n",
              "                                                    [key], {});\n",
              "        if (!dataTable) return;\n",
              "\n",
              "        const docLinkHtml = 'Like what you see? Visit the ' +\n",
              "          '<a target=\"_blank\" href=https://colab.research.google.com/notebooks/data_table.ipynb>data table notebook</a>'\n",
              "          + ' to learn more about interactive tables.';\n",
              "        element.innerHTML = '';\n",
              "        dataTable['output_type'] = 'display_data';\n",
              "        await google.colab.output.renderOutput(dataTable, element);\n",
              "        const docLink = document.createElement('div');\n",
              "        docLink.innerHTML = docLinkHtml;\n",
              "        element.appendChild(docLink);\n",
              "      }\n",
              "    </script>\n",
              "  </div>\n",
              "\n",
              "\n",
              "<div id=\"df-56cc3be4-8cc9-4e62-b356-245da89afc4c\">\n",
              "  <button class=\"colab-df-quickchart\" onclick=\"quickchart('df-56cc3be4-8cc9-4e62-b356-245da89afc4c')\"\n",
              "            title=\"Suggest charts\"\n",
              "            style=\"display:none;\">\n",
              "\n",
              "<svg xmlns=\"http://www.w3.org/2000/svg\" height=\"24px\"viewBox=\"0 0 24 24\"\n",
              "     width=\"24px\">\n",
              "    <g>\n",
              "        <path d=\"M19 3H5c-1.1 0-2 .9-2 2v14c0 1.1.9 2 2 2h14c1.1 0 2-.9 2-2V5c0-1.1-.9-2-2-2zM9 17H7v-7h2v7zm4 0h-2V7h2v10zm4 0h-2v-4h2v4z\"/>\n",
              "    </g>\n",
              "</svg>\n",
              "  </button>\n",
              "\n",
              "<style>\n",
              "  .colab-df-quickchart {\n",
              "      --bg-color: #E8F0FE;\n",
              "      --fill-color: #1967D2;\n",
              "      --hover-bg-color: #E2EBFA;\n",
              "      --hover-fill-color: #174EA6;\n",
              "      --disabled-fill-color: #AAA;\n",
              "      --disabled-bg-color: #DDD;\n",
              "  }\n",
              "\n",
              "  [theme=dark] .colab-df-quickchart {\n",
              "      --bg-color: #3B4455;\n",
              "      --fill-color: #D2E3FC;\n",
              "      --hover-bg-color: #434B5C;\n",
              "      --hover-fill-color: #FFFFFF;\n",
              "      --disabled-bg-color: #3B4455;\n",
              "      --disabled-fill-color: #666;\n",
              "  }\n",
              "\n",
              "  .colab-df-quickchart {\n",
              "    background-color: var(--bg-color);\n",
              "    border: none;\n",
              "    border-radius: 50%;\n",
              "    cursor: pointer;\n",
              "    display: none;\n",
              "    fill: var(--fill-color);\n",
              "    height: 32px;\n",
              "    padding: 0;\n",
              "    width: 32px;\n",
              "  }\n",
              "\n",
              "  .colab-df-quickchart:hover {\n",
              "    background-color: var(--hover-bg-color);\n",
              "    box-shadow: 0 1px 2px rgba(60, 64, 67, 0.3), 0 1px 3px 1px rgba(60, 64, 67, 0.15);\n",
              "    fill: var(--button-hover-fill-color);\n",
              "  }\n",
              "\n",
              "  .colab-df-quickchart-complete:disabled,\n",
              "  .colab-df-quickchart-complete:disabled:hover {\n",
              "    background-color: var(--disabled-bg-color);\n",
              "    fill: var(--disabled-fill-color);\n",
              "    box-shadow: none;\n",
              "  }\n",
              "\n",
              "  .colab-df-spinner {\n",
              "    border: 2px solid var(--fill-color);\n",
              "    border-color: transparent;\n",
              "    border-bottom-color: var(--fill-color);\n",
              "    animation:\n",
              "      spin 1s steps(1) infinite;\n",
              "  }\n",
              "\n",
              "  @keyframes spin {\n",
              "    0% {\n",
              "      border-color: transparent;\n",
              "      border-bottom-color: var(--fill-color);\n",
              "      border-left-color: var(--fill-color);\n",
              "    }\n",
              "    20% {\n",
              "      border-color: transparent;\n",
              "      border-left-color: var(--fill-color);\n",
              "      border-top-color: var(--fill-color);\n",
              "    }\n",
              "    30% {\n",
              "      border-color: transparent;\n",
              "      border-left-color: var(--fill-color);\n",
              "      border-top-color: var(--fill-color);\n",
              "      border-right-color: var(--fill-color);\n",
              "    }\n",
              "    40% {\n",
              "      border-color: transparent;\n",
              "      border-right-color: var(--fill-color);\n",
              "      border-top-color: var(--fill-color);\n",
              "    }\n",
              "    60% {\n",
              "      border-color: transparent;\n",
              "      border-right-color: var(--fill-color);\n",
              "    }\n",
              "    80% {\n",
              "      border-color: transparent;\n",
              "      border-right-color: var(--fill-color);\n",
              "      border-bottom-color: var(--fill-color);\n",
              "    }\n",
              "    90% {\n",
              "      border-color: transparent;\n",
              "      border-bottom-color: var(--fill-color);\n",
              "    }\n",
              "  }\n",
              "</style>\n",
              "\n",
              "  <script>\n",
              "    async function quickchart(key) {\n",
              "      const quickchartButtonEl =\n",
              "        document.querySelector('#' + key + ' button');\n",
              "      quickchartButtonEl.disabled = true;  // To prevent multiple clicks.\n",
              "      quickchartButtonEl.classList.add('colab-df-spinner');\n",
              "      try {\n",
              "        const charts = await google.colab.kernel.invokeFunction(\n",
              "            'suggestCharts', [key], {});\n",
              "      } catch (error) {\n",
              "        console.error('Error during call to suggestCharts:', error);\n",
              "      }\n",
              "      quickchartButtonEl.classList.remove('colab-df-spinner');\n",
              "      quickchartButtonEl.classList.add('colab-df-quickchart-complete');\n",
              "    }\n",
              "    (() => {\n",
              "      let quickchartButtonEl =\n",
              "        document.querySelector('#df-56cc3be4-8cc9-4e62-b356-245da89afc4c button');\n",
              "      quickchartButtonEl.style.display =\n",
              "        google.colab.kernel.accessAllowed ? 'block' : 'none';\n",
              "    })();\n",
              "  </script>\n",
              "</div>\n",
              "    </div>\n",
              "  </div>\n"
            ]
          },
          "metadata": {},
          "execution_count": 1000
        }
      ]
    },
    {
      "cell_type": "markdown",
      "source": [
        "# **Estadisticas de Activos**: Medidas de Riesgo"
      ],
      "metadata": {
        "id": "9mmoWjofZHkM"
      }
    },
    {
      "cell_type": "markdown",
      "source": [
        "### **Media**"
      ],
      "metadata": {
        "id": "-h5ArUaKjX2b"
      }
    },
    {
      "cell_type": "code",
      "source": [
        "# Calculo de la media de los activos\n",
        "mean = returns.mean()\n",
        "mean"
      ],
      "metadata": {
        "colab": {
          "base_uri": "https://localhost:8080/"
        },
        "id": "0a_guuewZt16",
        "outputId": "aa732cf8-3dc1-4fdd-ba93-a40d4457ec33"
      },
      "execution_count": null,
      "outputs": [
        {
          "output_type": "execute_result",
          "data": {
            "text/plain": [
              "AGG       0.000106\n",
              "GSG       0.000041\n",
              "IEMS.L    0.000240\n",
              "IYW       0.000805\n",
              "SEMB.L    0.000094\n",
              "dtype: float64"
            ]
          },
          "metadata": {},
          "execution_count": 1001
        }
      ]
    },
    {
      "cell_type": "markdown",
      "source": [
        "### **Sesgo**"
      ],
      "metadata": {
        "id": "WzCC0sjEjbds"
      }
    },
    {
      "cell_type": "code",
      "source": [
        "#Calculo para Sesgo de los activos\n",
        "sesgo = returns.skew()\n",
        "sesgo"
      ],
      "metadata": {
        "colab": {
          "base_uri": "https://localhost:8080/"
        },
        "id": "AgqR7tJAeZvA",
        "outputId": "8f35183c-8f91-47d3-9a47-d77db2ff592b"
      },
      "execution_count": null,
      "outputs": [
        {
          "output_type": "execute_result",
          "data": {
            "text/plain": [
              "AGG       0.768364\n",
              "GSG      -0.133517\n",
              "IEMS.L   -0.210215\n",
              "IYW       0.402074\n",
              "SEMB.L    1.352046\n",
              "dtype: float64"
            ]
          },
          "metadata": {},
          "execution_count": 1002
        }
      ]
    },
    {
      "cell_type": "markdown",
      "source": [
        "### **Exceso de Curtosis**"
      ],
      "metadata": {
        "id": "3Yt_xM_QjhG9"
      }
    },
    {
      "cell_type": "code",
      "source": [
        "#Calculo para Exceso de Curtosis:\n",
        "curtosis = returns.kurtosis()\n",
        "curtosis"
      ],
      "metadata": {
        "colab": {
          "base_uri": "https://localhost:8080/"
        },
        "id": "CgAsFFM_eo3f",
        "outputId": "13a85d59-2c11-4a56-a55b-586b24ff8e34"
      },
      "execution_count": null,
      "outputs": [
        {
          "output_type": "execute_result",
          "data": {
            "text/plain": [
              "AGG        5.447596\n",
              "GSG        4.858784\n",
              "IEMS.L     9.728775\n",
              "IYW       10.738301\n",
              "SEMB.L    95.234380\n",
              "dtype: float64"
            ]
          },
          "metadata": {},
          "execution_count": 1003
        }
      ]
    },
    {
      "cell_type": "markdown",
      "source": [
        "### **VaR Parametrico**"
      ],
      "metadata": {
        "id": "7549hazOjoe_"
      }
    },
    {
      "cell_type": "code",
      "source": [
        "#Calculo para VaR Parametrico\n",
        "mean = np.mean(returns)\n",
        "stdev = returns.std()\n",
        "\n",
        "VaR_95=norm.ppf(1-0.95,mean,stdev)\n",
        "print(VaR_95)\n"
      ],
      "metadata": {
        "colab": {
          "base_uri": "https://localhost:8080/"
        },
        "id": "4ga-BmEbeOFK",
        "outputId": "ae04e00f-f2b6-4c41-d267-fbbfc04d25d8"
      },
      "execution_count": null,
      "outputs": [
        {
          "output_type": "stream",
          "name": "stdout",
          "text": [
            "[-0.0138899  -0.02279335 -0.01982247 -0.02329927 -0.01728506]\n"
          ]
        }
      ]
    },
    {
      "cell_type": "markdown",
      "source": [
        "### **VaR Historico**"
      ],
      "metadata": {
        "id": "uMzSpROij6sc"
      }
    },
    {
      "cell_type": "code",
      "source": [
        "#Calculo de VaR Historico (Necesario para el CVaR)\n",
        "hVaR_95 = returns.quantile(0.05)\n",
        "hVaR_95"
      ],
      "metadata": {
        "id": "nE_UVHu5iiCp",
        "colab": {
          "base_uri": "https://localhost:8080/"
        },
        "outputId": "411f3111-701c-402a-c2ef-44ba62d98a63"
      },
      "execution_count": null,
      "outputs": [
        {
          "output_type": "execute_result",
          "data": {
            "text/plain": [
              "AGG      -0.012498\n",
              "GSG      -0.021349\n",
              "IEMS.L   -0.017874\n",
              "IYW      -0.021836\n",
              "SEMB.L   -0.014263\n",
              "Name: 0.05, dtype: float64"
            ]
          },
          "metadata": {},
          "execution_count": 1005
        }
      ]
    },
    {
      "cell_type": "markdown",
      "source": [
        "### **CVaR**"
      ],
      "metadata": {
        "id": "PCgURBvYj9z_"
      }
    },
    {
      "cell_type": "code",
      "source": [
        "#Calculo CVaR\n",
        "CVaR_95=returns[returns<=hVaR_95].mean()\n",
        "print(CVaR_95)"
      ],
      "metadata": {
        "colab": {
          "base_uri": "https://localhost:8080/"
        },
        "id": "bhNXXD_vhNXM",
        "outputId": "b96e017f-c597-427b-aa03-496a1721bba0"
      },
      "execution_count": null,
      "outputs": [
        {
          "output_type": "stream",
          "name": "stdout",
          "text": [
            "AGG      -0.017367\n",
            "GSG      -0.031123\n",
            "IEMS.L   -0.026937\n",
            "IYW      -0.032895\n",
            "SEMB.L   -0.020704\n",
            "dtype: float64\n"
          ]
        }
      ]
    },
    {
      "cell_type": "markdown",
      "source": [
        "### **Sharpe Ratio**"
      ],
      "metadata": {
        "id": "4WCYEFsuj98r"
      }
    },
    {
      "cell_type": "code",
      "source": [
        "# Tasa de rendimiento del bono de 1 año (anualizada y en formato decimal)\n",
        "Rf = 0.05426 / 252  # Dividido por 252 para obtener la tasa diaria\n",
        "\n",
        "# Calcular el rendimiento medio diario y la desviación estándar de los rendimientos\n",
        "Rp_mean = returns.mean()\n",
        "sigma_p = returns.std()\n",
        "\n",
        "# Calcular el Sharpe Ratio\n",
        "sharpe_ratio = (Rp_mean - Rf) / sigma_p\n",
        "sharpe_ratio"
      ],
      "metadata": {
        "colab": {
          "base_uri": "https://localhost:8080/"
        },
        "id": "npd7mMN-iziB",
        "outputId": "7bc08064-4c15-4fae-dc65-8763b57b0b30"
      },
      "execution_count": null,
      "outputs": [
        {
          "output_type": "execute_result",
          "data": {
            "text/plain": [
              "AGG      -0.012819\n",
              "GSG      -0.012539\n",
              "IEMS.L    0.002060\n",
              "IYW       0.040212\n",
              "SEMB.L   -0.011447\n",
              "dtype: float64"
            ]
          },
          "metadata": {},
          "execution_count": 1007
        }
      ]
    },
    {
      "cell_type": "markdown",
      "source": [
        "### **Sortino**"
      ],
      "metadata": {
        "id": "smZKzP9fkIQm"
      }
    },
    {
      "cell_type": "code",
      "source": [
        "# Calcular la desviación estándar de los rendimientos negativos usando la serie\n",
        "negative_returns = returns[returns < Rf]\n",
        "sigma_dp_series = negative_returns.std()\n",
        "\n",
        "# Calcular el Sortino Ratio usando la serie\n",
        "sortino_ratio_series = (returns.mean() - Rf) / sigma_dp_series\n",
        "sortino_ratio_series"
      ],
      "metadata": {
        "colab": {
          "base_uri": "https://localhost:8080/"
        },
        "id": "dT0vdwgvjAgz",
        "outputId": "dbbf3bc1-254d-46e8-e9be-926b4b8647a5"
      },
      "execution_count": null,
      "outputs": [
        {
          "output_type": "execute_result",
          "data": {
            "text/plain": [
              "AGG      -0.021411\n",
              "GSG      -0.017987\n",
              "IEMS.L    0.002869\n",
              "IYW       0.057391\n",
              "SEMB.L   -0.016346\n",
              "dtype: float64"
            ]
          },
          "metadata": {},
          "execution_count": 1008
        }
      ]
    },
    {
      "cell_type": "markdown",
      "source": [
        "### **Drowdowns**"
      ],
      "metadata": {
        "id": "PWmdD6FJkLIC"
      }
    },
    {
      "cell_type": "code",
      "source": [
        "# Calcular la serie acumulativa de rendimientos\n",
        "cumulative_returns = (1 + returns).cumprod()\n",
        "\n",
        "# Calcular el pico acumulativo previo en cada punto del tiempo\n",
        "running_max = cumulative_returns.cummax()\n",
        "\n",
        "# Calcular la serie de drawdowns\n",
        "drawdowns = (cumulative_returns - running_max) / running_max\n",
        "\n",
        "# Encontrar el drawdown máximo\n",
        "max_drawdown = drawdowns.min()\n",
        "\n",
        "max_drawdown, drawdowns.tail()"
      ],
      "metadata": {
        "colab": {
          "base_uri": "https://localhost:8080/"
        },
        "id": "7_lKyzRhjMmC",
        "outputId": "63a7e2cc-6a53-4532-ff4e-eae823af3775"
      },
      "execution_count": null,
      "outputs": [
        {
          "output_type": "execute_result",
          "data": {
            "text/plain": [
              "(AGG      -0.448542\n",
              " GSG      -0.590657\n",
              " IEMS.L   -0.381493\n",
              " IYW      -0.442657\n",
              " SEMB.L   -0.453343\n",
              " dtype: float64,\n",
              "                  AGG       GSG    IEMS.L       IYW    SEMB.L\n",
              " Date                                                        \n",
              " 2023-12-04 -0.431957 -0.365498 -0.249679 -0.200159 -0.429120\n",
              " 2023-12-05 -0.419361 -0.360458 -0.240526 -0.183408 -0.417735\n",
              " 2023-12-06 -0.421061 -0.381618 -0.240409 -0.195537 -0.419903\n",
              " 2023-12-07 -0.423246 -0.381316 -0.243418 -0.185181 -0.422713\n",
              " 2023-12-08 -0.420021 -0.368048 -0.241901 -0.170533 -0.417167)"
            ]
          },
          "metadata": {},
          "execution_count": 1009
        }
      ]
    },
    {
      "cell_type": "markdown",
      "source": [
        "# **Portafolios Optimos**: Datos Necesarios"
      ],
      "metadata": {
        "id": "cWKIxH0lkW-m"
      }
    },
    {
      "cell_type": "code",
      "source": [
        "def download_datos(tickers, start_date='2010-01-01', end_date='2021-01-01'):\n",
        "    datos = yf.download(tickers, start=start_date, end=end_date)\n",
        "\n",
        "    return datos['Close']"
      ],
      "metadata": {
        "id": "ocifAzb_qWmq"
      },
      "execution_count": null,
      "outputs": []
    },
    {
      "cell_type": "code",
      "source": [
        "#Definimos nuestro conjunto de datos.\n",
        "datos = download_datos(symbols)\n",
        "datos = datos.dropna()\n",
        "#Pasando a pesos todo\n",
        "datos[\"AGG\"] = datos[\"AGG\"] * datos[\"MXN=X\"]\n",
        "datos[\"SEMB.L\"] = datos[\"SEMB.L\"] * datos[\"GBPMXN=X\"]\n",
        "datos[\"IEMS.L\"] = datos[\"IEMS.L\"] * datos[\"MXN=X\"]\n",
        "datos[\"IYW\"] = datos[\"IYW\"] * datos[\"MXN=X\"]\n",
        "datos[\"GSG\"] = datos[\"GSG\"] * datos[\"MXN=X\"]\n",
        "datos.tail()"
      ],
      "metadata": {
        "colab": {
          "base_uri": "https://localhost:8080/",
          "height": 255
        },
        "id": "fZQp7YyVsOy4",
        "outputId": "71a8a478-a70c-476e-b675-eb2ea395e0f1"
      },
      "execution_count": null,
      "outputs": [
        {
          "output_type": "stream",
          "name": "stdout",
          "text": [
            "[*********************100%%**********************]  7 of 7 completed\n"
          ]
        },
        {
          "output_type": "execute_result",
          "data": {
            "text/plain": [
              "                    AGG   GBPMXN=X         GSG       IEMS.L          IYW  \\\n",
              "Date                                                                       \n",
              "2020-12-23  2369.835868  26.936899  243.859094  1502.859500  1705.204295   \n",
              "2020-12-24  2365.569739  27.074997  244.195615  1509.481745  1707.765360   \n",
              "2020-12-29  2361.337708  26.937500  242.875886  1535.679822  1707.133382   \n",
              "2020-12-30  2354.323407  26.907400  243.605699  1543.965648  1695.870398   \n",
              "2020-12-31  2350.905479  27.108900  245.254791  1540.251766  1692.317779   \n",
              "\n",
              "                MXN=X         SEMB.L  \n",
              "Date                                  \n",
              "2020-12-23  20.103800  229111.796020  \n",
              "2020-12-24  20.048901  228946.174194  \n",
              "2020-12-29  20.006250  230005.843750  \n",
              "2020-12-30  19.934999  228363.104914  \n",
              "2020-12-31  19.890900  229653.046945  "
            ],
            "text/html": [
              "\n",
              "  <div id=\"df-6ab29ffb-59aa-4e08-be07-6be948d6376c\" class=\"colab-df-container\">\n",
              "    <div>\n",
              "<style scoped>\n",
              "    .dataframe tbody tr th:only-of-type {\n",
              "        vertical-align: middle;\n",
              "    }\n",
              "\n",
              "    .dataframe tbody tr th {\n",
              "        vertical-align: top;\n",
              "    }\n",
              "\n",
              "    .dataframe thead th {\n",
              "        text-align: right;\n",
              "    }\n",
              "</style>\n",
              "<table border=\"1\" class=\"dataframe\">\n",
              "  <thead>\n",
              "    <tr style=\"text-align: right;\">\n",
              "      <th></th>\n",
              "      <th>AGG</th>\n",
              "      <th>GBPMXN=X</th>\n",
              "      <th>GSG</th>\n",
              "      <th>IEMS.L</th>\n",
              "      <th>IYW</th>\n",
              "      <th>MXN=X</th>\n",
              "      <th>SEMB.L</th>\n",
              "    </tr>\n",
              "    <tr>\n",
              "      <th>Date</th>\n",
              "      <th></th>\n",
              "      <th></th>\n",
              "      <th></th>\n",
              "      <th></th>\n",
              "      <th></th>\n",
              "      <th></th>\n",
              "      <th></th>\n",
              "    </tr>\n",
              "  </thead>\n",
              "  <tbody>\n",
              "    <tr>\n",
              "      <th>2020-12-23</th>\n",
              "      <td>2369.835868</td>\n",
              "      <td>26.936899</td>\n",
              "      <td>243.859094</td>\n",
              "      <td>1502.859500</td>\n",
              "      <td>1705.204295</td>\n",
              "      <td>20.103800</td>\n",
              "      <td>229111.796020</td>\n",
              "    </tr>\n",
              "    <tr>\n",
              "      <th>2020-12-24</th>\n",
              "      <td>2365.569739</td>\n",
              "      <td>27.074997</td>\n",
              "      <td>244.195615</td>\n",
              "      <td>1509.481745</td>\n",
              "      <td>1707.765360</td>\n",
              "      <td>20.048901</td>\n",
              "      <td>228946.174194</td>\n",
              "    </tr>\n",
              "    <tr>\n",
              "      <th>2020-12-29</th>\n",
              "      <td>2361.337708</td>\n",
              "      <td>26.937500</td>\n",
              "      <td>242.875886</td>\n",
              "      <td>1535.679822</td>\n",
              "      <td>1707.133382</td>\n",
              "      <td>20.006250</td>\n",
              "      <td>230005.843750</td>\n",
              "    </tr>\n",
              "    <tr>\n",
              "      <th>2020-12-30</th>\n",
              "      <td>2354.323407</td>\n",
              "      <td>26.907400</td>\n",
              "      <td>243.605699</td>\n",
              "      <td>1543.965648</td>\n",
              "      <td>1695.870398</td>\n",
              "      <td>19.934999</td>\n",
              "      <td>228363.104914</td>\n",
              "    </tr>\n",
              "    <tr>\n",
              "      <th>2020-12-31</th>\n",
              "      <td>2350.905479</td>\n",
              "      <td>27.108900</td>\n",
              "      <td>245.254791</td>\n",
              "      <td>1540.251766</td>\n",
              "      <td>1692.317779</td>\n",
              "      <td>19.890900</td>\n",
              "      <td>229653.046945</td>\n",
              "    </tr>\n",
              "  </tbody>\n",
              "</table>\n",
              "</div>\n",
              "    <div class=\"colab-df-buttons\">\n",
              "\n",
              "  <div class=\"colab-df-container\">\n",
              "    <button class=\"colab-df-convert\" onclick=\"convertToInteractive('df-6ab29ffb-59aa-4e08-be07-6be948d6376c')\"\n",
              "            title=\"Convert this dataframe to an interactive table.\"\n",
              "            style=\"display:none;\">\n",
              "\n",
              "  <svg xmlns=\"http://www.w3.org/2000/svg\" height=\"24px\" viewBox=\"0 -960 960 960\">\n",
              "    <path d=\"M120-120v-720h720v720H120Zm60-500h600v-160H180v160Zm220 220h160v-160H400v160Zm0 220h160v-160H400v160ZM180-400h160v-160H180v160Zm440 0h160v-160H620v160ZM180-180h160v-160H180v160Zm440 0h160v-160H620v160Z\"/>\n",
              "  </svg>\n",
              "    </button>\n",
              "\n",
              "  <style>\n",
              "    .colab-df-container {\n",
              "      display:flex;\n",
              "      gap: 12px;\n",
              "    }\n",
              "\n",
              "    .colab-df-convert {\n",
              "      background-color: #E8F0FE;\n",
              "      border: none;\n",
              "      border-radius: 50%;\n",
              "      cursor: pointer;\n",
              "      display: none;\n",
              "      fill: #1967D2;\n",
              "      height: 32px;\n",
              "      padding: 0 0 0 0;\n",
              "      width: 32px;\n",
              "    }\n",
              "\n",
              "    .colab-df-convert:hover {\n",
              "      background-color: #E2EBFA;\n",
              "      box-shadow: 0px 1px 2px rgba(60, 64, 67, 0.3), 0px 1px 3px 1px rgba(60, 64, 67, 0.15);\n",
              "      fill: #174EA6;\n",
              "    }\n",
              "\n",
              "    .colab-df-buttons div {\n",
              "      margin-bottom: 4px;\n",
              "    }\n",
              "\n",
              "    [theme=dark] .colab-df-convert {\n",
              "      background-color: #3B4455;\n",
              "      fill: #D2E3FC;\n",
              "    }\n",
              "\n",
              "    [theme=dark] .colab-df-convert:hover {\n",
              "      background-color: #434B5C;\n",
              "      box-shadow: 0px 1px 3px 1px rgba(0, 0, 0, 0.15);\n",
              "      filter: drop-shadow(0px 1px 2px rgba(0, 0, 0, 0.3));\n",
              "      fill: #FFFFFF;\n",
              "    }\n",
              "  </style>\n",
              "\n",
              "    <script>\n",
              "      const buttonEl =\n",
              "        document.querySelector('#df-6ab29ffb-59aa-4e08-be07-6be948d6376c button.colab-df-convert');\n",
              "      buttonEl.style.display =\n",
              "        google.colab.kernel.accessAllowed ? 'block' : 'none';\n",
              "\n",
              "      async function convertToInteractive(key) {\n",
              "        const element = document.querySelector('#df-6ab29ffb-59aa-4e08-be07-6be948d6376c');\n",
              "        const dataTable =\n",
              "          await google.colab.kernel.invokeFunction('convertToInteractive',\n",
              "                                                    [key], {});\n",
              "        if (!dataTable) return;\n",
              "\n",
              "        const docLinkHtml = 'Like what you see? Visit the ' +\n",
              "          '<a target=\"_blank\" href=https://colab.research.google.com/notebooks/data_table.ipynb>data table notebook</a>'\n",
              "          + ' to learn more about interactive tables.';\n",
              "        element.innerHTML = '';\n",
              "        dataTable['output_type'] = 'display_data';\n",
              "        await google.colab.output.renderOutput(dataTable, element);\n",
              "        const docLink = document.createElement('div');\n",
              "        docLink.innerHTML = docLinkHtml;\n",
              "        element.appendChild(docLink);\n",
              "      }\n",
              "    </script>\n",
              "  </div>\n",
              "\n",
              "\n",
              "<div id=\"df-c411a438-c1fe-4d1e-97c6-49b205265d21\">\n",
              "  <button class=\"colab-df-quickchart\" onclick=\"quickchart('df-c411a438-c1fe-4d1e-97c6-49b205265d21')\"\n",
              "            title=\"Suggest charts\"\n",
              "            style=\"display:none;\">\n",
              "\n",
              "<svg xmlns=\"http://www.w3.org/2000/svg\" height=\"24px\"viewBox=\"0 0 24 24\"\n",
              "     width=\"24px\">\n",
              "    <g>\n",
              "        <path d=\"M19 3H5c-1.1 0-2 .9-2 2v14c0 1.1.9 2 2 2h14c1.1 0 2-.9 2-2V5c0-1.1-.9-2-2-2zM9 17H7v-7h2v7zm4 0h-2V7h2v10zm4 0h-2v-4h2v4z\"/>\n",
              "    </g>\n",
              "</svg>\n",
              "  </button>\n",
              "\n",
              "<style>\n",
              "  .colab-df-quickchart {\n",
              "      --bg-color: #E8F0FE;\n",
              "      --fill-color: #1967D2;\n",
              "      --hover-bg-color: #E2EBFA;\n",
              "      --hover-fill-color: #174EA6;\n",
              "      --disabled-fill-color: #AAA;\n",
              "      --disabled-bg-color: #DDD;\n",
              "  }\n",
              "\n",
              "  [theme=dark] .colab-df-quickchart {\n",
              "      --bg-color: #3B4455;\n",
              "      --fill-color: #D2E3FC;\n",
              "      --hover-bg-color: #434B5C;\n",
              "      --hover-fill-color: #FFFFFF;\n",
              "      --disabled-bg-color: #3B4455;\n",
              "      --disabled-fill-color: #666;\n",
              "  }\n",
              "\n",
              "  .colab-df-quickchart {\n",
              "    background-color: var(--bg-color);\n",
              "    border: none;\n",
              "    border-radius: 50%;\n",
              "    cursor: pointer;\n",
              "    display: none;\n",
              "    fill: var(--fill-color);\n",
              "    height: 32px;\n",
              "    padding: 0;\n",
              "    width: 32px;\n",
              "  }\n",
              "\n",
              "  .colab-df-quickchart:hover {\n",
              "    background-color: var(--hover-bg-color);\n",
              "    box-shadow: 0 1px 2px rgba(60, 64, 67, 0.3), 0 1px 3px 1px rgba(60, 64, 67, 0.15);\n",
              "    fill: var(--button-hover-fill-color);\n",
              "  }\n",
              "\n",
              "  .colab-df-quickchart-complete:disabled,\n",
              "  .colab-df-quickchart-complete:disabled:hover {\n",
              "    background-color: var(--disabled-bg-color);\n",
              "    fill: var(--disabled-fill-color);\n",
              "    box-shadow: none;\n",
              "  }\n",
              "\n",
              "  .colab-df-spinner {\n",
              "    border: 2px solid var(--fill-color);\n",
              "    border-color: transparent;\n",
              "    border-bottom-color: var(--fill-color);\n",
              "    animation:\n",
              "      spin 1s steps(1) infinite;\n",
              "  }\n",
              "\n",
              "  @keyframes spin {\n",
              "    0% {\n",
              "      border-color: transparent;\n",
              "      border-bottom-color: var(--fill-color);\n",
              "      border-left-color: var(--fill-color);\n",
              "    }\n",
              "    20% {\n",
              "      border-color: transparent;\n",
              "      border-left-color: var(--fill-color);\n",
              "      border-top-color: var(--fill-color);\n",
              "    }\n",
              "    30% {\n",
              "      border-color: transparent;\n",
              "      border-left-color: var(--fill-color);\n",
              "      border-top-color: var(--fill-color);\n",
              "      border-right-color: var(--fill-color);\n",
              "    }\n",
              "    40% {\n",
              "      border-color: transparent;\n",
              "      border-right-color: var(--fill-color);\n",
              "      border-top-color: var(--fill-color);\n",
              "    }\n",
              "    60% {\n",
              "      border-color: transparent;\n",
              "      border-right-color: var(--fill-color);\n",
              "    }\n",
              "    80% {\n",
              "      border-color: transparent;\n",
              "      border-right-color: var(--fill-color);\n",
              "      border-bottom-color: var(--fill-color);\n",
              "    }\n",
              "    90% {\n",
              "      border-color: transparent;\n",
              "      border-bottom-color: var(--fill-color);\n",
              "    }\n",
              "  }\n",
              "</style>\n",
              "\n",
              "  <script>\n",
              "    async function quickchart(key) {\n",
              "      const quickchartButtonEl =\n",
              "        document.querySelector('#' + key + ' button');\n",
              "      quickchartButtonEl.disabled = true;  // To prevent multiple clicks.\n",
              "      quickchartButtonEl.classList.add('colab-df-spinner');\n",
              "      try {\n",
              "        const charts = await google.colab.kernel.invokeFunction(\n",
              "            'suggestCharts', [key], {});\n",
              "      } catch (error) {\n",
              "        console.error('Error during call to suggestCharts:', error);\n",
              "      }\n",
              "      quickchartButtonEl.classList.remove('colab-df-spinner');\n",
              "      quickchartButtonEl.classList.add('colab-df-quickchart-complete');\n",
              "    }\n",
              "    (() => {\n",
              "      let quickchartButtonEl =\n",
              "        document.querySelector('#df-c411a438-c1fe-4d1e-97c6-49b205265d21 button');\n",
              "      quickchartButtonEl.style.display =\n",
              "        google.colab.kernel.accessAllowed ? 'block' : 'none';\n",
              "    })();\n",
              "  </script>\n",
              "</div>\n",
              "    </div>\n",
              "  </div>\n"
            ]
          },
          "metadata": {},
          "execution_count": 1011
        }
      ]
    },
    {
      "cell_type": "code",
      "source": [
        "#Obtenemos los retornos en el periodo definido por el ejercicio\n",
        "retornos = datos.pct_change().fillna(0)\n",
        "retornos = retornos.drop( tasasdecambio ,axis = 1)\n",
        "retornos.tail()"
      ],
      "metadata": {
        "colab": {
          "base_uri": "https://localhost:8080/",
          "height": 238
        },
        "id": "A2QdzvazZVnv",
        "outputId": "520ba13d-ffdd-4c5b-8a6e-4bf8f9620d2d"
      },
      "execution_count": null,
      "outputs": [
        {
          "output_type": "execute_result",
          "data": {
            "text/plain": [
              "                 AGG       GSG    IEMS.L       IYW    SEMB.L\n",
              "Date                                                        \n",
              "2020-12-23  0.005393  0.019523  0.017096 -0.001342 -0.009202\n",
              "2020-12-24 -0.001800  0.001380  0.004406  0.001502 -0.000723\n",
              "2020-12-29 -0.001789 -0.005404  0.017356 -0.000370  0.004628\n",
              "2020-12-30 -0.002970  0.003005  0.005396 -0.006598 -0.007142\n",
              "2020-12-31 -0.001452  0.006770 -0.002405 -0.002095  0.005649"
            ],
            "text/html": [
              "\n",
              "  <div id=\"df-3c189572-7498-46f1-92f9-4299a7fb0d2d\" class=\"colab-df-container\">\n",
              "    <div>\n",
              "<style scoped>\n",
              "    .dataframe tbody tr th:only-of-type {\n",
              "        vertical-align: middle;\n",
              "    }\n",
              "\n",
              "    .dataframe tbody tr th {\n",
              "        vertical-align: top;\n",
              "    }\n",
              "\n",
              "    .dataframe thead th {\n",
              "        text-align: right;\n",
              "    }\n",
              "</style>\n",
              "<table border=\"1\" class=\"dataframe\">\n",
              "  <thead>\n",
              "    <tr style=\"text-align: right;\">\n",
              "      <th></th>\n",
              "      <th>AGG</th>\n",
              "      <th>GSG</th>\n",
              "      <th>IEMS.L</th>\n",
              "      <th>IYW</th>\n",
              "      <th>SEMB.L</th>\n",
              "    </tr>\n",
              "    <tr>\n",
              "      <th>Date</th>\n",
              "      <th></th>\n",
              "      <th></th>\n",
              "      <th></th>\n",
              "      <th></th>\n",
              "      <th></th>\n",
              "    </tr>\n",
              "  </thead>\n",
              "  <tbody>\n",
              "    <tr>\n",
              "      <th>2020-12-23</th>\n",
              "      <td>0.005393</td>\n",
              "      <td>0.019523</td>\n",
              "      <td>0.017096</td>\n",
              "      <td>-0.001342</td>\n",
              "      <td>-0.009202</td>\n",
              "    </tr>\n",
              "    <tr>\n",
              "      <th>2020-12-24</th>\n",
              "      <td>-0.001800</td>\n",
              "      <td>0.001380</td>\n",
              "      <td>0.004406</td>\n",
              "      <td>0.001502</td>\n",
              "      <td>-0.000723</td>\n",
              "    </tr>\n",
              "    <tr>\n",
              "      <th>2020-12-29</th>\n",
              "      <td>-0.001789</td>\n",
              "      <td>-0.005404</td>\n",
              "      <td>0.017356</td>\n",
              "      <td>-0.000370</td>\n",
              "      <td>0.004628</td>\n",
              "    </tr>\n",
              "    <tr>\n",
              "      <th>2020-12-30</th>\n",
              "      <td>-0.002970</td>\n",
              "      <td>0.003005</td>\n",
              "      <td>0.005396</td>\n",
              "      <td>-0.006598</td>\n",
              "      <td>-0.007142</td>\n",
              "    </tr>\n",
              "    <tr>\n",
              "      <th>2020-12-31</th>\n",
              "      <td>-0.001452</td>\n",
              "      <td>0.006770</td>\n",
              "      <td>-0.002405</td>\n",
              "      <td>-0.002095</td>\n",
              "      <td>0.005649</td>\n",
              "    </tr>\n",
              "  </tbody>\n",
              "</table>\n",
              "</div>\n",
              "    <div class=\"colab-df-buttons\">\n",
              "\n",
              "  <div class=\"colab-df-container\">\n",
              "    <button class=\"colab-df-convert\" onclick=\"convertToInteractive('df-3c189572-7498-46f1-92f9-4299a7fb0d2d')\"\n",
              "            title=\"Convert this dataframe to an interactive table.\"\n",
              "            style=\"display:none;\">\n",
              "\n",
              "  <svg xmlns=\"http://www.w3.org/2000/svg\" height=\"24px\" viewBox=\"0 -960 960 960\">\n",
              "    <path d=\"M120-120v-720h720v720H120Zm60-500h600v-160H180v160Zm220 220h160v-160H400v160Zm0 220h160v-160H400v160ZM180-400h160v-160H180v160Zm440 0h160v-160H620v160ZM180-180h160v-160H180v160Zm440 0h160v-160H620v160Z\"/>\n",
              "  </svg>\n",
              "    </button>\n",
              "\n",
              "  <style>\n",
              "    .colab-df-container {\n",
              "      display:flex;\n",
              "      gap: 12px;\n",
              "    }\n",
              "\n",
              "    .colab-df-convert {\n",
              "      background-color: #E8F0FE;\n",
              "      border: none;\n",
              "      border-radius: 50%;\n",
              "      cursor: pointer;\n",
              "      display: none;\n",
              "      fill: #1967D2;\n",
              "      height: 32px;\n",
              "      padding: 0 0 0 0;\n",
              "      width: 32px;\n",
              "    }\n",
              "\n",
              "    .colab-df-convert:hover {\n",
              "      background-color: #E2EBFA;\n",
              "      box-shadow: 0px 1px 2px rgba(60, 64, 67, 0.3), 0px 1px 3px 1px rgba(60, 64, 67, 0.15);\n",
              "      fill: #174EA6;\n",
              "    }\n",
              "\n",
              "    .colab-df-buttons div {\n",
              "      margin-bottom: 4px;\n",
              "    }\n",
              "\n",
              "    [theme=dark] .colab-df-convert {\n",
              "      background-color: #3B4455;\n",
              "      fill: #D2E3FC;\n",
              "    }\n",
              "\n",
              "    [theme=dark] .colab-df-convert:hover {\n",
              "      background-color: #434B5C;\n",
              "      box-shadow: 0px 1px 3px 1px rgba(0, 0, 0, 0.15);\n",
              "      filter: drop-shadow(0px 1px 2px rgba(0, 0, 0, 0.3));\n",
              "      fill: #FFFFFF;\n",
              "    }\n",
              "  </style>\n",
              "\n",
              "    <script>\n",
              "      const buttonEl =\n",
              "        document.querySelector('#df-3c189572-7498-46f1-92f9-4299a7fb0d2d button.colab-df-convert');\n",
              "      buttonEl.style.display =\n",
              "        google.colab.kernel.accessAllowed ? 'block' : 'none';\n",
              "\n",
              "      async function convertToInteractive(key) {\n",
              "        const element = document.querySelector('#df-3c189572-7498-46f1-92f9-4299a7fb0d2d');\n",
              "        const dataTable =\n",
              "          await google.colab.kernel.invokeFunction('convertToInteractive',\n",
              "                                                    [key], {});\n",
              "        if (!dataTable) return;\n",
              "\n",
              "        const docLinkHtml = 'Like what you see? Visit the ' +\n",
              "          '<a target=\"_blank\" href=https://colab.research.google.com/notebooks/data_table.ipynb>data table notebook</a>'\n",
              "          + ' to learn more about interactive tables.';\n",
              "        element.innerHTML = '';\n",
              "        dataTable['output_type'] = 'display_data';\n",
              "        await google.colab.output.renderOutput(dataTable, element);\n",
              "        const docLink = document.createElement('div');\n",
              "        docLink.innerHTML = docLinkHtml;\n",
              "        element.appendChild(docLink);\n",
              "      }\n",
              "    </script>\n",
              "  </div>\n",
              "\n",
              "\n",
              "<div id=\"df-4113560a-f618-4b89-bf37-25c669f83311\">\n",
              "  <button class=\"colab-df-quickchart\" onclick=\"quickchart('df-4113560a-f618-4b89-bf37-25c669f83311')\"\n",
              "            title=\"Suggest charts\"\n",
              "            style=\"display:none;\">\n",
              "\n",
              "<svg xmlns=\"http://www.w3.org/2000/svg\" height=\"24px\"viewBox=\"0 0 24 24\"\n",
              "     width=\"24px\">\n",
              "    <g>\n",
              "        <path d=\"M19 3H5c-1.1 0-2 .9-2 2v14c0 1.1.9 2 2 2h14c1.1 0 2-.9 2-2V5c0-1.1-.9-2-2-2zM9 17H7v-7h2v7zm4 0h-2V7h2v10zm4 0h-2v-4h2v4z\"/>\n",
              "    </g>\n",
              "</svg>\n",
              "  </button>\n",
              "\n",
              "<style>\n",
              "  .colab-df-quickchart {\n",
              "      --bg-color: #E8F0FE;\n",
              "      --fill-color: #1967D2;\n",
              "      --hover-bg-color: #E2EBFA;\n",
              "      --hover-fill-color: #174EA6;\n",
              "      --disabled-fill-color: #AAA;\n",
              "      --disabled-bg-color: #DDD;\n",
              "  }\n",
              "\n",
              "  [theme=dark] .colab-df-quickchart {\n",
              "      --bg-color: #3B4455;\n",
              "      --fill-color: #D2E3FC;\n",
              "      --hover-bg-color: #434B5C;\n",
              "      --hover-fill-color: #FFFFFF;\n",
              "      --disabled-bg-color: #3B4455;\n",
              "      --disabled-fill-color: #666;\n",
              "  }\n",
              "\n",
              "  .colab-df-quickchart {\n",
              "    background-color: var(--bg-color);\n",
              "    border: none;\n",
              "    border-radius: 50%;\n",
              "    cursor: pointer;\n",
              "    display: none;\n",
              "    fill: var(--fill-color);\n",
              "    height: 32px;\n",
              "    padding: 0;\n",
              "    width: 32px;\n",
              "  }\n",
              "\n",
              "  .colab-df-quickchart:hover {\n",
              "    background-color: var(--hover-bg-color);\n",
              "    box-shadow: 0 1px 2px rgba(60, 64, 67, 0.3), 0 1px 3px 1px rgba(60, 64, 67, 0.15);\n",
              "    fill: var(--button-hover-fill-color);\n",
              "  }\n",
              "\n",
              "  .colab-df-quickchart-complete:disabled,\n",
              "  .colab-df-quickchart-complete:disabled:hover {\n",
              "    background-color: var(--disabled-bg-color);\n",
              "    fill: var(--disabled-fill-color);\n",
              "    box-shadow: none;\n",
              "  }\n",
              "\n",
              "  .colab-df-spinner {\n",
              "    border: 2px solid var(--fill-color);\n",
              "    border-color: transparent;\n",
              "    border-bottom-color: var(--fill-color);\n",
              "    animation:\n",
              "      spin 1s steps(1) infinite;\n",
              "  }\n",
              "\n",
              "  @keyframes spin {\n",
              "    0% {\n",
              "      border-color: transparent;\n",
              "      border-bottom-color: var(--fill-color);\n",
              "      border-left-color: var(--fill-color);\n",
              "    }\n",
              "    20% {\n",
              "      border-color: transparent;\n",
              "      border-left-color: var(--fill-color);\n",
              "      border-top-color: var(--fill-color);\n",
              "    }\n",
              "    30% {\n",
              "      border-color: transparent;\n",
              "      border-left-color: var(--fill-color);\n",
              "      border-top-color: var(--fill-color);\n",
              "      border-right-color: var(--fill-color);\n",
              "    }\n",
              "    40% {\n",
              "      border-color: transparent;\n",
              "      border-right-color: var(--fill-color);\n",
              "      border-top-color: var(--fill-color);\n",
              "    }\n",
              "    60% {\n",
              "      border-color: transparent;\n",
              "      border-right-color: var(--fill-color);\n",
              "    }\n",
              "    80% {\n",
              "      border-color: transparent;\n",
              "      border-right-color: var(--fill-color);\n",
              "      border-bottom-color: var(--fill-color);\n",
              "    }\n",
              "    90% {\n",
              "      border-color: transparent;\n",
              "      border-bottom-color: var(--fill-color);\n",
              "    }\n",
              "  }\n",
              "</style>\n",
              "\n",
              "  <script>\n",
              "    async function quickchart(key) {\n",
              "      const quickchartButtonEl =\n",
              "        document.querySelector('#' + key + ' button');\n",
              "      quickchartButtonEl.disabled = true;  // To prevent multiple clicks.\n",
              "      quickchartButtonEl.classList.add('colab-df-spinner');\n",
              "      try {\n",
              "        const charts = await google.colab.kernel.invokeFunction(\n",
              "            'suggestCharts', [key], {});\n",
              "      } catch (error) {\n",
              "        console.error('Error during call to suggestCharts:', error);\n",
              "      }\n",
              "      quickchartButtonEl.classList.remove('colab-df-spinner');\n",
              "      quickchartButtonEl.classList.add('colab-df-quickchart-complete');\n",
              "    }\n",
              "    (() => {\n",
              "      let quickchartButtonEl =\n",
              "        document.querySelector('#df-4113560a-f618-4b89-bf37-25c669f83311 button');\n",
              "      quickchartButtonEl.style.display =\n",
              "        google.colab.kernel.accessAllowed ? 'block' : 'none';\n",
              "    })();\n",
              "  </script>\n",
              "</div>\n",
              "    </div>\n",
              "  </div>\n"
            ]
          },
          "metadata": {},
          "execution_count": 1012
        }
      ]
    },
    {
      "cell_type": "code",
      "source": [
        "#Definimos una función para simular diferentes combinaciones de carteras y evaluar su rendimiento.\n",
        "def portfolio_simulation(returns):\n",
        "\n",
        "    # Initialize the lists\n",
        "    rets = []; vols = []; wts = []\n",
        "\n",
        "    # Simulate 5,000 portfolios\n",
        "    for i in range (numofportfolio):\n",
        "\n",
        "        # Generate random weights\n",
        "        weights = random.random(numofasset2)[:, newaxis]\n",
        "\n",
        "        # Set weights such that sum of weights equals 1\n",
        "        weights /= sum(weights)\n",
        "\n",
        "        # Portfolio statistics\n",
        "        rets.append(weights.T @ array(retornos.mean() * 252)[:, newaxis])\n",
        "        vols.append(sqrt(multi_dot([weights.T, retornos.cov()*252, weights])))\n",
        "        wts.append(weights.flatten())\n",
        "\n",
        "    # Create a dataframe for analysis\n",
        "    portdf = 100*pd.DataFrame({\n",
        "        'port_rets': array(rets).flatten(),\n",
        "        'port_vols': array(vols).flatten(),\n",
        "        'weights': list(array(wts))\n",
        "        })\n",
        "\n",
        "    portdf['sharpe_ratio'] = portdf['port_rets'] / portdf['port_vols']\n",
        "\n",
        "    return round(portdf,2)"
      ],
      "metadata": {
        "id": "d1lHhlR_z47f"
      },
      "execution_count": null,
      "outputs": []
    },
    {
      "cell_type": "code",
      "source": [
        "# Create a dataframe for analysis\n",
        "temp = portfolio_simulation(retornos)\n",
        "temp.head()"
      ],
      "metadata": {
        "colab": {
          "base_uri": "https://localhost:8080/",
          "height": 206
        },
        "id": "SlQVi9Tp9wKN",
        "outputId": "efe8c5a5-7aa0-4d0b-921c-6c3a7943cbe7"
      },
      "execution_count": null,
      "outputs": [
        {
          "output_type": "execute_result",
          "data": {
            "text/plain": [
              "   port_rets  port_vols                                            weights  \\\n",
              "0       4.58      12.11  [20.878265603058573, 24.494952286646456, 32.97...   \n",
              "1       9.31      11.75  [38.483483506909444, 5.8772229316598175, 20.59...   \n",
              "2       9.29      11.86  [24.64442716976253, 15.75060070334209, 8.90507...   \n",
              "3      12.02      14.38  [8.412460797777758, 13.083357345964973, 24.542...   \n",
              "4       6.74      13.26  [27.329192798676498, 21.126281916656726, 36.67...   \n",
              "\n",
              "   sharpe_ratio  \n",
              "0          0.38  \n",
              "1          0.79  \n",
              "2          0.78  \n",
              "3          0.84  \n",
              "4          0.51  "
            ],
            "text/html": [
              "\n",
              "  <div id=\"df-7b8a1ba3-aebd-452d-a723-9dd229d00539\" class=\"colab-df-container\">\n",
              "    <div>\n",
              "<style scoped>\n",
              "    .dataframe tbody tr th:only-of-type {\n",
              "        vertical-align: middle;\n",
              "    }\n",
              "\n",
              "    .dataframe tbody tr th {\n",
              "        vertical-align: top;\n",
              "    }\n",
              "\n",
              "    .dataframe thead th {\n",
              "        text-align: right;\n",
              "    }\n",
              "</style>\n",
              "<table border=\"1\" class=\"dataframe\">\n",
              "  <thead>\n",
              "    <tr style=\"text-align: right;\">\n",
              "      <th></th>\n",
              "      <th>port_rets</th>\n",
              "      <th>port_vols</th>\n",
              "      <th>weights</th>\n",
              "      <th>sharpe_ratio</th>\n",
              "    </tr>\n",
              "  </thead>\n",
              "  <tbody>\n",
              "    <tr>\n",
              "      <th>0</th>\n",
              "      <td>4.58</td>\n",
              "      <td>12.11</td>\n",
              "      <td>[20.878265603058573, 24.494952286646456, 32.97...</td>\n",
              "      <td>0.38</td>\n",
              "    </tr>\n",
              "    <tr>\n",
              "      <th>1</th>\n",
              "      <td>9.31</td>\n",
              "      <td>11.75</td>\n",
              "      <td>[38.483483506909444, 5.8772229316598175, 20.59...</td>\n",
              "      <td>0.79</td>\n",
              "    </tr>\n",
              "    <tr>\n",
              "      <th>2</th>\n",
              "      <td>9.29</td>\n",
              "      <td>11.86</td>\n",
              "      <td>[24.64442716976253, 15.75060070334209, 8.90507...</td>\n",
              "      <td>0.78</td>\n",
              "    </tr>\n",
              "    <tr>\n",
              "      <th>3</th>\n",
              "      <td>12.02</td>\n",
              "      <td>14.38</td>\n",
              "      <td>[8.412460797777758, 13.083357345964973, 24.542...</td>\n",
              "      <td>0.84</td>\n",
              "    </tr>\n",
              "    <tr>\n",
              "      <th>4</th>\n",
              "      <td>6.74</td>\n",
              "      <td>13.26</td>\n",
              "      <td>[27.329192798676498, 21.126281916656726, 36.67...</td>\n",
              "      <td>0.51</td>\n",
              "    </tr>\n",
              "  </tbody>\n",
              "</table>\n",
              "</div>\n",
              "    <div class=\"colab-df-buttons\">\n",
              "\n",
              "  <div class=\"colab-df-container\">\n",
              "    <button class=\"colab-df-convert\" onclick=\"convertToInteractive('df-7b8a1ba3-aebd-452d-a723-9dd229d00539')\"\n",
              "            title=\"Convert this dataframe to an interactive table.\"\n",
              "            style=\"display:none;\">\n",
              "\n",
              "  <svg xmlns=\"http://www.w3.org/2000/svg\" height=\"24px\" viewBox=\"0 -960 960 960\">\n",
              "    <path d=\"M120-120v-720h720v720H120Zm60-500h600v-160H180v160Zm220 220h160v-160H400v160Zm0 220h160v-160H400v160ZM180-400h160v-160H180v160Zm440 0h160v-160H620v160ZM180-180h160v-160H180v160Zm440 0h160v-160H620v160Z\"/>\n",
              "  </svg>\n",
              "    </button>\n",
              "\n",
              "  <style>\n",
              "    .colab-df-container {\n",
              "      display:flex;\n",
              "      gap: 12px;\n",
              "    }\n",
              "\n",
              "    .colab-df-convert {\n",
              "      background-color: #E8F0FE;\n",
              "      border: none;\n",
              "      border-radius: 50%;\n",
              "      cursor: pointer;\n",
              "      display: none;\n",
              "      fill: #1967D2;\n",
              "      height: 32px;\n",
              "      padding: 0 0 0 0;\n",
              "      width: 32px;\n",
              "    }\n",
              "\n",
              "    .colab-df-convert:hover {\n",
              "      background-color: #E2EBFA;\n",
              "      box-shadow: 0px 1px 2px rgba(60, 64, 67, 0.3), 0px 1px 3px 1px rgba(60, 64, 67, 0.15);\n",
              "      fill: #174EA6;\n",
              "    }\n",
              "\n",
              "    .colab-df-buttons div {\n",
              "      margin-bottom: 4px;\n",
              "    }\n",
              "\n",
              "    [theme=dark] .colab-df-convert {\n",
              "      background-color: #3B4455;\n",
              "      fill: #D2E3FC;\n",
              "    }\n",
              "\n",
              "    [theme=dark] .colab-df-convert:hover {\n",
              "      background-color: #434B5C;\n",
              "      box-shadow: 0px 1px 3px 1px rgba(0, 0, 0, 0.15);\n",
              "      filter: drop-shadow(0px 1px 2px rgba(0, 0, 0, 0.3));\n",
              "      fill: #FFFFFF;\n",
              "    }\n",
              "  </style>\n",
              "\n",
              "    <script>\n",
              "      const buttonEl =\n",
              "        document.querySelector('#df-7b8a1ba3-aebd-452d-a723-9dd229d00539 button.colab-df-convert');\n",
              "      buttonEl.style.display =\n",
              "        google.colab.kernel.accessAllowed ? 'block' : 'none';\n",
              "\n",
              "      async function convertToInteractive(key) {\n",
              "        const element = document.querySelector('#df-7b8a1ba3-aebd-452d-a723-9dd229d00539');\n",
              "        const dataTable =\n",
              "          await google.colab.kernel.invokeFunction('convertToInteractive',\n",
              "                                                    [key], {});\n",
              "        if (!dataTable) return;\n",
              "\n",
              "        const docLinkHtml = 'Like what you see? Visit the ' +\n",
              "          '<a target=\"_blank\" href=https://colab.research.google.com/notebooks/data_table.ipynb>data table notebook</a>'\n",
              "          + ' to learn more about interactive tables.';\n",
              "        element.innerHTML = '';\n",
              "        dataTable['output_type'] = 'display_data';\n",
              "        await google.colab.output.renderOutput(dataTable, element);\n",
              "        const docLink = document.createElement('div');\n",
              "        docLink.innerHTML = docLinkHtml;\n",
              "        element.appendChild(docLink);\n",
              "      }\n",
              "    </script>\n",
              "  </div>\n",
              "\n",
              "\n",
              "<div id=\"df-f41690c1-ab74-4b84-8b11-f5c9df2aaff3\">\n",
              "  <button class=\"colab-df-quickchart\" onclick=\"quickchart('df-f41690c1-ab74-4b84-8b11-f5c9df2aaff3')\"\n",
              "            title=\"Suggest charts\"\n",
              "            style=\"display:none;\">\n",
              "\n",
              "<svg xmlns=\"http://www.w3.org/2000/svg\" height=\"24px\"viewBox=\"0 0 24 24\"\n",
              "     width=\"24px\">\n",
              "    <g>\n",
              "        <path d=\"M19 3H5c-1.1 0-2 .9-2 2v14c0 1.1.9 2 2 2h14c1.1 0 2-.9 2-2V5c0-1.1-.9-2-2-2zM9 17H7v-7h2v7zm4 0h-2V7h2v10zm4 0h-2v-4h2v4z\"/>\n",
              "    </g>\n",
              "</svg>\n",
              "  </button>\n",
              "\n",
              "<style>\n",
              "  .colab-df-quickchart {\n",
              "      --bg-color: #E8F0FE;\n",
              "      --fill-color: #1967D2;\n",
              "      --hover-bg-color: #E2EBFA;\n",
              "      --hover-fill-color: #174EA6;\n",
              "      --disabled-fill-color: #AAA;\n",
              "      --disabled-bg-color: #DDD;\n",
              "  }\n",
              "\n",
              "  [theme=dark] .colab-df-quickchart {\n",
              "      --bg-color: #3B4455;\n",
              "      --fill-color: #D2E3FC;\n",
              "      --hover-bg-color: #434B5C;\n",
              "      --hover-fill-color: #FFFFFF;\n",
              "      --disabled-bg-color: #3B4455;\n",
              "      --disabled-fill-color: #666;\n",
              "  }\n",
              "\n",
              "  .colab-df-quickchart {\n",
              "    background-color: var(--bg-color);\n",
              "    border: none;\n",
              "    border-radius: 50%;\n",
              "    cursor: pointer;\n",
              "    display: none;\n",
              "    fill: var(--fill-color);\n",
              "    height: 32px;\n",
              "    padding: 0;\n",
              "    width: 32px;\n",
              "  }\n",
              "\n",
              "  .colab-df-quickchart:hover {\n",
              "    background-color: var(--hover-bg-color);\n",
              "    box-shadow: 0 1px 2px rgba(60, 64, 67, 0.3), 0 1px 3px 1px rgba(60, 64, 67, 0.15);\n",
              "    fill: var(--button-hover-fill-color);\n",
              "  }\n",
              "\n",
              "  .colab-df-quickchart-complete:disabled,\n",
              "  .colab-df-quickchart-complete:disabled:hover {\n",
              "    background-color: var(--disabled-bg-color);\n",
              "    fill: var(--disabled-fill-color);\n",
              "    box-shadow: none;\n",
              "  }\n",
              "\n",
              "  .colab-df-spinner {\n",
              "    border: 2px solid var(--fill-color);\n",
              "    border-color: transparent;\n",
              "    border-bottom-color: var(--fill-color);\n",
              "    animation:\n",
              "      spin 1s steps(1) infinite;\n",
              "  }\n",
              "\n",
              "  @keyframes spin {\n",
              "    0% {\n",
              "      border-color: transparent;\n",
              "      border-bottom-color: var(--fill-color);\n",
              "      border-left-color: var(--fill-color);\n",
              "    }\n",
              "    20% {\n",
              "      border-color: transparent;\n",
              "      border-left-color: var(--fill-color);\n",
              "      border-top-color: var(--fill-color);\n",
              "    }\n",
              "    30% {\n",
              "      border-color: transparent;\n",
              "      border-left-color: var(--fill-color);\n",
              "      border-top-color: var(--fill-color);\n",
              "      border-right-color: var(--fill-color);\n",
              "    }\n",
              "    40% {\n",
              "      border-color: transparent;\n",
              "      border-right-color: var(--fill-color);\n",
              "      border-top-color: var(--fill-color);\n",
              "    }\n",
              "    60% {\n",
              "      border-color: transparent;\n",
              "      border-right-color: var(--fill-color);\n",
              "    }\n",
              "    80% {\n",
              "      border-color: transparent;\n",
              "      border-right-color: var(--fill-color);\n",
              "      border-bottom-color: var(--fill-color);\n",
              "    }\n",
              "    90% {\n",
              "      border-color: transparent;\n",
              "      border-bottom-color: var(--fill-color);\n",
              "    }\n",
              "  }\n",
              "</style>\n",
              "\n",
              "  <script>\n",
              "    async function quickchart(key) {\n",
              "      const quickchartButtonEl =\n",
              "        document.querySelector('#' + key + ' button');\n",
              "      quickchartButtonEl.disabled = true;  // To prevent multiple clicks.\n",
              "      quickchartButtonEl.classList.add('colab-df-spinner');\n",
              "      try {\n",
              "        const charts = await google.colab.kernel.invokeFunction(\n",
              "            'suggestCharts', [key], {});\n",
              "      } catch (error) {\n",
              "        console.error('Error during call to suggestCharts:', error);\n",
              "      }\n",
              "      quickchartButtonEl.classList.remove('colab-df-spinner');\n",
              "      quickchartButtonEl.classList.add('colab-df-quickchart-complete');\n",
              "    }\n",
              "    (() => {\n",
              "      let quickchartButtonEl =\n",
              "        document.querySelector('#df-f41690c1-ab74-4b84-8b11-f5c9df2aaff3 button');\n",
              "      quickchartButtonEl.style.display =\n",
              "        google.colab.kernel.accessAllowed ? 'block' : 'none';\n",
              "    })();\n",
              "  </script>\n",
              "</div>\n",
              "    </div>\n",
              "  </div>\n"
            ]
          },
          "metadata": {},
          "execution_count": 1014
        }
      ]
    },
    {
      "cell_type": "code",
      "source": [
        "# Get the max sharpe portfolio stats\n",
        "temp.iloc[temp.sharpe_ratio.idxmax()]"
      ],
      "metadata": {
        "colab": {
          "base_uri": "https://localhost:8080/"
        },
        "id": "8CZDXFEN9yuc",
        "outputId": "d765c50c-be05-4675-a663-9e7aae7f1eb1"
      },
      "execution_count": null,
      "outputs": [
        {
          "output_type": "execute_result",
          "data": {
            "text/plain": [
              "port_rets                                                   15.58\n",
              "port_vols                                                   15.18\n",
              "weights         [4.734064056406238, 5.148564881902852, 1.91904...\n",
              "sharpe_ratio                                                 1.03\n",
              "Name: 87, dtype: object"
            ]
          },
          "metadata": {},
          "execution_count": 1015
        }
      ]
    },
    {
      "cell_type": "code",
      "source": [
        "# Verify the above result\n",
        "temp.describe().T"
      ],
      "metadata": {
        "colab": {
          "base_uri": "https://localhost:8080/",
          "height": 143
        },
        "id": "XbYdiWrT90pR",
        "outputId": "53a5c9d5-f20d-4b1f-d4d4-01b0bcd54c54"
      },
      "execution_count": null,
      "outputs": [
        {
          "output_type": "execute_result",
          "data": {
            "text/plain": [
              "               count      mean       std    min    25%    50%      75%    max\n",
              "port_rets     1000.0   8.07685  2.414361   1.11   6.50   8.08   9.5925  17.32\n",
              "port_vols     1000.0  12.76854  1.102218  10.74  11.97  12.66  13.3500  17.78\n",
              "sharpe_ratio  1000.0   0.63196  0.173828   0.07   0.52   0.64   0.7600   1.03"
            ],
            "text/html": [
              "\n",
              "  <div id=\"df-c723f974-7027-4c38-b0b8-03c48e752f66\" class=\"colab-df-container\">\n",
              "    <div>\n",
              "<style scoped>\n",
              "    .dataframe tbody tr th:only-of-type {\n",
              "        vertical-align: middle;\n",
              "    }\n",
              "\n",
              "    .dataframe tbody tr th {\n",
              "        vertical-align: top;\n",
              "    }\n",
              "\n",
              "    .dataframe thead th {\n",
              "        text-align: right;\n",
              "    }\n",
              "</style>\n",
              "<table border=\"1\" class=\"dataframe\">\n",
              "  <thead>\n",
              "    <tr style=\"text-align: right;\">\n",
              "      <th></th>\n",
              "      <th>count</th>\n",
              "      <th>mean</th>\n",
              "      <th>std</th>\n",
              "      <th>min</th>\n",
              "      <th>25%</th>\n",
              "      <th>50%</th>\n",
              "      <th>75%</th>\n",
              "      <th>max</th>\n",
              "    </tr>\n",
              "  </thead>\n",
              "  <tbody>\n",
              "    <tr>\n",
              "      <th>port_rets</th>\n",
              "      <td>1000.0</td>\n",
              "      <td>8.07685</td>\n",
              "      <td>2.414361</td>\n",
              "      <td>1.11</td>\n",
              "      <td>6.50</td>\n",
              "      <td>8.08</td>\n",
              "      <td>9.5925</td>\n",
              "      <td>17.32</td>\n",
              "    </tr>\n",
              "    <tr>\n",
              "      <th>port_vols</th>\n",
              "      <td>1000.0</td>\n",
              "      <td>12.76854</td>\n",
              "      <td>1.102218</td>\n",
              "      <td>10.74</td>\n",
              "      <td>11.97</td>\n",
              "      <td>12.66</td>\n",
              "      <td>13.3500</td>\n",
              "      <td>17.78</td>\n",
              "    </tr>\n",
              "    <tr>\n",
              "      <th>sharpe_ratio</th>\n",
              "      <td>1000.0</td>\n",
              "      <td>0.63196</td>\n",
              "      <td>0.173828</td>\n",
              "      <td>0.07</td>\n",
              "      <td>0.52</td>\n",
              "      <td>0.64</td>\n",
              "      <td>0.7600</td>\n",
              "      <td>1.03</td>\n",
              "    </tr>\n",
              "  </tbody>\n",
              "</table>\n",
              "</div>\n",
              "    <div class=\"colab-df-buttons\">\n",
              "\n",
              "  <div class=\"colab-df-container\">\n",
              "    <button class=\"colab-df-convert\" onclick=\"convertToInteractive('df-c723f974-7027-4c38-b0b8-03c48e752f66')\"\n",
              "            title=\"Convert this dataframe to an interactive table.\"\n",
              "            style=\"display:none;\">\n",
              "\n",
              "  <svg xmlns=\"http://www.w3.org/2000/svg\" height=\"24px\" viewBox=\"0 -960 960 960\">\n",
              "    <path d=\"M120-120v-720h720v720H120Zm60-500h600v-160H180v160Zm220 220h160v-160H400v160Zm0 220h160v-160H400v160ZM180-400h160v-160H180v160Zm440 0h160v-160H620v160ZM180-180h160v-160H180v160Zm440 0h160v-160H620v160Z\"/>\n",
              "  </svg>\n",
              "    </button>\n",
              "\n",
              "  <style>\n",
              "    .colab-df-container {\n",
              "      display:flex;\n",
              "      gap: 12px;\n",
              "    }\n",
              "\n",
              "    .colab-df-convert {\n",
              "      background-color: #E8F0FE;\n",
              "      border: none;\n",
              "      border-radius: 50%;\n",
              "      cursor: pointer;\n",
              "      display: none;\n",
              "      fill: #1967D2;\n",
              "      height: 32px;\n",
              "      padding: 0 0 0 0;\n",
              "      width: 32px;\n",
              "    }\n",
              "\n",
              "    .colab-df-convert:hover {\n",
              "      background-color: #E2EBFA;\n",
              "      box-shadow: 0px 1px 2px rgba(60, 64, 67, 0.3), 0px 1px 3px 1px rgba(60, 64, 67, 0.15);\n",
              "      fill: #174EA6;\n",
              "    }\n",
              "\n",
              "    .colab-df-buttons div {\n",
              "      margin-bottom: 4px;\n",
              "    }\n",
              "\n",
              "    [theme=dark] .colab-df-convert {\n",
              "      background-color: #3B4455;\n",
              "      fill: #D2E3FC;\n",
              "    }\n",
              "\n",
              "    [theme=dark] .colab-df-convert:hover {\n",
              "      background-color: #434B5C;\n",
              "      box-shadow: 0px 1px 3px 1px rgba(0, 0, 0, 0.15);\n",
              "      filter: drop-shadow(0px 1px 2px rgba(0, 0, 0, 0.3));\n",
              "      fill: #FFFFFF;\n",
              "    }\n",
              "  </style>\n",
              "\n",
              "    <script>\n",
              "      const buttonEl =\n",
              "        document.querySelector('#df-c723f974-7027-4c38-b0b8-03c48e752f66 button.colab-df-convert');\n",
              "      buttonEl.style.display =\n",
              "        google.colab.kernel.accessAllowed ? 'block' : 'none';\n",
              "\n",
              "      async function convertToInteractive(key) {\n",
              "        const element = document.querySelector('#df-c723f974-7027-4c38-b0b8-03c48e752f66');\n",
              "        const dataTable =\n",
              "          await google.colab.kernel.invokeFunction('convertToInteractive',\n",
              "                                                    [key], {});\n",
              "        if (!dataTable) return;\n",
              "\n",
              "        const docLinkHtml = 'Like what you see? Visit the ' +\n",
              "          '<a target=\"_blank\" href=https://colab.research.google.com/notebooks/data_table.ipynb>data table notebook</a>'\n",
              "          + ' to learn more about interactive tables.';\n",
              "        element.innerHTML = '';\n",
              "        dataTable['output_type'] = 'display_data';\n",
              "        await google.colab.output.renderOutput(dataTable, element);\n",
              "        const docLink = document.createElement('div');\n",
              "        docLink.innerHTML = docLinkHtml;\n",
              "        element.appendChild(docLink);\n",
              "      }\n",
              "    </script>\n",
              "  </div>\n",
              "\n",
              "\n",
              "<div id=\"df-6f466baa-2356-4548-bd7e-aab39b4ae65e\">\n",
              "  <button class=\"colab-df-quickchart\" onclick=\"quickchart('df-6f466baa-2356-4548-bd7e-aab39b4ae65e')\"\n",
              "            title=\"Suggest charts\"\n",
              "            style=\"display:none;\">\n",
              "\n",
              "<svg xmlns=\"http://www.w3.org/2000/svg\" height=\"24px\"viewBox=\"0 0 24 24\"\n",
              "     width=\"24px\">\n",
              "    <g>\n",
              "        <path d=\"M19 3H5c-1.1 0-2 .9-2 2v14c0 1.1.9 2 2 2h14c1.1 0 2-.9 2-2V5c0-1.1-.9-2-2-2zM9 17H7v-7h2v7zm4 0h-2V7h2v10zm4 0h-2v-4h2v4z\"/>\n",
              "    </g>\n",
              "</svg>\n",
              "  </button>\n",
              "\n",
              "<style>\n",
              "  .colab-df-quickchart {\n",
              "      --bg-color: #E8F0FE;\n",
              "      --fill-color: #1967D2;\n",
              "      --hover-bg-color: #E2EBFA;\n",
              "      --hover-fill-color: #174EA6;\n",
              "      --disabled-fill-color: #AAA;\n",
              "      --disabled-bg-color: #DDD;\n",
              "  }\n",
              "\n",
              "  [theme=dark] .colab-df-quickchart {\n",
              "      --bg-color: #3B4455;\n",
              "      --fill-color: #D2E3FC;\n",
              "      --hover-bg-color: #434B5C;\n",
              "      --hover-fill-color: #FFFFFF;\n",
              "      --disabled-bg-color: #3B4455;\n",
              "      --disabled-fill-color: #666;\n",
              "  }\n",
              "\n",
              "  .colab-df-quickchart {\n",
              "    background-color: var(--bg-color);\n",
              "    border: none;\n",
              "    border-radius: 50%;\n",
              "    cursor: pointer;\n",
              "    display: none;\n",
              "    fill: var(--fill-color);\n",
              "    height: 32px;\n",
              "    padding: 0;\n",
              "    width: 32px;\n",
              "  }\n",
              "\n",
              "  .colab-df-quickchart:hover {\n",
              "    background-color: var(--hover-bg-color);\n",
              "    box-shadow: 0 1px 2px rgba(60, 64, 67, 0.3), 0 1px 3px 1px rgba(60, 64, 67, 0.15);\n",
              "    fill: var(--button-hover-fill-color);\n",
              "  }\n",
              "\n",
              "  .colab-df-quickchart-complete:disabled,\n",
              "  .colab-df-quickchart-complete:disabled:hover {\n",
              "    background-color: var(--disabled-bg-color);\n",
              "    fill: var(--disabled-fill-color);\n",
              "    box-shadow: none;\n",
              "  }\n",
              "\n",
              "  .colab-df-spinner {\n",
              "    border: 2px solid var(--fill-color);\n",
              "    border-color: transparent;\n",
              "    border-bottom-color: var(--fill-color);\n",
              "    animation:\n",
              "      spin 1s steps(1) infinite;\n",
              "  }\n",
              "\n",
              "  @keyframes spin {\n",
              "    0% {\n",
              "      border-color: transparent;\n",
              "      border-bottom-color: var(--fill-color);\n",
              "      border-left-color: var(--fill-color);\n",
              "    }\n",
              "    20% {\n",
              "      border-color: transparent;\n",
              "      border-left-color: var(--fill-color);\n",
              "      border-top-color: var(--fill-color);\n",
              "    }\n",
              "    30% {\n",
              "      border-color: transparent;\n",
              "      border-left-color: var(--fill-color);\n",
              "      border-top-color: var(--fill-color);\n",
              "      border-right-color: var(--fill-color);\n",
              "    }\n",
              "    40% {\n",
              "      border-color: transparent;\n",
              "      border-right-color: var(--fill-color);\n",
              "      border-top-color: var(--fill-color);\n",
              "    }\n",
              "    60% {\n",
              "      border-color: transparent;\n",
              "      border-right-color: var(--fill-color);\n",
              "    }\n",
              "    80% {\n",
              "      border-color: transparent;\n",
              "      border-right-color: var(--fill-color);\n",
              "      border-bottom-color: var(--fill-color);\n",
              "    }\n",
              "    90% {\n",
              "      border-color: transparent;\n",
              "      border-bottom-color: var(--fill-color);\n",
              "    }\n",
              "  }\n",
              "</style>\n",
              "\n",
              "  <script>\n",
              "    async function quickchart(key) {\n",
              "      const quickchartButtonEl =\n",
              "        document.querySelector('#' + key + ' button');\n",
              "      quickchartButtonEl.disabled = true;  // To prevent multiple clicks.\n",
              "      quickchartButtonEl.classList.add('colab-df-spinner');\n",
              "      try {\n",
              "        const charts = await google.colab.kernel.invokeFunction(\n",
              "            'suggestCharts', [key], {});\n",
              "      } catch (error) {\n",
              "        console.error('Error during call to suggestCharts:', error);\n",
              "      }\n",
              "      quickchartButtonEl.classList.remove('colab-df-spinner');\n",
              "      quickchartButtonEl.classList.add('colab-df-quickchart-complete');\n",
              "    }\n",
              "    (() => {\n",
              "      let quickchartButtonEl =\n",
              "        document.querySelector('#df-6f466baa-2356-4548-bd7e-aab39b4ae65e button');\n",
              "      quickchartButtonEl.style.display =\n",
              "        google.colab.kernel.accessAllowed ? 'block' : 'none';\n",
              "    })();\n",
              "  </script>\n",
              "</div>\n",
              "    </div>\n",
              "  </div>\n"
            ]
          },
          "metadata": {},
          "execution_count": 1016
        }
      ]
    },
    {
      "cell_type": "code",
      "source": [
        "# Max sharpe ratio portfolio weights\n",
        "msrpwts = temp['weights'][temp['sharpe_ratio'].idxmax()]\n",
        "\n",
        "# Allocation to achieve max sharpe ratio portfolio\n",
        "dict(zip(symbols, around(msrpwts,2)))"
      ],
      "metadata": {
        "colab": {
          "base_uri": "https://localhost:8080/"
        },
        "id": "8_y9Bqr-93EP",
        "outputId": "67a534e2-982d-4e83-be13-562afba0a549"
      },
      "execution_count": null,
      "outputs": [
        {
          "output_type": "execute_result",
          "data": {
            "text/plain": [
              "{'AGG': 4.73, 'SEMB.L': 5.15, 'IYW': 1.92, 'IEMS.L': 59.38, 'GSG': 28.82}"
            ]
          },
          "metadata": {},
          "execution_count": 1017
        }
      ]
    },
    {
      "cell_type": "code",
      "source": [
        "# Define portfolio stats function\n",
        "def portfolio_stats(weights):\n",
        "\n",
        "    weights = array(weights)[:,newaxis]\n",
        "    port_rets = weights.T @ array(returns.mean() * 252)[:,newaxis]\n",
        "    port_vols = sqrt(multi_dot([weights.T, returns.cov() * 252, weights]))\n",
        "\n",
        "    return array([port_rets, port_vols, port_rets/port_vols]).flatten()"
      ],
      "metadata": {
        "id": "C2hDqyXG93LG"
      },
      "execution_count": null,
      "outputs": []
    },
    {
      "cell_type": "code",
      "source": [
        "# Definimos un portafolio de pesos equitativos.\n",
        "wts = numofasset2 * [1./numofasset2]\n",
        "array(wts).shape"
      ],
      "metadata": {
        "id": "LVh0rluX1mG6",
        "colab": {
          "base_uri": "https://localhost:8080/"
        },
        "outputId": "a0613ef0-c2e9-4529-f54d-5a765ee3a70a"
      },
      "execution_count": null,
      "outputs": [
        {
          "output_type": "execute_result",
          "data": {
            "text/plain": [
              "(5,)"
            ]
          },
          "metadata": {},
          "execution_count": 1019
        }
      ]
    },
    {
      "cell_type": "code",
      "source": [
        "# Tomando los pesos\n",
        "wts = numofasset2 * [1./numofasset2]\n",
        "wts = array(wts)[:,newaxis]\n",
        "wts"
      ],
      "metadata": {
        "id": "HukTf3rW3LH5",
        "colab": {
          "base_uri": "https://localhost:8080/"
        },
        "outputId": "991556ee-dd6b-4d4d-cbe3-ecf2b038ed55"
      },
      "execution_count": null,
      "outputs": [
        {
          "output_type": "execute_result",
          "data": {
            "text/plain": [
              "array([[0.2],\n",
              "       [0.2],\n",
              "       [0.2],\n",
              "       [0.2],\n",
              "       [0.2]])"
            ]
          },
          "metadata": {},
          "execution_count": 1020
        }
      ]
    },
    {
      "cell_type": "code",
      "source": [
        "# Revisando el shape\n",
        "wts.shape"
      ],
      "metadata": {
        "id": "JwqLv7YZ3QPT",
        "colab": {
          "base_uri": "https://localhost:8080/"
        },
        "outputId": "b4e145c2-c216-4cea-ebf6-1cf9468def40"
      },
      "execution_count": null,
      "outputs": [
        {
          "output_type": "execute_result",
          "data": {
            "text/plain": [
              "(5, 1)"
            ]
          },
          "metadata": {},
          "execution_count": 1021
        }
      ]
    },
    {
      "cell_type": "code",
      "source": [
        "#\n",
        "ret = array(retornos.mean() * 252)[:,newaxis]\n",
        "ret"
      ],
      "metadata": {
        "id": "DSlrrTy23Tq_",
        "colab": {
          "base_uri": "https://localhost:8080/"
        },
        "outputId": "7af81730-bc00-4af4-88f3-86bea6f36a07"
      },
      "execution_count": null,
      "outputs": [
        {
          "output_type": "execute_result",
          "data": {
            "text/plain": [
              "array([[ 0.06220394],\n",
              "       [-0.02869543],\n",
              "       [ 0.07741893],\n",
              "       [ 0.22690009],\n",
              "       [ 0.06297225]])"
            ]
          },
          "metadata": {},
          "execution_count": 1022
        }
      ]
    },
    {
      "cell_type": "code",
      "source": [
        "# Check shape\n",
        "ret.shape"
      ],
      "metadata": {
        "id": "wLdo4HoC4oUt",
        "colab": {
          "base_uri": "https://localhost:8080/"
        },
        "outputId": "532d03d1-3eeb-43c4-f136-ad074d5951e7"
      },
      "execution_count": null,
      "outputs": [
        {
          "output_type": "execute_result",
          "data": {
            "text/plain": [
              "(5, 1)"
            ]
          },
          "metadata": {},
          "execution_count": 1023
        }
      ]
    },
    {
      "cell_type": "markdown",
      "source": [
        "# **Maximo Sharpe Ratio**"
      ],
      "metadata": {
        "id": "C0Xg-uhfz0mt"
      }
    },
    {
      "cell_type": "code",
      "execution_count": null,
      "metadata": {
        "id": "d_afjTrFxd86"
      },
      "outputs": [],
      "source": [
        "# Maximizing sharpe ratio\n",
        "def min_sharpe_ratio(weights):\n",
        "    return -portfolio_stats(weights)[2]"
      ]
    },
    {
      "cell_type": "code",
      "execution_count": null,
      "metadata": {
        "colab": {
          "base_uri": "https://localhost:8080/"
        },
        "id": "qb4HOu4exgwI",
        "outputId": "dd58d2c1-9cd7-4459-d012-cd9835192c02"
      },
      "outputs": [
        {
          "output_type": "execute_result",
          "data": {
            "text/plain": [
              "((0, 1), (0, 1), (0, 1), (0, 1), (0, 1), (0, 1), (0, 1))"
            ]
          },
          "metadata": {},
          "execution_count": 1025
        }
      ],
      "source": [
        "# Each asset boundary ranges from 0 to 1\n",
        "tuple((0, 1) for x in range(numofasset))"
      ]
    },
    {
      "cell_type": "code",
      "execution_count": null,
      "metadata": {
        "id": "Itf9Rw7jxjRe"
      },
      "outputs": [],
      "source": [
        "# Specify constraints and bounds\n",
        "cons = ({'type': 'eq', 'fun': lambda x: sum(x) - 1})\n",
        "bnds = tuple((0, 1) for x in range(numofasset2))\n",
        "initial_wts = numofasset2*[1./numofasset2]"
      ]
    },
    {
      "cell_type": "code",
      "execution_count": null,
      "metadata": {
        "colab": {
          "base_uri": "https://localhost:8080/"
        },
        "id": "b-O5Vr1yxl8T",
        "outputId": "56641437-bc03-441c-a50b-fcbced6f7064"
      },
      "outputs": [
        {
          "output_type": "execute_result",
          "data": {
            "text/plain": [
              " message: Optimization terminated successfully\n",
              " success: True\n",
              "  status: 0\n",
              "     fun: -0.8716018741778371\n",
              "       x: [ 1.941e-17  0.000e+00  1.908e-17  1.000e+00  2.677e-17]\n",
              "     nit: 3\n",
              "     jac: [ 4.128e-02  2.440e-01  1.241e-01 -7.451e-09  2.320e-02]\n",
              "    nfev: 18\n",
              "    njev: 3"
            ]
          },
          "metadata": {},
          "execution_count": 1027
        }
      ],
      "source": [
        "# Optimizing for maximum sharpe ratio\n",
        "port_sharpe = sco.minimize(min_sharpe_ratio, initial_wts, method='SLSQP', bounds=bnds, constraints=cons)\n",
        "port_sharpe"
      ]
    },
    {
      "cell_type": "code",
      "source": [
        "# Portfolio weights\n",
        "list(zip(symbols, around(port_sharpe['x']*100,2)))"
      ],
      "metadata": {
        "colab": {
          "base_uri": "https://localhost:8080/"
        },
        "id": "hQix3bRrGaP2",
        "outputId": "124b2f27-31bd-4a53-db4c-3a18ccc2b4d4"
      },
      "execution_count": null,
      "outputs": [
        {
          "output_type": "execute_result",
          "data": {
            "text/plain": [
              "[('AGG', 0.0), ('SEMB.L', 0.0), ('IYW', 0.0), ('IEMS.L', 100.0), ('GSG', 0.0)]"
            ]
          },
          "metadata": {},
          "execution_count": 1028
        }
      ]
    },
    {
      "cell_type": "code",
      "execution_count": null,
      "metadata": {
        "colab": {
          "base_uri": "https://localhost:8080/"
        },
        "id": "nP-PJyl_xu1J",
        "outputId": "62305e3e-4ae2-4f59-d5a1-7159c587bc68"
      },
      "outputs": [
        {
          "output_type": "execute_result",
          "data": {
            "text/plain": [
              "[('Returns', 0.2028), ('Volatility', 0.2326), ('Sharpe Ratio', 0.8716)]"
            ]
          },
          "metadata": {},
          "execution_count": 1029
        }
      ],
      "source": [
        "# Portfolio stats\n",
        "stats = ['Returns', 'Volatility', 'Sharpe Ratio']\n",
        "list(zip(stats, around(portfolio_stats(port_sharpe['x']),4)))"
      ]
    },
    {
      "cell_type": "markdown",
      "source": [
        "# **Minima Volatidad**"
      ],
      "metadata": {
        "id": "-0Oe_l7H-jbw"
      }
    },
    {
      "cell_type": "code",
      "source": [
        "# Minimize the variance\n",
        "def min_variance(weights):\n",
        "    return portfolio_stats(weights)[1]**2"
      ],
      "metadata": {
        "id": "b3klBQgbGc1x"
      },
      "execution_count": null,
      "outputs": []
    },
    {
      "cell_type": "code",
      "source": [
        "port_min_var = sco.minimize(min_variance, initial_wts, method='SLSQP', bounds=bnds, constraints=cons)\n",
        "port_min_var"
      ],
      "metadata": {
        "colab": {
          "base_uri": "https://localhost:8080/"
        },
        "id": "I6r6h5voG3wA",
        "outputId": "e4d20b3a-a5b2-4acf-e03d-66139386f617"
      },
      "execution_count": null,
      "outputs": [
        {
          "output_type": "execute_result",
          "data": {
            "text/plain": [
              " message: Optimization terminated successfully\n",
              " success: True\n",
              "  status: 0\n",
              "     fun: 0.012438439221144095\n",
              "       x: [ 4.543e-01  1.227e-01  1.232e-01  7.605e-03  2.921e-01]\n",
              "     nit: 8\n",
              "     jac: [ 2.479e-02  2.537e-02  2.497e-02  2.448e-02  2.478e-02]\n",
              "    nfev: 48\n",
              "    njev: 8"
            ]
          },
          "metadata": {},
          "execution_count": 1031
        }
      ]
    },
    {
      "cell_type": "code",
      "source": [
        "# Portfolio weights\n",
        "list(zip(symbols, around(port_min_var['x']*100,2)))"
      ],
      "metadata": {
        "colab": {
          "base_uri": "https://localhost:8080/"
        },
        "id": "o7FIfdzcG558",
        "outputId": "67b65f07-f784-423a-def7-42ff3bab4286"
      },
      "execution_count": null,
      "outputs": [
        {
          "output_type": "execute_result",
          "data": {
            "text/plain": [
              "[('AGG', 45.43),\n",
              " ('SEMB.L', 12.27),\n",
              " ('IYW', 12.32),\n",
              " ('IEMS.L', 0.76),\n",
              " ('GSG', 29.21)]"
            ]
          },
          "metadata": {},
          "execution_count": 1032
        }
      ]
    },
    {
      "cell_type": "code",
      "source": [
        "# Portfolio stats\n",
        "list(zip(stats, around(portfolio_stats(port_min_var['x']),4)))"
      ],
      "metadata": {
        "colab": {
          "base_uri": "https://localhost:8080/"
        },
        "id": "XG3814CNG72c",
        "outputId": "4b955f60-6911-4ba7-f343-5c2df8ea0c0a"
      },
      "execution_count": null,
      "outputs": [
        {
          "output_type": "execute_result",
          "data": {
            "text/plain": [
              "[('Returns', 0.0294), ('Volatility', 0.1115), ('Sharpe Ratio', 0.2636)]"
            ]
          },
          "metadata": {},
          "execution_count": 1033
        }
      ]
    },
    {
      "cell_type": "markdown",
      "source": [
        "# **Minima Volatilidad y 10% de Rendimiento**"
      ],
      "metadata": {
        "id": "bWBMjkx7G9xG"
      }
    },
    {
      "cell_type": "code",
      "source": [
        "#Queremos rendimiento 10% anual\n",
        "rendimiendo_deseado  =0.1"
      ],
      "metadata": {
        "id": "V4-2nrwy8q-I"
      },
      "execution_count": null,
      "outputs": []
    },
    {
      "cell_type": "code",
      "source": [
        "#Matriz de covarianza de los rendimientos de los activos\n",
        "matrix_cov = retornos.cov()\n",
        "matrix_cov\n"
      ],
      "metadata": {
        "colab": {
          "base_uri": "https://localhost:8080/",
          "height": 206
        },
        "id": "jwhKXlBk9xGa",
        "outputId": "9bd5c181-6ec3-41e2-89af-0d0f34d287bf"
      },
      "execution_count": null,
      "outputs": [
        {
          "output_type": "execute_result",
          "data": {
            "text/plain": [
              "             AGG       GSG    IEMS.L       IYW    SEMB.L\n",
              "AGG     0.000075  0.000032  0.000032  0.000032  0.000022\n",
              "GSG     0.000032  0.000170  0.000065  0.000072  0.000014\n",
              "IEMS.L  0.000032  0.000065  0.000146  0.000088  0.000020\n",
              "IYW     0.000032  0.000072  0.000088  0.000184  0.000026\n",
              "SEMB.L  0.000022  0.000014  0.000020  0.000026  0.000086"
            ],
            "text/html": [
              "\n",
              "  <div id=\"df-0b63c153-1043-47e9-91bb-3ab3e78cf9b8\" class=\"colab-df-container\">\n",
              "    <div>\n",
              "<style scoped>\n",
              "    .dataframe tbody tr th:only-of-type {\n",
              "        vertical-align: middle;\n",
              "    }\n",
              "\n",
              "    .dataframe tbody tr th {\n",
              "        vertical-align: top;\n",
              "    }\n",
              "\n",
              "    .dataframe thead th {\n",
              "        text-align: right;\n",
              "    }\n",
              "</style>\n",
              "<table border=\"1\" class=\"dataframe\">\n",
              "  <thead>\n",
              "    <tr style=\"text-align: right;\">\n",
              "      <th></th>\n",
              "      <th>AGG</th>\n",
              "      <th>GSG</th>\n",
              "      <th>IEMS.L</th>\n",
              "      <th>IYW</th>\n",
              "      <th>SEMB.L</th>\n",
              "    </tr>\n",
              "  </thead>\n",
              "  <tbody>\n",
              "    <tr>\n",
              "      <th>AGG</th>\n",
              "      <td>0.000075</td>\n",
              "      <td>0.000032</td>\n",
              "      <td>0.000032</td>\n",
              "      <td>0.000032</td>\n",
              "      <td>0.000022</td>\n",
              "    </tr>\n",
              "    <tr>\n",
              "      <th>GSG</th>\n",
              "      <td>0.000032</td>\n",
              "      <td>0.000170</td>\n",
              "      <td>0.000065</td>\n",
              "      <td>0.000072</td>\n",
              "      <td>0.000014</td>\n",
              "    </tr>\n",
              "    <tr>\n",
              "      <th>IEMS.L</th>\n",
              "      <td>0.000032</td>\n",
              "      <td>0.000065</td>\n",
              "      <td>0.000146</td>\n",
              "      <td>0.000088</td>\n",
              "      <td>0.000020</td>\n",
              "    </tr>\n",
              "    <tr>\n",
              "      <th>IYW</th>\n",
              "      <td>0.000032</td>\n",
              "      <td>0.000072</td>\n",
              "      <td>0.000088</td>\n",
              "      <td>0.000184</td>\n",
              "      <td>0.000026</td>\n",
              "    </tr>\n",
              "    <tr>\n",
              "      <th>SEMB.L</th>\n",
              "      <td>0.000022</td>\n",
              "      <td>0.000014</td>\n",
              "      <td>0.000020</td>\n",
              "      <td>0.000026</td>\n",
              "      <td>0.000086</td>\n",
              "    </tr>\n",
              "  </tbody>\n",
              "</table>\n",
              "</div>\n",
              "    <div class=\"colab-df-buttons\">\n",
              "\n",
              "  <div class=\"colab-df-container\">\n",
              "    <button class=\"colab-df-convert\" onclick=\"convertToInteractive('df-0b63c153-1043-47e9-91bb-3ab3e78cf9b8')\"\n",
              "            title=\"Convert this dataframe to an interactive table.\"\n",
              "            style=\"display:none;\">\n",
              "\n",
              "  <svg xmlns=\"http://www.w3.org/2000/svg\" height=\"24px\" viewBox=\"0 -960 960 960\">\n",
              "    <path d=\"M120-120v-720h720v720H120Zm60-500h600v-160H180v160Zm220 220h160v-160H400v160Zm0 220h160v-160H400v160ZM180-400h160v-160H180v160Zm440 0h160v-160H620v160ZM180-180h160v-160H180v160Zm440 0h160v-160H620v160Z\"/>\n",
              "  </svg>\n",
              "    </button>\n",
              "\n",
              "  <style>\n",
              "    .colab-df-container {\n",
              "      display:flex;\n",
              "      gap: 12px;\n",
              "    }\n",
              "\n",
              "    .colab-df-convert {\n",
              "      background-color: #E8F0FE;\n",
              "      border: none;\n",
              "      border-radius: 50%;\n",
              "      cursor: pointer;\n",
              "      display: none;\n",
              "      fill: #1967D2;\n",
              "      height: 32px;\n",
              "      padding: 0 0 0 0;\n",
              "      width: 32px;\n",
              "    }\n",
              "\n",
              "    .colab-df-convert:hover {\n",
              "      background-color: #E2EBFA;\n",
              "      box-shadow: 0px 1px 2px rgba(60, 64, 67, 0.3), 0px 1px 3px 1px rgba(60, 64, 67, 0.15);\n",
              "      fill: #174EA6;\n",
              "    }\n",
              "\n",
              "    .colab-df-buttons div {\n",
              "      margin-bottom: 4px;\n",
              "    }\n",
              "\n",
              "    [theme=dark] .colab-df-convert {\n",
              "      background-color: #3B4455;\n",
              "      fill: #D2E3FC;\n",
              "    }\n",
              "\n",
              "    [theme=dark] .colab-df-convert:hover {\n",
              "      background-color: #434B5C;\n",
              "      box-shadow: 0px 1px 3px 1px rgba(0, 0, 0, 0.15);\n",
              "      filter: drop-shadow(0px 1px 2px rgba(0, 0, 0, 0.3));\n",
              "      fill: #FFFFFF;\n",
              "    }\n",
              "  </style>\n",
              "\n",
              "    <script>\n",
              "      const buttonEl =\n",
              "        document.querySelector('#df-0b63c153-1043-47e9-91bb-3ab3e78cf9b8 button.colab-df-convert');\n",
              "      buttonEl.style.display =\n",
              "        google.colab.kernel.accessAllowed ? 'block' : 'none';\n",
              "\n",
              "      async function convertToInteractive(key) {\n",
              "        const element = document.querySelector('#df-0b63c153-1043-47e9-91bb-3ab3e78cf9b8');\n",
              "        const dataTable =\n",
              "          await google.colab.kernel.invokeFunction('convertToInteractive',\n",
              "                                                    [key], {});\n",
              "        if (!dataTable) return;\n",
              "\n",
              "        const docLinkHtml = 'Like what you see? Visit the ' +\n",
              "          '<a target=\"_blank\" href=https://colab.research.google.com/notebooks/data_table.ipynb>data table notebook</a>'\n",
              "          + ' to learn more about interactive tables.';\n",
              "        element.innerHTML = '';\n",
              "        dataTable['output_type'] = 'display_data';\n",
              "        await google.colab.output.renderOutput(dataTable, element);\n",
              "        const docLink = document.createElement('div');\n",
              "        docLink.innerHTML = docLinkHtml;\n",
              "        element.appendChild(docLink);\n",
              "      }\n",
              "    </script>\n",
              "  </div>\n",
              "\n",
              "\n",
              "<div id=\"df-c2f6e90f-860c-473c-86ee-5a8c38aa0a66\">\n",
              "  <button class=\"colab-df-quickchart\" onclick=\"quickchart('df-c2f6e90f-860c-473c-86ee-5a8c38aa0a66')\"\n",
              "            title=\"Suggest charts\"\n",
              "            style=\"display:none;\">\n",
              "\n",
              "<svg xmlns=\"http://www.w3.org/2000/svg\" height=\"24px\"viewBox=\"0 0 24 24\"\n",
              "     width=\"24px\">\n",
              "    <g>\n",
              "        <path d=\"M19 3H5c-1.1 0-2 .9-2 2v14c0 1.1.9 2 2 2h14c1.1 0 2-.9 2-2V5c0-1.1-.9-2-2-2zM9 17H7v-7h2v7zm4 0h-2V7h2v10zm4 0h-2v-4h2v4z\"/>\n",
              "    </g>\n",
              "</svg>\n",
              "  </button>\n",
              "\n",
              "<style>\n",
              "  .colab-df-quickchart {\n",
              "      --bg-color: #E8F0FE;\n",
              "      --fill-color: #1967D2;\n",
              "      --hover-bg-color: #E2EBFA;\n",
              "      --hover-fill-color: #174EA6;\n",
              "      --disabled-fill-color: #AAA;\n",
              "      --disabled-bg-color: #DDD;\n",
              "  }\n",
              "\n",
              "  [theme=dark] .colab-df-quickchart {\n",
              "      --bg-color: #3B4455;\n",
              "      --fill-color: #D2E3FC;\n",
              "      --hover-bg-color: #434B5C;\n",
              "      --hover-fill-color: #FFFFFF;\n",
              "      --disabled-bg-color: #3B4455;\n",
              "      --disabled-fill-color: #666;\n",
              "  }\n",
              "\n",
              "  .colab-df-quickchart {\n",
              "    background-color: var(--bg-color);\n",
              "    border: none;\n",
              "    border-radius: 50%;\n",
              "    cursor: pointer;\n",
              "    display: none;\n",
              "    fill: var(--fill-color);\n",
              "    height: 32px;\n",
              "    padding: 0;\n",
              "    width: 32px;\n",
              "  }\n",
              "\n",
              "  .colab-df-quickchart:hover {\n",
              "    background-color: var(--hover-bg-color);\n",
              "    box-shadow: 0 1px 2px rgba(60, 64, 67, 0.3), 0 1px 3px 1px rgba(60, 64, 67, 0.15);\n",
              "    fill: var(--button-hover-fill-color);\n",
              "  }\n",
              "\n",
              "  .colab-df-quickchart-complete:disabled,\n",
              "  .colab-df-quickchart-complete:disabled:hover {\n",
              "    background-color: var(--disabled-bg-color);\n",
              "    fill: var(--disabled-fill-color);\n",
              "    box-shadow: none;\n",
              "  }\n",
              "\n",
              "  .colab-df-spinner {\n",
              "    border: 2px solid var(--fill-color);\n",
              "    border-color: transparent;\n",
              "    border-bottom-color: var(--fill-color);\n",
              "    animation:\n",
              "      spin 1s steps(1) infinite;\n",
              "  }\n",
              "\n",
              "  @keyframes spin {\n",
              "    0% {\n",
              "      border-color: transparent;\n",
              "      border-bottom-color: var(--fill-color);\n",
              "      border-left-color: var(--fill-color);\n",
              "    }\n",
              "    20% {\n",
              "      border-color: transparent;\n",
              "      border-left-color: var(--fill-color);\n",
              "      border-top-color: var(--fill-color);\n",
              "    }\n",
              "    30% {\n",
              "      border-color: transparent;\n",
              "      border-left-color: var(--fill-color);\n",
              "      border-top-color: var(--fill-color);\n",
              "      border-right-color: var(--fill-color);\n",
              "    }\n",
              "    40% {\n",
              "      border-color: transparent;\n",
              "      border-right-color: var(--fill-color);\n",
              "      border-top-color: var(--fill-color);\n",
              "    }\n",
              "    60% {\n",
              "      border-color: transparent;\n",
              "      border-right-color: var(--fill-color);\n",
              "    }\n",
              "    80% {\n",
              "      border-color: transparent;\n",
              "      border-right-color: var(--fill-color);\n",
              "      border-bottom-color: var(--fill-color);\n",
              "    }\n",
              "    90% {\n",
              "      border-color: transparent;\n",
              "      border-bottom-color: var(--fill-color);\n",
              "    }\n",
              "  }\n",
              "</style>\n",
              "\n",
              "  <script>\n",
              "    async function quickchart(key) {\n",
              "      const quickchartButtonEl =\n",
              "        document.querySelector('#' + key + ' button');\n",
              "      quickchartButtonEl.disabled = true;  // To prevent multiple clicks.\n",
              "      quickchartButtonEl.classList.add('colab-df-spinner');\n",
              "      try {\n",
              "        const charts = await google.colab.kernel.invokeFunction(\n",
              "            'suggestCharts', [key], {});\n",
              "      } catch (error) {\n",
              "        console.error('Error during call to suggestCharts:', error);\n",
              "      }\n",
              "      quickchartButtonEl.classList.remove('colab-df-spinner');\n",
              "      quickchartButtonEl.classList.add('colab-df-quickchart-complete');\n",
              "    }\n",
              "    (() => {\n",
              "      let quickchartButtonEl =\n",
              "        document.querySelector('#df-c2f6e90f-860c-473c-86ee-5a8c38aa0a66 button');\n",
              "      quickchartButtonEl.style.display =\n",
              "        google.colab.kernel.accessAllowed ? 'block' : 'none';\n",
              "    })();\n",
              "  </script>\n",
              "</div>\n",
              "    </div>\n",
              "  </div>\n"
            ]
          },
          "metadata": {},
          "execution_count": 1035
        }
      ]
    },
    {
      "cell_type": "code",
      "source": [
        "#Generemos la restricciones\n",
        "#Restricción 1: Pesos iagual a 1\n",
        "#Restricción 2: Rendimiento igual a 10%\n",
        "\n",
        "\n",
        "cons  =({'type': 'eq', 'fun': lambda weights: np.sum(weights) - 1},  # Suma de pesos igual a 1\n",
        "               {'type': 'eq', 'fun': lambda weights: np.dot(weights, ret) - rendimiendo_deseado})  # Rendimiento objetivo\n"
      ],
      "metadata": {
        "id": "xI7Ht246-hOP"
      },
      "execution_count": null,
      "outputs": []
    },
    {
      "cell_type": "code",
      "source": [
        "#Función para calcualr la varianza del portafolio\n",
        "def objective_function(weights, mean_returns, matrix_cov):\n",
        "    portfolio_variance = np.dot(weights.T, np.dot(matrix_cov*252, weights))\n",
        "    return portfolio_variance"
      ],
      "metadata": {
        "id": "HkYfHM2JCA2k"
      },
      "execution_count": null,
      "outputs": []
    },
    {
      "cell_type": "code",
      "source": [
        "port_min_var_rendimiento = minimize(objective_function, initial_wts, args=(ret, matrix_cov),method='SLSQP', bounds=bnds, constraints=cons)\n",
        "\n",
        "#Pesos\n",
        "port_min_var_rendimiento.x"
      ],
      "metadata": {
        "colab": {
          "base_uri": "https://localhost:8080/"
        },
        "id": "0CX_YLXyCfZb",
        "outputId": "6923a6fa-67bb-418d-96ac-47afe23532e3"
      },
      "execution_count": null,
      "outputs": [
        {
          "output_type": "execute_result",
          "data": {
            "text/plain": [
              "array([0.35659231, 0.        , 0.05508988, 0.22269466, 0.36562314])"
            ]
          },
          "metadata": {},
          "execution_count": 1038
        }
      ]
    },
    {
      "cell_type": "code",
      "source": [
        "#Suma de los pesos\n",
        "sum(port_min_var_rendimiento.x)"
      ],
      "metadata": {
        "id": "kBgtEG6WJwXk",
        "colab": {
          "base_uri": "https://localhost:8080/"
        },
        "outputId": "50897fc8-c540-482b-9301-a504fd13fdce"
      },
      "execution_count": null,
      "outputs": [
        {
          "output_type": "execute_result",
          "data": {
            "text/plain": [
              "1.0"
            ]
          },
          "metadata": {},
          "execution_count": 1039
        }
      ]
    },
    {
      "cell_type": "code",
      "source": [
        "#Rendimiento\n",
        "np.dot(port_min_var_rendimiento.x ,ret)"
      ],
      "metadata": {
        "id": "u1MtpTlWJ1xy",
        "colab": {
          "base_uri": "https://localhost:8080/"
        },
        "outputId": "c6d856dd-4d66-4cd2-dc04-d33e9aa1b48e"
      },
      "execution_count": null,
      "outputs": [
        {
          "output_type": "execute_result",
          "data": {
            "text/plain": [
              "array([0.1])"
            ]
          },
          "metadata": {},
          "execution_count": 1040
        }
      ]
    },
    {
      "cell_type": "markdown",
      "source": [
        "# **BackTesting**:"
      ],
      "metadata": {
        "id": "42WMlIg8Kvw5"
      }
    },
    {
      "cell_type": "code",
      "source": [
        "#Vamos a bajar los datos en el intervalo dado:\n",
        "def download_datos(tickers, start_date='2021-01-01', end_date=date.today().strftime('%Y-%m-%d')):\n",
        "    datos = yf.download(tickers, start=start_date, end=end_date)\n",
        "\n",
        "    return datos['Close']"
      ],
      "metadata": {
        "id": "6Y2Vb5Q3n_cw"
      },
      "execution_count": null,
      "outputs": []
    },
    {
      "cell_type": "code",
      "source": [
        "#Bajamos los datos de nuestros trickers\n",
        "symbols = ['AGG', 'SEMB.L', 'IYW', 'IEMS.L', 'GSG', 'MXN=X', 'GBPMXN=X' , '^GSPC' ]\n",
        "df=download_datos(symbols)\n",
        "df = df.dropna()"
      ],
      "metadata": {
        "id": "OOw_8PLEyWFB",
        "colab": {
          "base_uri": "https://localhost:8080/"
        },
        "outputId": "556aa0bb-2b37-4184-8f71-6b0613019baf"
      },
      "execution_count": null,
      "outputs": [
        {
          "output_type": "stream",
          "name": "stdout",
          "text": [
            "[*********************100%%**********************]  8 of 8 completed\n"
          ]
        }
      ]
    },
    {
      "cell_type": "code",
      "source": [
        "#Pasando a pesos todo\n",
        "df[\"AGG\"] = df[\"AGG\"] * df[\"MXN=X\"]\n",
        "df[\"SEMB.L\"] = df[\"SEMB.L\"] * df[\"GBPMXN=X\"]\n",
        "df[\"IEMS.L\"] = df[\"IEMS.L\"] * df[\"MXN=X\"]\n",
        "df[\"IYW\"] = df[\"IYW\"] * df[\"MXN=X\"]\n",
        "df[\"GSG\"] = df[\"GSG\"] * df[\"MXN=X\"]\n",
        "df[\"GSG\"] = df[\"^GSPC\"] * df[\"MXN=X\"]"
      ],
      "metadata": {
        "id": "XN6x3HVksZ3U"
      },
      "execution_count": null,
      "outputs": []
    },
    {
      "cell_type": "code",
      "source": [
        "#Calculando Retornos\n",
        "returns = df.pct_change().fillna(0)\n",
        "extras = [\"GBPMXN=X\", \"MXN=X\", '^GSPC']\n",
        "returns = returns.drop(extras, axis = 1)\n",
        "\n",
        "#Son los retornos medios del 2021 al 2023\n",
        "retornos_medios = returns.mean()"
      ],
      "metadata": {
        "id": "w1wcp8f3ybBs"
      },
      "execution_count": null,
      "outputs": []
    },
    {
      "cell_type": "markdown",
      "source": [
        "## **Calculando el rendimiento anual de cada portafolio óptimo calculado en el paso C**"
      ],
      "metadata": {
        "id": "XWi-hv9XiOMY"
      }
    },
    {
      "cell_type": "code",
      "source": [
        "#Retorno del portafolio minima volatilidad\n",
        "Return1 = port_min_var.x .T@ ret\n",
        "Return1"
      ],
      "metadata": {
        "colab": {
          "base_uri": "https://localhost:8080/"
        },
        "id": "YHilqi-ufWzA",
        "outputId": "2781680b-4040-43cf-c2e3-b2fd175bc813"
      },
      "execution_count": null,
      "outputs": [
        {
          "output_type": "execute_result",
          "data": {
            "text/plain": [
              "array([0.05440396])"
            ]
          },
          "metadata": {},
          "execution_count": 1045
        }
      ]
    },
    {
      "cell_type": "code",
      "source": [
        "#Retorno del portafolio minima volatilidad con 10% de rendimiento anual\n",
        "Return2 = port_min_var_rendimiento.x.T@ret\n",
        "Return2\n",
        "#Se cumple con lo pedido en el paso anterior"
      ],
      "metadata": {
        "colab": {
          "base_uri": "https://localhost:8080/"
        },
        "id": "fedL9u4-fjFJ",
        "outputId": "81d387c8-fec8-4d95-f205-8808bc7bd3eb"
      },
      "execution_count": null,
      "outputs": [
        {
          "output_type": "execute_result",
          "data": {
            "text/plain": [
              "array([0.1])"
            ]
          },
          "metadata": {},
          "execution_count": 1046
        }
      ]
    },
    {
      "cell_type": "code",
      "source": [
        "#Retorno del portafolio Maximo Sharpe Ratio\n",
        "Return3 = port_sharpe.x.T @ ret\n",
        "Return3"
      ],
      "metadata": {
        "colab": {
          "base_uri": "https://localhost:8080/"
        },
        "id": "5Gt1fVO-fzEp",
        "outputId": "70ce6fff-2f25-4efe-9202-6fc5d3cf91cb"
      },
      "execution_count": null,
      "outputs": [
        {
          "output_type": "execute_result",
          "data": {
            "text/plain": [
              "array([0.22690009])"
            ]
          },
          "metadata": {},
          "execution_count": 1047
        }
      ]
    },
    {
      "cell_type": "code",
      "source": [
        "#Retorno del portafolio equitativo\n",
        "Return4 = wts.T@ret\n",
        "Return4"
      ],
      "metadata": {
        "colab": {
          "base_uri": "https://localhost:8080/"
        },
        "id": "MeK2inE1gIYL",
        "outputId": "23c239da-d3b2-4e55-ce95-10a1236b2f78"
      },
      "execution_count": null,
      "outputs": [
        {
          "output_type": "execute_result",
          "data": {
            "text/plain": [
              "array([[0.08015996]])"
            ]
          },
          "metadata": {},
          "execution_count": 1048
        }
      ]
    },
    {
      "cell_type": "code",
      "source": [
        "#Calculando retornos para S&P500\n",
        "sp500 = df['^GSPC'].pct_change().fillna(0)\n",
        "#Calculando retornos medios para S&P500\n",
        "sp500_ret_medios = sp500.mean()\n",
        "sp500_ret_medios"
      ],
      "metadata": {
        "id": "jXU8zod1R1w_",
        "colab": {
          "base_uri": "https://localhost:8080/"
        },
        "outputId": "41d6c6fa-9b5a-4f4a-cb37-776278b394bf"
      },
      "execution_count": null,
      "outputs": [
        {
          "output_type": "execute_result",
          "data": {
            "text/plain": [
              "0.0003659540472951959"
            ]
          },
          "metadata": {},
          "execution_count": 1049
        }
      ]
    },
    {
      "cell_type": "markdown",
      "source": [
        "### **Obtengamos los rendimientos de nuestros portafolios óptimos**"
      ],
      "metadata": {
        "id": "S8D8GvRvjCaB"
      }
    },
    {
      "cell_type": "code",
      "source": [
        "\n",
        "#Creamos un data frame auxiliar para ultiplicar nuestros rendimientos por los pesos correspondientes\n",
        "returns_min_var = returns.copy()\n",
        "returns_max_sharpe = returns.copy()\n",
        "returns_min_var_rendimientos = returns.copy()\n",
        "returns_equidad = returns.copy()\n",
        "\n",
        "#Mi lista de ETFs\n",
        "nombre  =['AGG','GSG','IEMS.L','IYW','SEMB.L']\n"
      ],
      "metadata": {
        "id": "pHPfg1d6srW7"
      },
      "execution_count": null,
      "outputs": []
    },
    {
      "cell_type": "code",
      "source": [
        "\n",
        "#Obtenemos el data\n",
        "#Sustituimos el data frame multiplicando los retornos por los pesos\n",
        "for i in range(5):\n",
        "  returns_min_var[nombre[i]]=returns_min_var[nombre[i]]*port_min_var.x[i] #Creación del data frame usando minima volatilidadad\n",
        "  returns_max_sharpe[nombre[i]]=returns_max_sharpe[nombre[i]]*port_sharpe.x[i] #Creación del data frame usando maximo sharpe ratio\n",
        "  returns_min_var_rendimientos[nombre[i]]=returns_min_var_rendimientos[nombre[i]]*port_min_var_rendimiento.x[i] #Creación del data frame usando minima volatilidadad con 10% rendimiento anual\n",
        "  returns_equidad[nombre[i]]=returns_equidad[nombre[i]]*wts[i] #Creación del data frame usando pesos iguales\n"
      ],
      "metadata": {
        "id": "EAsQ3o0x3CPs"
      },
      "execution_count": null,
      "outputs": []
    },
    {
      "cell_type": "code",
      "source": [
        "#Sumamos los rendimeintos diarios\n",
        "returns_min_var_Final = returns_min_var[nombre[0]] + returns_min_var[nombre[1]] + returns_min_var[nombre[2]] + returns_min_var[nombre[3]] + returns_min_var[nombre[4]]\n",
        "returns_max_sharpe_Final = returns_max_sharpe[nombre[0]] + returns_max_sharpe[nombre[1]] + returns_max_sharpe[nombre[2]] + returns_max_sharpe[nombre[3]] + returns_max_sharpe[nombre[4]]\n",
        "returns_min_var_rendimientos_Final = returns_min_var_rendimientos[nombre[0]] + returns_min_var_rendimientos[nombre[1]] + returns_min_var_rendimientos[nombre[2]] + returns_min_var_rendimientos[nombre[3]] + returns_min_var_rendimientos[nombre[4]]\n",
        "returns_equidad_Final = returns_equidad[nombre[0]] + returns_equidad[nombre[1]] + returns_equidad[nombre[2]] + returns_equidad[nombre[3]] + returns_equidad[nombre[4]]\n"
      ],
      "metadata": {
        "id": "lpYqS5-N5zOR"
      },
      "execution_count": null,
      "outputs": []
    },
    {
      "cell_type": "markdown",
      "source": [
        "### **MÉTRICAS DE RIESGO DE NUESTROS PORTAFOLIOS ÓPTIMOS**"
      ],
      "metadata": {
        "id": "7VkS4TE18O65"
      }
    },
    {
      "cell_type": "code",
      "source": [
        "#Sesgo\n",
        "sesgo_port1 = returns_min_var_Final.skew()\n",
        "sesgo_port2 = returns_max_sharpe_Final.skew()\n",
        "sesgo_port3 = returns_min_var_rendimientos_Final.skew()\n",
        "sesgo_port4 = returns_equidad_Final.skew()\n",
        "sesgo_sp500 = sp500.skew()\n",
        "\n",
        "sesgo_general = [sesgo_port1,sesgo_port2,sesgo_port3,sesgo_port4,sesgo_sp500]"
      ],
      "metadata": {
        "id": "zU62tjva8VpI"
      },
      "execution_count": null,
      "outputs": []
    },
    {
      "cell_type": "code",
      "source": [
        "#kurtosis\n",
        "kurt_port1 = kurtosis(returns_min_var_Final)\n",
        "kurt_port2 = kurtosis(returns_max_sharpe_Final)\n",
        "kurt_port3 = kurtosis(returns_min_var_rendimientos_Final)\n",
        "kurt_port4 = kurtosis(returns_equidad_Final)\n",
        "kurt_sp500 = kurtosis(sp500)\n",
        "\n",
        "kurtosis_general = [kurt_port1,kurt_port2,kurt_port3,kurt_port4,kurt_sp500]"
      ],
      "metadata": {
        "id": "u-x0c4fs9iLg"
      },
      "execution_count": null,
      "outputs": []
    },
    {
      "cell_type": "markdown",
      "source": [
        "### **VaR**"
      ],
      "metadata": {
        "id": "6rU_26TTCzIP"
      }
    },
    {
      "cell_type": "code",
      "source": [
        "# Parametric VaR\n",
        "\n",
        "VaR_95_port1 = norm.ppf(1-0.95,np.mean(returns_min_var_Final),np.std(returns_min_var_Final))\n",
        "VaR_95_port2 = norm.ppf(1-0.95,np.mean(returns_max_sharpe_Final),np.std(returns_max_sharpe_Final))\n",
        "VaR_95_port3 = norm.ppf(1-0.95,np.mean(returns_min_var_rendimientos_Final),np.std(returns_min_var_rendimientos_Final))\n",
        "VaR_95_port4 = norm.ppf(1-0.95,np.mean(returns_equidad_Final),np.std(returns_equidad_Final))\n",
        "VaR_95_sp500 = norm.ppf(1-0.95,np.mean(sp500),np.std(sp500))\n",
        "\n",
        "VaR_95_general = [VaR_95_port1,VaR_95_port2,VaR_95_port3,VaR_95_port4,VaR_95_sp500]"
      ],
      "metadata": {
        "id": "S3lExYkXC5rB"
      },
      "execution_count": null,
      "outputs": []
    },
    {
      "cell_type": "markdown",
      "source": [
        "### **Historical VaR**"
      ],
      "metadata": {
        "id": "E43oNXB0BTgB"
      }
    },
    {
      "cell_type": "code",
      "source": [
        "# Historical VaR\n",
        "hVaR_95_prt1 = returns_min_var_Final.quantile(0.05)\n",
        "hVaR_95_prt2 = returns_max_sharpe_Final.quantile(0.05)\n",
        "hVaR_95_prt3 = returns_min_var_rendimientos_Final.quantile(0.05)\n",
        "hVaR_95_prt4 = returns_equidad_Final.quantile(0.05)\n",
        "hVaR_95_sp500 = sp500.quantile(0.05)\n",
        "\n",
        "hVaR_general = [hVaR_95_prt1,hVaR_95_prt2,hVaR_95_prt3,hVaR_95_prt4,hVaR_95_sp500]"
      ],
      "metadata": {
        "id": "iv1VzmudBbgn"
      },
      "execution_count": null,
      "outputs": []
    },
    {
      "cell_type": "markdown",
      "source": [
        "### **CVaR**"
      ],
      "metadata": {
        "id": "yBoaQJm_B1Ts"
      }
    },
    {
      "cell_type": "code",
      "source": [
        "CVaR_95_port1 = returns_min_var_Final[returns_min_var_Final<=hVaR_95_prt1].mean()\n",
        "CVaR_95_port2 = returns_max_sharpe_Final[returns_max_sharpe_Final<=hVaR_95_prt2].mean()\n",
        "CVaR_95_port3 = returns_min_var_rendimientos_Final[returns_min_var_rendimientos_Final<=hVaR_95_prt3].mean()\n",
        "CVaR_95_port4 = returns_equidad_Final[returns_equidad_Final<=hVaR_95_prt4].mean()\n",
        "CVaR_95_sp500 = sp500[sp500<=hVaR_95_prt4].mean()\n",
        "\n",
        "CVaR_95_general = [CVaR_95_port1,CVaR_95_port2,CVaR_95_port3,CVaR_95_port4,CVaR_95_sp500]"
      ],
      "metadata": {
        "id": "t7WBzbY5B6GK"
      },
      "execution_count": null,
      "outputs": []
    },
    {
      "cell_type": "markdown",
      "source": [
        "### **Sharpe Ratio**"
      ],
      "metadata": {
        "id": "r4TK1wQHCXnI"
      }
    },
    {
      "cell_type": "code",
      "source": [
        "# Tasa de rendimiento del bono de 1 año (anualizada y en formato decimal)\n",
        "Rf = 0.05426\n",
        "\n",
        "# Calcular el rendimiento medio diario y la desviación estándar de los rendimientos\n",
        "Rp_mean_port1 = returns_min_var_Final.mean() * 252\n",
        "Rp_mean_port2 = returns_max_sharpe_Final.mean() * 252\n",
        "Rp_mean_port3 = returns_min_var_rendimientos_Final.mean() * 252\n",
        "Rp_mean_port4 = returns_equidad_Final.mean() * 252\n",
        "Rp_mean_sp500 = sp500.mean() * 252\n",
        "\n",
        "\n",
        "sigma_p_port1= returns_min_var_Final.std() * np.sqrt(252)\n",
        "sigma_p_port2= returns_max_sharpe_Final.std() * np.sqrt(252)\n",
        "sigma_p_port3= returns_min_var_rendimientos_Final.std() * np.sqrt(252)\n",
        "sigma_p_port4= returns_equidad_Final.std() * np.sqrt(252)\n",
        "sigma_p_sp500= sp500.std() * np.sqrt(252)\n",
        "\n",
        "\n",
        "# Calcular el Sharpe Ratio\n",
        "sharpe_ratio_port1 = (Rp_mean_port1 - Rf) / sigma_p_port1\n",
        "sharpe_ratio_port2 = (Rp_mean_port2 - Rf) / sigma_p_port2\n",
        "sharpe_ratio_port3 = (Rp_mean_port3 - Rf) / sigma_p_port3\n",
        "sharpe_ratio_port4 = (Rp_mean_port4 - Rf) / sigma_p_port4\n",
        "sharpe_ratio_sp500 = (Rp_mean_sp500 - Rf) / sigma_p_sp500\n",
        "\n",
        "\n",
        "sharpe_ratio_general = [sharpe_ratio_port1,sharpe_ratio_port2,sharpe_ratio_port3,sharpe_ratio_port4,sharpe_ratio_sp500]"
      ],
      "metadata": {
        "id": "BaLNHZEsCcMF"
      },
      "execution_count": null,
      "outputs": []
    },
    {
      "cell_type": "code",
      "source": [],
      "metadata": {
        "id": "lm11IpiKcBAy"
      },
      "execution_count": null,
      "outputs": []
    },
    {
      "cell_type": "markdown",
      "source": [
        "### **Sortino**"
      ],
      "metadata": {
        "id": "oK_mzEC7DHQl"
      }
    },
    {
      "cell_type": "code",
      "source": [
        "# Calcular la desviación estándar de los rendimientos negativos usando la serie\n",
        "negative_returns_port1 = returns_min_var_Final[returns_min_var_Final < Rf]\n",
        "negative_returns_port2 = returns_max_sharpe_Final[returns_max_sharpe_Final < Rf]\n",
        "negative_returns_port3 = returns_min_var_rendimientos_Final[returns_min_var_rendimientos_Final < Rf]\n",
        "negative_returns_port4 = returns_equidad_Final[returns_equidad_Final < Rf]\n",
        "negative_returns_sp500 = sp500[sp500 < Rf]\n",
        "\n",
        "\n",
        "\n",
        "sigma_dp_series_port1 = negative_returns_port1.std()\n",
        "sigma_dp_series_port2 = negative_returns_port2.std()\n",
        "sigma_dp_series_port3 = negative_returns_port3.std()\n",
        "sigma_dp_series_port4 = negative_returns_port4.std()\n",
        "sigma_dp_series_sp500 = negative_returns_sp500.std()\n",
        "\n",
        "\n",
        "# Calcular el Sortino Ratio usando la serie\n",
        "sortino_ratio_series_port1 = (returns_min_var_Final.mean() - Rf) / sigma_dp_series_port1\n",
        "sortino_ratio_series_port2 = (returns_max_sharpe_Final.mean() - Rf) / sigma_dp_series_port2\n",
        "sortino_ratio_series_port3 = (returns_min_var_rendimientos_Final.mean() - Rf) / sigma_dp_series_port3\n",
        "sortino_ratio_series_port4 = (returns_equidad_Final.mean() - Rf) / sigma_dp_series_port4\n",
        "sortino_ratio_series_sp500 = (sp500 .mean() - Rf) / sigma_dp_series_sp500\n",
        "\n",
        "sortino_ratio_general = [sortino_ratio_series_port1,sortino_ratio_series_port2,sortino_ratio_series_port3,sortino_ratio_series_port4,sortino_ratio_series_sp500]"
      ],
      "metadata": {
        "id": "Mpb5ZVYvDK4A"
      },
      "execution_count": null,
      "outputs": []
    },
    {
      "cell_type": "markdown",
      "source": [
        "### **Drawdowns**"
      ],
      "metadata": {
        "id": "5GKeZpiKDvX-"
      }
    },
    {
      "cell_type": "code",
      "source": [
        "# Calcular la serie acumulativa de rendimientos\n",
        "cumulative_returns_port1 = (1 + returns_min_var_Final).cumprod()\n",
        "cumulative_returns_port2 = (1 + returns_max_sharpe_Final).cumprod()\n",
        "cumulative_returns_port3 = (1 + returns_min_var_rendimientos_Final).cumprod()\n",
        "cumulative_returns_port4 = (1 + returns_equidad_Final).cumprod()\n",
        "cumulative_returns_sp500 = (1 + sp500).cumprod()\n",
        "\n",
        "\n",
        "# Calcular el pico acumulativo previo en cada punto del tiempo\n",
        "running_max_port1 = cumulative_returns_port1.cummax()\n",
        "running_max_port2 = cumulative_returns_port2.cummax()\n",
        "running_max_port3 = cumulative_returns_port3.cummax()\n",
        "running_max_port4 = cumulative_returns_port4.cummax()\n",
        "running_max_sp500 = cumulative_returns_sp500.cummax()\n",
        "\n",
        "\n",
        "\n",
        "# Calcular la serie de drawdowns\n",
        "drawdowns_port1 = (cumulative_returns_port1 - running_max_port1) / running_max_port1\n",
        "drawdowns_port2 = (cumulative_returns_port2 - running_max_port2) / running_max_port2\n",
        "drawdowns_port3 = (cumulative_returns_port3 - running_max_port3) / running_max_port3\n",
        "drawdowns_port4 = (cumulative_returns_port4 - running_max_port4) / running_max_port4\n",
        "drawdowns_sp500 = (cumulative_returns_sp500 - running_max_sp500) / running_max_sp500\n",
        "\n",
        "\n",
        "# Encontrar el drawdown máximo\n",
        "max_drawdown_port1 = drawdowns_port1.min()\n",
        "max_drawdown_port2 = drawdowns_port2.min()\n",
        "max_drawdown_port3 = drawdowns_port3.min()\n",
        "max_drawdown_port4 = drawdowns_port4.min()\n",
        "max_drawdown_sp500 = drawdowns_sp500.min()\n",
        "\n",
        "drawdown_general = [max_drawdown_port1,max_drawdown_port2,max_drawdown_port3,max_drawdown_port4,max_drawdown_sp500]"
      ],
      "metadata": {
        "id": "A6WxfRtnE63i"
      },
      "execution_count": null,
      "outputs": []
    },
    {
      "cell_type": "markdown",
      "source": [
        "###**Nota Importante:**\n",
        "Se mostrarán los arrays de la siguiente manera.\\\n",
        "1.-Portafolio Óptimo de Mínima Volatilidad.\\\n",
        "2.-Portafolio Óptimo Máximo Sharpe Ratio.\\\n",
        "3.-Portafolio Óptimo Mínima Volatilidad con 10% de rendimiento anual.\\\n",
        "4.-Portafolio Equitativo.\\\n",
        "5.- Índice S&P500.\n"
      ],
      "metadata": {
        "id": "uvmis1JAMdZN"
      }
    },
    {
      "cell_type": "code",
      "source": [
        "sesgo_general"
      ],
      "metadata": {
        "colab": {
          "base_uri": "https://localhost:8080/"
        },
        "id": "xXk_ldY0nI7X",
        "outputId": "c75eacc2-70f2-442f-913d-3d54e38d3162"
      },
      "execution_count": null,
      "outputs": [
        {
          "output_type": "execute_result",
          "data": {
            "text/plain": [
              "[0.49759892752176627,\n",
              " 0.09096714881419593,\n",
              " 0.5710957612676159,\n",
              " 0.08511706334458345,\n",
              " -0.13788531375427387]"
            ]
          },
          "metadata": {},
          "execution_count": 1061
        }
      ]
    },
    {
      "cell_type": "markdown",
      "source": [
        "### **Analizando el sesgo de los portafolios**\n",
        "Notemos que el Portafolio Mínima volatilidad (1) y Portafolio de Minima volatilidad con rendimineto del 10% (3) se encuenta con valores positivos altos, esto nos quiere decir que sus rendimientos fueron más elevados que la media, en cambio S&P500 muestra un valor negativo, no es considerablemente alto pero nos indica que sus retornos se mantuvieron por debajo de la media.\n",
        "\n",
        "El Portafolio Maximo Sharpe Ratio(2) y Portafolio Equitativo(4), se mantuvieron\n",
        "muy cercanos a la media."
      ],
      "metadata": {
        "id": "XMyl-b-3nPVI"
      }
    },
    {
      "cell_type": "code",
      "source": [
        "kurtosis_general"
      ],
      "metadata": {
        "colab": {
          "base_uri": "https://localhost:8080/"
        },
        "id": "C8MGSJimoeuZ",
        "outputId": "7b1a2813-c8eb-4767-876a-e03fa0f08bcd"
      },
      "execution_count": null,
      "outputs": [
        {
          "output_type": "execute_result",
          "data": {
            "text/plain": [
              "[10.052346466794242,\n",
              " 1.134385342561731,\n",
              " 14.33801662508569,\n",
              " 2.6890224816637396,\n",
              " 1.5489963928683688]"
            ]
          },
          "metadata": {},
          "execution_count": 1062
        }
      ]
    },
    {
      "cell_type": "markdown",
      "source": [
        "### **Analizando el exceso de Kurtosis**\n",
        "Notemos que el Portafolio 1 y 3 tiene Kurtosis altas, lo que nos indica que estos ETFs van a tener rendimientos altos, lo cual complemento a lo obtenido en el sesgo (mayores a la media), y en los demás portafolios se tienen valores cercanos a 0, por lo que sus rendimientos no serán tan altos como los dos anteriores"
      ],
      "metadata": {
        "id": "oQwG7fhspVwT"
      }
    },
    {
      "cell_type": "code",
      "source": [
        "VaR_95_general"
      ],
      "metadata": {
        "colab": {
          "base_uri": "https://localhost:8080/"
        },
        "id": "mf-wRtewqYuK",
        "outputId": "e8bb3774-c024-418d-fccf-0f7cd0af65da"
      },
      "execution_count": null,
      "outputs": [
        {
          "output_type": "execute_result",
          "data": {
            "text/plain": [
              "[-0.013827662068005994,\n",
              " -0.02934127148199311,\n",
              " -0.01563260838749728,\n",
              " -0.016297275726713814,\n",
              " -0.018129986288309665]"
            ]
          },
          "metadata": {},
          "execution_count": 1063
        }
      ]
    },
    {
      "cell_type": "markdown",
      "source": [
        "### **Analizando el VaR**\n",
        "Todos los portafolios no exceden el 3% de perdidás del valor del portafolio, lo cual puede indicar que nuestra exposición al riesgo en los portafolios no es tan alta, los portafolios de mínima volatilidad (1 y 3) contienen la menor cantidad de exposición de riesgo de los 5 portafolios."
      ],
      "metadata": {
        "id": "xQ4n8siyqfoX"
      }
    },
    {
      "cell_type": "code",
      "source": [
        "CVaR_95_general"
      ],
      "metadata": {
        "colab": {
          "base_uri": "https://localhost:8080/"
        },
        "id": "2YePDVaQsIWU",
        "outputId": "872e8520-d493-4145-e9b4-af2796b5cee5"
      },
      "execution_count": null,
      "outputs": [
        {
          "output_type": "execute_result",
          "data": {
            "text/plain": [
              "[-0.016655648615992138,\n",
              " -0.03839851528542282,\n",
              " -0.019388077932689474,\n",
              " -0.020834254962583957,\n",
              " -0.022471833152549518]"
            ]
          },
          "metadata": {},
          "execution_count": 1064
        }
      ]
    },
    {
      "cell_type": "markdown",
      "source": [
        "### **Analizando el CVaR**\n",
        "El CVaR nos proporcia el promedio de las perdidas en caso de sobrepasar el VaR, notemos que nuestros 5 portafolios se mantienen por debajo del 5% de pérdida, notemos que si elegimos el portafolio Maximo Sharpe Ratio(2) estamos eligiendo el portafolio más expuesto al riesgo, ya que es el máximo en pérdidas tanto en el VaR como en CVaR, los portafolios de Minima volatilidad y Mínima volatilidad siguen sinedo los portafolios con menos pérdidas de los 5."
      ],
      "metadata": {
        "id": "CeCF-WBfsN2j"
      }
    },
    {
      "cell_type": "code",
      "source": [
        "sharpe_ratio_general"
      ],
      "metadata": {
        "colab": {
          "base_uri": "https://localhost:8080/"
        },
        "id": "xtd9xzcDtiAu",
        "outputId": "19892691-72f2-4d91-d47b-1e10663e3eed"
      },
      "execution_count": null,
      "outputs": [
        {
          "output_type": "execute_result",
          "data": {
            "text/plain": [
              "[-1.0128145369631703,\n",
              " 0.2208052323888032,\n",
              " -0.7513804607137871,\n",
              " -0.43143178435460133,\n",
              " 0.21251060717326098]"
            ]
          },
          "metadata": {},
          "execution_count": 1065
        }
      ]
    },
    {
      "cell_type": "markdown",
      "source": [
        "### **Analizando el Sharpe Ratio**\n",
        "Los portafolios de mínima volatilidad (1 y 3) no son tan buenos cuando se habla de riesgo-beneficio, ya que son los valores más negativos de mis 5 muestras.\n",
        "\n",
        "Los mejores portafolios para riesgo-beneficio son Máximo Sharpe Ratio y S&P500, lo que nos indica que superan la tasa libre de riesgo, pero no son tan altos.\n"
      ],
      "metadata": {
        "id": "cKgyWA95tprp"
      }
    },
    {
      "cell_type": "code",
      "source": [
        "sortino_ratio_general"
      ],
      "metadata": {
        "colab": {
          "base_uri": "https://localhost:8080/"
        },
        "id": "ibihlm5_vDfC",
        "outputId": "7d79bb45-f052-4649-e8e8-03088ac2504a"
      },
      "execution_count": null,
      "outputs": [
        {
          "output_type": "execute_result",
          "data": {
            "text/plain": [
              "[-6.966434410453034,\n",
              " -3.0365487300683522,\n",
              " -6.177203074307726,\n",
              " -5.49590173276889,\n",
              " -4.867829008232959]"
            ]
          },
          "metadata": {},
          "execution_count": 1066
        }
      ]
    },
    {
      "cell_type": "markdown",
      "source": [
        "### **Analizando Sortino**\n",
        "Nuestros porfatolios y el S&P500 al ser negativos en la metrica de riesgo Sortino nos indica que hay hay pérdidas desfavorables en relación a la tasa de rendimiento esperado."
      ],
      "metadata": {
        "id": "e4ak1sLqvHjM"
      }
    },
    {
      "cell_type": "code",
      "source": [
        "#Drardowns\n",
        "drawdown_general"
      ],
      "metadata": {
        "colab": {
          "base_uri": "https://localhost:8080/"
        },
        "id": "B5t0P5sK5FbM",
        "outputId": "6f3c1fab-7836-4dc2-d21f-5b989f2c188c"
      },
      "execution_count": null,
      "outputs": [
        {
          "output_type": "execute_result",
          "data": {
            "text/plain": [
              "[-0.3409715086391202,\n",
              " -0.44265712174991634,\n",
              " -0.3391717143751583,\n",
              " -0.32098580326279635,\n",
              " -0.2537811304072361]"
            ]
          },
          "metadata": {},
          "execution_count": 1067
        }
      ]
    },
    {
      "cell_type": "markdown",
      "source": [
        "### **Analizando Drawdown**\n",
        "Los portafolios tuvieron una gran disminución entre su alto historico con su minimo historico, siendo el de Máximo Sharpe Ratio el que tuvo la caída más grande, en general fueron caídas grandes."
      ],
      "metadata": {
        "id": "rU4Q0K7K6Mn6"
      }
    },
    {
      "cell_type": "markdown",
      "source": [
        "Podemos notar que los protafolios de Miníma volatilidad cumplen que son los portafoliso con menos pérdidas esperadas pero su riesgo-beneficio no estan buena.\n",
        "\n",
        "Máximo Sharpe Ratio es el portafolio más expuesto al riesgo según lo obtenido en el VaR y CVaR, pero la Métrica Sharpe Ratio nos indica que ese riesgo que se toma nos da más beneficio que los demás, además fue el portafolio que tuvo la fructuación más grande entre el máximo historico y el mínimo historico por lo visto en Drawdown.\n",
        "\n",
        "El equitativo muestra datos curiosos, al ser un portafolio equitativo, no hubo restricciones en cuanto a minimizar volatilidad o obtener cierto rendimiento, este tuvo valores cercanos a su media, y obteniendo VaR y CVaR menores a otros portafolios, claro que su riesgo-beneficio no es buneo obteniendo un número negativo relativamente alto respecto a otros.\n",
        "\n"
      ],
      "metadata": {
        "id": "bY9dB7s76o-o"
      }
    },
    {
      "cell_type": "markdown",
      "source": [
        "**Rendimientos Anuales y Acumulados**"
      ],
      "metadata": {
        "id": "1kwuta3mG7hz"
      }
    },
    {
      "cell_type": "code",
      "source": [
        "def anualizar_rendimiento(rendimiento_bruto, dias):\n",
        "    rendimiento_anualizado = rendimiento_bruto / dias * 360\n",
        "    return rendimiento_anualizado\n",
        "\n",
        "def calcular_rendimiento_bruto(precio_inicio, precio_fin, dias):\n",
        "    # Calcular el cambio porcentual en el precio\n",
        "    cambio_pct = (precio_fin / precio_inicio) - 1\n",
        "\n",
        "    # Calcular el rendimiento bruto\n",
        "    rendimiento_bruto = cambio_pct\n",
        "    return rendimiento_bruto"
      ],
      "metadata": {
        "id": "ixY-A7zpMxpk"
      },
      "execution_count": null,
      "outputs": []
    },
    {
      "cell_type": "code",
      "source": [
        "rend = pd.concat([returns_min_var_Final, returns_max_sharpe_Final, returns_min_var_rendimientos_Final,returns_equidad_Final, sp500], axis = 1)\n",
        "rend.columns = [\"Min_Var\",\"Max_SR\",\"Min_Var10\",\"Equitativos\", \"S&P500\"]\n",
        "\n",
        "dias = returns_min_var_Final.shape[0]"
      ],
      "metadata": {
        "id": "HHUvx47zHkn-"
      },
      "execution_count": null,
      "outputs": []
    },
    {
      "cell_type": "code",
      "source": [
        "#Rendimietnto Bruto Min_Var\n",
        "rendb_MV = calcular_rendimiento_bruto(rend[\"Min_Var\"].values[1], rend[\"Min_Var\"].iloc[-1], dias)\n",
        "rendb_MV"
      ],
      "metadata": {
        "colab": {
          "base_uri": "https://localhost:8080/"
        },
        "id": "VIFGJ0IJO2IX",
        "outputId": "f42636f7-f2a2-4c45-8fbf-eddbf678535b"
      },
      "execution_count": null,
      "outputs": [
        {
          "output_type": "execute_result",
          "data": {
            "text/plain": [
              "6.692746480108182"
            ]
          },
          "metadata": {},
          "execution_count": 1070
        }
      ]
    },
    {
      "cell_type": "code",
      "source": [
        "#Rendimientos Acumulado Min_Var\n",
        "anualizar_rendimiento(rendb_MV,252)"
      ],
      "metadata": {
        "id": "vqjcx8cPzpUR",
        "colab": {
          "base_uri": "https://localhost:8080/"
        },
        "outputId": "9875e4f3-d577-42f6-bc19-7f286dc8b884"
      },
      "execution_count": null,
      "outputs": [
        {
          "output_type": "execute_result",
          "data": {
            "text/plain": [
              "9.561066400154546"
            ]
          },
          "metadata": {},
          "execution_count": 1071
        }
      ]
    },
    {
      "cell_type": "code",
      "source": [
        "#Rendimientos Bruto Max_SR\n",
        "rendb_MSR = calcular_rendimiento_bruto(rend[\"Max_SR\"].values[1], rend[\"Max_SR\"].iloc[-1], dias)\n",
        "rendb_MSR"
      ],
      "metadata": {
        "colab": {
          "base_uri": "https://localhost:8080/"
        },
        "id": "OtPFlLkJJ9LF",
        "outputId": "82593b6c-afab-407c-ba44-1e55409f470f"
      },
      "execution_count": null,
      "outputs": [
        {
          "output_type": "execute_result",
          "data": {
            "text/plain": [
              "0.3897609820306265"
            ]
          },
          "metadata": {},
          "execution_count": 1072
        }
      ]
    },
    {
      "cell_type": "code",
      "source": [
        "#Rendimientos Acumulado Max_SR\n",
        "anualizar_rendimiento(rendb_MSR,252)"
      ],
      "metadata": {
        "colab": {
          "base_uri": "https://localhost:8080/"
        },
        "outputId": "c9ead806-6519-490b-8f56-5753c28ee65f",
        "id": "Z5Xm3FfvQ8cU"
      },
      "execution_count": null,
      "outputs": [
        {
          "output_type": "execute_result",
          "data": {
            "text/plain": [
              "0.556801402900895"
            ]
          },
          "metadata": {},
          "execution_count": 1073
        }
      ]
    },
    {
      "cell_type": "code",
      "source": [
        "#Rendimientos Bruto \"Min_Var10\"\n",
        "rendb_MV10 = calcular_rendimiento_bruto(rend[\"Min_Var10\"].values[1], rend[\"Min_Var10\"].iloc[-1], dias)\n",
        "rendb_MV10"
      ],
      "metadata": {
        "colab": {
          "base_uri": "https://localhost:8080/"
        },
        "outputId": "f529abef-d432-43d0-b6a2-941c2dd128cd",
        "id": "xMbmKeeyRHo5"
      },
      "execution_count": null,
      "outputs": [
        {
          "output_type": "execute_result",
          "data": {
            "text/plain": [
              "10.692731572903194"
            ]
          },
          "metadata": {},
          "execution_count": 1074
        }
      ]
    },
    {
      "cell_type": "code",
      "source": [
        "#Rendimientos Acumulado Min_Var10\n",
        "anualizar_rendimiento(rendb_MV10,252)"
      ],
      "metadata": {
        "colab": {
          "base_uri": "https://localhost:8080/"
        },
        "outputId": "add39089-2019-406a-809f-2eb76f9fe96a",
        "id": "6eaaE2s7RHpG"
      },
      "execution_count": null,
      "outputs": [
        {
          "output_type": "execute_result",
          "data": {
            "text/plain": [
              "15.275330818433135"
            ]
          },
          "metadata": {},
          "execution_count": 1075
        }
      ]
    },
    {
      "cell_type": "code",
      "source": [
        "#Rendimientos Bruto \"Equitativos\"\n",
        "rendb_E = calcular_rendimiento_bruto(rend[\"Equitativos\"].values[1], rend[\"Equitativos\"].iloc[-1], dias)\n",
        "rendb_E"
      ],
      "metadata": {
        "colab": {
          "base_uri": "https://localhost:8080/"
        },
        "outputId": "9aabc44e-60f8-4243-f06d-b43c7c6811b1",
        "id": "ltIZPpGTRKAL"
      },
      "execution_count": null,
      "outputs": [
        {
          "output_type": "execute_result",
          "data": {
            "text/plain": [
              "1.091361040100737"
            ]
          },
          "metadata": {},
          "execution_count": 1076
        }
      ]
    },
    {
      "cell_type": "code",
      "source": [
        "#Rendimientos Acumulado \"Equitativos\"\n",
        "anualizar_rendimiento(rendb_E,252)"
      ],
      "metadata": {
        "colab": {
          "base_uri": "https://localhost:8080/"
        },
        "outputId": "225864b7-9513-4cf6-9f46-a30119c26392",
        "id": "h3-Jc6PFRKAe"
      },
      "execution_count": null,
      "outputs": [
        {
          "output_type": "execute_result",
          "data": {
            "text/plain": [
              "1.55908720014391"
            ]
          },
          "metadata": {},
          "execution_count": 1077
        }
      ]
    },
    {
      "cell_type": "code",
      "source": [
        "#Rendimientos Bruto \"S&P500\"\n",
        "rendb_500 = calcular_rendimiento_bruto(rend[\"S&P500\"].values[1], rend[\"S&P500\"].iloc[-1], dias)\n",
        "rendb_500"
      ],
      "metadata": {
        "colab": {
          "base_uri": "https://localhost:8080/"
        },
        "outputId": "76a94a0e-58b6-4886-ebd0-d37b30a3a042",
        "id": "M9d4r9x6SLZy"
      },
      "execution_count": null,
      "outputs": [
        {
          "output_type": "execute_result",
          "data": {
            "text/plain": [
              "-0.42175180441092497"
            ]
          },
          "metadata": {},
          "execution_count": 1078
        }
      ]
    },
    {
      "cell_type": "code",
      "source": [
        "#Rendimientos Acumulado \"Equitativos\"\n",
        "anualizar_rendimiento(rendb_500,252)"
      ],
      "metadata": {
        "colab": {
          "base_uri": "https://localhost:8080/"
        },
        "outputId": "1e46a1bf-3566-4982-f485-0d9c886793df",
        "id": "3xWNd6i_SLaG"
      },
      "execution_count": null,
      "outputs": [
        {
          "output_type": "execute_result",
          "data": {
            "text/plain": [
              "-0.6025025777298928"
            ]
          },
          "metadata": {},
          "execution_count": 1079
        }
      ]
    },
    {
      "cell_type": "code",
      "source": [
        "data = {\n",
        "    'DATOS': ['RENDIMIENTO','SESGO','KURTOSIS','VaR','CVaR','SHARPE RATIO','SORTINO','DRAWDOWN'],\n",
        "    'MIN_VAR': [rendb_MV,sesgo_general[0], kurtosis_general[0], VaR_95_general[0],CVaR_95_general[0],sharpe_ratio_general[0],sortino_ratio_general[0],drawdown_general[0]],\n",
        "    'MÁX_SHARPE_RATIO': [rendb_MSR,sesgo_general[1], kurtosis_general[1], VaR_95_general[1],CVaR_95_general[1],sharpe_ratio_general[1],sortino_ratio_general[1],drawdown_general[1]],\n",
        "    'MIN_VAR_10%': [rendb_MV10 ,sesgo_general[2], kurtosis_general[2], VaR_95_general[2],CVaR_95_general[2],sharpe_ratio_general[2],sortino_ratio_general[2],drawdown_general[2]],\n",
        "    'S&P500': [rendb_500,sesgo_general[3], kurtosis_general[3], VaR_95_general[3],CVaR_95_general[3],sharpe_ratio_general[3],sortino_ratio_general[3],drawdown_general[3]]\n",
        "\n",
        "}"
      ],
      "metadata": {
        "id": "JYuLU9KXOG5Q"
      },
      "execution_count": null,
      "outputs": []
    },
    {
      "cell_type": "markdown",
      "source": [
        "### **Tabla General de los datos obtenidos**"
      ],
      "metadata": {
        "id": "3yBOhAphRhi8"
      }
    },
    {
      "cell_type": "code",
      "source": [
        "df_data = pd.DataFrame(data)\n",
        "df_data"
      ],
      "metadata": {
        "colab": {
          "base_uri": "https://localhost:8080/",
          "height": 300
        },
        "id": "7uR2_ATZOpSN",
        "outputId": "9ea17fa5-ac95-4741-8f91-389de53a852a"
      },
      "execution_count": null,
      "outputs": [
        {
          "output_type": "execute_result",
          "data": {
            "text/plain": [
              "          DATOS    MIN_VAR  MÁX_SHARPE_RATIO  MIN_VAR_10%    S&P500\n",
              "0   RENDIMIENTO   6.692746          0.389761    10.692732 -0.421752\n",
              "1         SESGO   0.497599          0.090967     0.571096  0.085117\n",
              "2      KURTOSIS  10.052346          1.134385    14.338017  2.689022\n",
              "3           VaR  -0.013828         -0.029341    -0.015633 -0.016297\n",
              "4          CVaR  -0.016656         -0.038399    -0.019388 -0.020834\n",
              "5  SHARPE RATIO  -1.012815          0.220805    -0.751380 -0.431432\n",
              "6       SORTINO  -6.966434         -3.036549    -6.177203 -5.495902\n",
              "7      DRAWDOWN  -0.340972         -0.442657    -0.339172 -0.320986"
            ],
            "text/html": [
              "\n",
              "  <div id=\"df-be67b4a8-95ec-4082-a683-53c492d6c445\" class=\"colab-df-container\">\n",
              "    <div>\n",
              "<style scoped>\n",
              "    .dataframe tbody tr th:only-of-type {\n",
              "        vertical-align: middle;\n",
              "    }\n",
              "\n",
              "    .dataframe tbody tr th {\n",
              "        vertical-align: top;\n",
              "    }\n",
              "\n",
              "    .dataframe thead th {\n",
              "        text-align: right;\n",
              "    }\n",
              "</style>\n",
              "<table border=\"1\" class=\"dataframe\">\n",
              "  <thead>\n",
              "    <tr style=\"text-align: right;\">\n",
              "      <th></th>\n",
              "      <th>DATOS</th>\n",
              "      <th>MIN_VAR</th>\n",
              "      <th>MÁX_SHARPE_RATIO</th>\n",
              "      <th>MIN_VAR_10%</th>\n",
              "      <th>S&amp;P500</th>\n",
              "    </tr>\n",
              "  </thead>\n",
              "  <tbody>\n",
              "    <tr>\n",
              "      <th>0</th>\n",
              "      <td>RENDIMIENTO</td>\n",
              "      <td>6.692746</td>\n",
              "      <td>0.389761</td>\n",
              "      <td>10.692732</td>\n",
              "      <td>-0.421752</td>\n",
              "    </tr>\n",
              "    <tr>\n",
              "      <th>1</th>\n",
              "      <td>SESGO</td>\n",
              "      <td>0.497599</td>\n",
              "      <td>0.090967</td>\n",
              "      <td>0.571096</td>\n",
              "      <td>0.085117</td>\n",
              "    </tr>\n",
              "    <tr>\n",
              "      <th>2</th>\n",
              "      <td>KURTOSIS</td>\n",
              "      <td>10.052346</td>\n",
              "      <td>1.134385</td>\n",
              "      <td>14.338017</td>\n",
              "      <td>2.689022</td>\n",
              "    </tr>\n",
              "    <tr>\n",
              "      <th>3</th>\n",
              "      <td>VaR</td>\n",
              "      <td>-0.013828</td>\n",
              "      <td>-0.029341</td>\n",
              "      <td>-0.015633</td>\n",
              "      <td>-0.016297</td>\n",
              "    </tr>\n",
              "    <tr>\n",
              "      <th>4</th>\n",
              "      <td>CVaR</td>\n",
              "      <td>-0.016656</td>\n",
              "      <td>-0.038399</td>\n",
              "      <td>-0.019388</td>\n",
              "      <td>-0.020834</td>\n",
              "    </tr>\n",
              "    <tr>\n",
              "      <th>5</th>\n",
              "      <td>SHARPE RATIO</td>\n",
              "      <td>-1.012815</td>\n",
              "      <td>0.220805</td>\n",
              "      <td>-0.751380</td>\n",
              "      <td>-0.431432</td>\n",
              "    </tr>\n",
              "    <tr>\n",
              "      <th>6</th>\n",
              "      <td>SORTINO</td>\n",
              "      <td>-6.966434</td>\n",
              "      <td>-3.036549</td>\n",
              "      <td>-6.177203</td>\n",
              "      <td>-5.495902</td>\n",
              "    </tr>\n",
              "    <tr>\n",
              "      <th>7</th>\n",
              "      <td>DRAWDOWN</td>\n",
              "      <td>-0.340972</td>\n",
              "      <td>-0.442657</td>\n",
              "      <td>-0.339172</td>\n",
              "      <td>-0.320986</td>\n",
              "    </tr>\n",
              "  </tbody>\n",
              "</table>\n",
              "</div>\n",
              "    <div class=\"colab-df-buttons\">\n",
              "\n",
              "  <div class=\"colab-df-container\">\n",
              "    <button class=\"colab-df-convert\" onclick=\"convertToInteractive('df-be67b4a8-95ec-4082-a683-53c492d6c445')\"\n",
              "            title=\"Convert this dataframe to an interactive table.\"\n",
              "            style=\"display:none;\">\n",
              "\n",
              "  <svg xmlns=\"http://www.w3.org/2000/svg\" height=\"24px\" viewBox=\"0 -960 960 960\">\n",
              "    <path d=\"M120-120v-720h720v720H120Zm60-500h600v-160H180v160Zm220 220h160v-160H400v160Zm0 220h160v-160H400v160ZM180-400h160v-160H180v160Zm440 0h160v-160H620v160ZM180-180h160v-160H180v160Zm440 0h160v-160H620v160Z\"/>\n",
              "  </svg>\n",
              "    </button>\n",
              "\n",
              "  <style>\n",
              "    .colab-df-container {\n",
              "      display:flex;\n",
              "      gap: 12px;\n",
              "    }\n",
              "\n",
              "    .colab-df-convert {\n",
              "      background-color: #E8F0FE;\n",
              "      border: none;\n",
              "      border-radius: 50%;\n",
              "      cursor: pointer;\n",
              "      display: none;\n",
              "      fill: #1967D2;\n",
              "      height: 32px;\n",
              "      padding: 0 0 0 0;\n",
              "      width: 32px;\n",
              "    }\n",
              "\n",
              "    .colab-df-convert:hover {\n",
              "      background-color: #E2EBFA;\n",
              "      box-shadow: 0px 1px 2px rgba(60, 64, 67, 0.3), 0px 1px 3px 1px rgba(60, 64, 67, 0.15);\n",
              "      fill: #174EA6;\n",
              "    }\n",
              "\n",
              "    .colab-df-buttons div {\n",
              "      margin-bottom: 4px;\n",
              "    }\n",
              "\n",
              "    [theme=dark] .colab-df-convert {\n",
              "      background-color: #3B4455;\n",
              "      fill: #D2E3FC;\n",
              "    }\n",
              "\n",
              "    [theme=dark] .colab-df-convert:hover {\n",
              "      background-color: #434B5C;\n",
              "      box-shadow: 0px 1px 3px 1px rgba(0, 0, 0, 0.15);\n",
              "      filter: drop-shadow(0px 1px 2px rgba(0, 0, 0, 0.3));\n",
              "      fill: #FFFFFF;\n",
              "    }\n",
              "  </style>\n",
              "\n",
              "    <script>\n",
              "      const buttonEl =\n",
              "        document.querySelector('#df-be67b4a8-95ec-4082-a683-53c492d6c445 button.colab-df-convert');\n",
              "      buttonEl.style.display =\n",
              "        google.colab.kernel.accessAllowed ? 'block' : 'none';\n",
              "\n",
              "      async function convertToInteractive(key) {\n",
              "        const element = document.querySelector('#df-be67b4a8-95ec-4082-a683-53c492d6c445');\n",
              "        const dataTable =\n",
              "          await google.colab.kernel.invokeFunction('convertToInteractive',\n",
              "                                                    [key], {});\n",
              "        if (!dataTable) return;\n",
              "\n",
              "        const docLinkHtml = 'Like what you see? Visit the ' +\n",
              "          '<a target=\"_blank\" href=https://colab.research.google.com/notebooks/data_table.ipynb>data table notebook</a>'\n",
              "          + ' to learn more about interactive tables.';\n",
              "        element.innerHTML = '';\n",
              "        dataTable['output_type'] = 'display_data';\n",
              "        await google.colab.output.renderOutput(dataTable, element);\n",
              "        const docLink = document.createElement('div');\n",
              "        docLink.innerHTML = docLinkHtml;\n",
              "        element.appendChild(docLink);\n",
              "      }\n",
              "    </script>\n",
              "  </div>\n",
              "\n",
              "\n",
              "<div id=\"df-bab60911-c7fa-4e79-830e-68ee25fb0ee0\">\n",
              "  <button class=\"colab-df-quickchart\" onclick=\"quickchart('df-bab60911-c7fa-4e79-830e-68ee25fb0ee0')\"\n",
              "            title=\"Suggest charts\"\n",
              "            style=\"display:none;\">\n",
              "\n",
              "<svg xmlns=\"http://www.w3.org/2000/svg\" height=\"24px\"viewBox=\"0 0 24 24\"\n",
              "     width=\"24px\">\n",
              "    <g>\n",
              "        <path d=\"M19 3H5c-1.1 0-2 .9-2 2v14c0 1.1.9 2 2 2h14c1.1 0 2-.9 2-2V5c0-1.1-.9-2-2-2zM9 17H7v-7h2v7zm4 0h-2V7h2v10zm4 0h-2v-4h2v4z\"/>\n",
              "    </g>\n",
              "</svg>\n",
              "  </button>\n",
              "\n",
              "<style>\n",
              "  .colab-df-quickchart {\n",
              "      --bg-color: #E8F0FE;\n",
              "      --fill-color: #1967D2;\n",
              "      --hover-bg-color: #E2EBFA;\n",
              "      --hover-fill-color: #174EA6;\n",
              "      --disabled-fill-color: #AAA;\n",
              "      --disabled-bg-color: #DDD;\n",
              "  }\n",
              "\n",
              "  [theme=dark] .colab-df-quickchart {\n",
              "      --bg-color: #3B4455;\n",
              "      --fill-color: #D2E3FC;\n",
              "      --hover-bg-color: #434B5C;\n",
              "      --hover-fill-color: #FFFFFF;\n",
              "      --disabled-bg-color: #3B4455;\n",
              "      --disabled-fill-color: #666;\n",
              "  }\n",
              "\n",
              "  .colab-df-quickchart {\n",
              "    background-color: var(--bg-color);\n",
              "    border: none;\n",
              "    border-radius: 50%;\n",
              "    cursor: pointer;\n",
              "    display: none;\n",
              "    fill: var(--fill-color);\n",
              "    height: 32px;\n",
              "    padding: 0;\n",
              "    width: 32px;\n",
              "  }\n",
              "\n",
              "  .colab-df-quickchart:hover {\n",
              "    background-color: var(--hover-bg-color);\n",
              "    box-shadow: 0 1px 2px rgba(60, 64, 67, 0.3), 0 1px 3px 1px rgba(60, 64, 67, 0.15);\n",
              "    fill: var(--button-hover-fill-color);\n",
              "  }\n",
              "\n",
              "  .colab-df-quickchart-complete:disabled,\n",
              "  .colab-df-quickchart-complete:disabled:hover {\n",
              "    background-color: var(--disabled-bg-color);\n",
              "    fill: var(--disabled-fill-color);\n",
              "    box-shadow: none;\n",
              "  }\n",
              "\n",
              "  .colab-df-spinner {\n",
              "    border: 2px solid var(--fill-color);\n",
              "    border-color: transparent;\n",
              "    border-bottom-color: var(--fill-color);\n",
              "    animation:\n",
              "      spin 1s steps(1) infinite;\n",
              "  }\n",
              "\n",
              "  @keyframes spin {\n",
              "    0% {\n",
              "      border-color: transparent;\n",
              "      border-bottom-color: var(--fill-color);\n",
              "      border-left-color: var(--fill-color);\n",
              "    }\n",
              "    20% {\n",
              "      border-color: transparent;\n",
              "      border-left-color: var(--fill-color);\n",
              "      border-top-color: var(--fill-color);\n",
              "    }\n",
              "    30% {\n",
              "      border-color: transparent;\n",
              "      border-left-color: var(--fill-color);\n",
              "      border-top-color: var(--fill-color);\n",
              "      border-right-color: var(--fill-color);\n",
              "    }\n",
              "    40% {\n",
              "      border-color: transparent;\n",
              "      border-right-color: var(--fill-color);\n",
              "      border-top-color: var(--fill-color);\n",
              "    }\n",
              "    60% {\n",
              "      border-color: transparent;\n",
              "      border-right-color: var(--fill-color);\n",
              "    }\n",
              "    80% {\n",
              "      border-color: transparent;\n",
              "      border-right-color: var(--fill-color);\n",
              "      border-bottom-color: var(--fill-color);\n",
              "    }\n",
              "    90% {\n",
              "      border-color: transparent;\n",
              "      border-bottom-color: var(--fill-color);\n",
              "    }\n",
              "  }\n",
              "</style>\n",
              "\n",
              "  <script>\n",
              "    async function quickchart(key) {\n",
              "      const quickchartButtonEl =\n",
              "        document.querySelector('#' + key + ' button');\n",
              "      quickchartButtonEl.disabled = true;  // To prevent multiple clicks.\n",
              "      quickchartButtonEl.classList.add('colab-df-spinner');\n",
              "      try {\n",
              "        const charts = await google.colab.kernel.invokeFunction(\n",
              "            'suggestCharts', [key], {});\n",
              "      } catch (error) {\n",
              "        console.error('Error during call to suggestCharts:', error);\n",
              "      }\n",
              "      quickchartButtonEl.classList.remove('colab-df-spinner');\n",
              "      quickchartButtonEl.classList.add('colab-df-quickchart-complete');\n",
              "    }\n",
              "    (() => {\n",
              "      let quickchartButtonEl =\n",
              "        document.querySelector('#df-bab60911-c7fa-4e79-830e-68ee25fb0ee0 button');\n",
              "      quickchartButtonEl.style.display =\n",
              "        google.colab.kernel.accessAllowed ? 'block' : 'none';\n",
              "    })();\n",
              "  </script>\n",
              "</div>\n",
              "    </div>\n",
              "  </div>\n"
            ]
          },
          "metadata": {},
          "execution_count": 1081
        }
      ]
    },
    {
      "cell_type": "markdown",
      "source": [
        "Una vez obtenidas todas las metricas de riesgo en lso intervalos de tiempo dados y comparando dichos valores, para nuestro caso con los activos especificos: 'AGG', 'SEMB.L', 'IYW', 'IEMS.L', 'GSG'.\n",
        "\n",
        "Nosotros decidimos tomar un portafolio menos expuesto al riesgo, por lo que nuestras opciones más convenientes son: el Portafolio Mínima volatilidad y el portafolio de Mínima Volatilidad con 10% de rendimientos.\n",
        "\n",
        "Aquí estamos dejando a lado la posibilidad de estar arriesgados, por lo que nuestro riesgo-beneficio es más bajo que el que pudimos haber obtenido en el portafolio Mácimo Sharpe Ratio.\n",
        "\n",
        "EL VaR y el CVaR nos indica que nuestros dos portafolios tiene valores esperados de perdida menor a los démas, pero en cambio la Kurtosis nos está indicando que nuestros potafolios cuentan con una mayor exposición a los cambios extremos. En este punto (VaR y CVaR) nuestros dos portafolios no difieren a más de 0.003, por ello esta diferencia tan minima con respecto a nuestro rendimiento nos termina decantando, en esta metrica por el portafolio de Minima Varianza y 10% de rendimientos.\n",
        "\n",
        "A su vez observando los rendimientos anuales obtenidos por los portafolios, hay una visible mejoria en los rendimientos obtenidos por el portafolio de Minima Varianza con 10% de rendimiento, el cual es superior a los valores obtenidos por los demás portafolios y por el indice S&P500.\n",
        "\n",
        "De igual manera la metrica Sortino aunque nos indica que el portafolio de Mínima Volatilidad con rendiemiento 10% presenta un mejor desempeñoen su valor que los demás portafolios.\n",
        "\n",
        "Por lo que, decidimos elegir el de Mínima Volatilidad con 10% de rendimiento como el portafolio donde invertiriamos, pues de manera general responde mejor a las metricas de riesgo aplicadas y presenta un mejor rendimiento, dentro de los posibles parametros ya fijados, minimizando nuestra volatilidad."
      ],
      "metadata": {
        "id": "zV-nE_tYRbfK"
      }
    },
    {
      "cell_type": "markdown",
      "source": [
        "### **SEGUNDA PARTE DEL PROYECTO**"
      ],
      "metadata": {
        "id": "XNAU1yN6E-pK"
      }
    },
    {
      "cell_type": "code",
      "source": [
        "#Retornos diarios del 2010 al 2023\n",
        "returns_1"
      ],
      "metadata": {
        "colab": {
          "base_uri": "https://localhost:8080/",
          "height": 455
        },
        "id": "7l8jWlZeQ80N",
        "outputId": "ddae6c6e-86c2-45b6-b6ca-12a6c4f2951d"
      },
      "execution_count": null,
      "outputs": [
        {
          "output_type": "execute_result",
          "data": {
            "text/plain": [
              "                 AGG       GSG    IEMS.L       IYW    SEMB.L\n",
              "Date                                                        \n",
              "2010-01-04  0.000000  0.000000  0.000000  0.000000  0.000000\n",
              "2010-01-05 -0.000211  0.005305  0.001856 -0.006271 -0.004592\n",
              "2010-01-06 -0.006140  0.001660  0.006748 -0.012547 -0.003555\n",
              "2010-01-07  0.000466 -0.003192 -0.002717 -0.002175  0.000341\n",
              "2010-01-08 -0.005380 -0.003854 -0.001164  0.001615 -0.004376\n",
              "...              ...       ...       ...       ...       ...\n",
              "2023-12-04 -0.014573 -0.018517 -0.016650 -0.023235 -0.004107\n",
              "2023-12-05  0.022174  0.007945  0.012199  0.020943  0.019943\n",
              "2023-12-06 -0.002928 -0.033087  0.000154 -0.014853 -0.003723\n",
              "2023-12-07 -0.003774  0.000487 -0.003961  0.012873 -0.004843\n",
              "2023-12-08  0.005592  0.021446  0.002005  0.017977  0.009607\n",
              "\n",
              "[3439 rows x 5 columns]"
            ],
            "text/html": [
              "\n",
              "  <div id=\"df-12f208ea-c818-438f-a1eb-cf674e129d4e\" class=\"colab-df-container\">\n",
              "    <div>\n",
              "<style scoped>\n",
              "    .dataframe tbody tr th:only-of-type {\n",
              "        vertical-align: middle;\n",
              "    }\n",
              "\n",
              "    .dataframe tbody tr th {\n",
              "        vertical-align: top;\n",
              "    }\n",
              "\n",
              "    .dataframe thead th {\n",
              "        text-align: right;\n",
              "    }\n",
              "</style>\n",
              "<table border=\"1\" class=\"dataframe\">\n",
              "  <thead>\n",
              "    <tr style=\"text-align: right;\">\n",
              "      <th></th>\n",
              "      <th>AGG</th>\n",
              "      <th>GSG</th>\n",
              "      <th>IEMS.L</th>\n",
              "      <th>IYW</th>\n",
              "      <th>SEMB.L</th>\n",
              "    </tr>\n",
              "    <tr>\n",
              "      <th>Date</th>\n",
              "      <th></th>\n",
              "      <th></th>\n",
              "      <th></th>\n",
              "      <th></th>\n",
              "      <th></th>\n",
              "    </tr>\n",
              "  </thead>\n",
              "  <tbody>\n",
              "    <tr>\n",
              "      <th>2010-01-04</th>\n",
              "      <td>0.000000</td>\n",
              "      <td>0.000000</td>\n",
              "      <td>0.000000</td>\n",
              "      <td>0.000000</td>\n",
              "      <td>0.000000</td>\n",
              "    </tr>\n",
              "    <tr>\n",
              "      <th>2010-01-05</th>\n",
              "      <td>-0.000211</td>\n",
              "      <td>0.005305</td>\n",
              "      <td>0.001856</td>\n",
              "      <td>-0.006271</td>\n",
              "      <td>-0.004592</td>\n",
              "    </tr>\n",
              "    <tr>\n",
              "      <th>2010-01-06</th>\n",
              "      <td>-0.006140</td>\n",
              "      <td>0.001660</td>\n",
              "      <td>0.006748</td>\n",
              "      <td>-0.012547</td>\n",
              "      <td>-0.003555</td>\n",
              "    </tr>\n",
              "    <tr>\n",
              "      <th>2010-01-07</th>\n",
              "      <td>0.000466</td>\n",
              "      <td>-0.003192</td>\n",
              "      <td>-0.002717</td>\n",
              "      <td>-0.002175</td>\n",
              "      <td>0.000341</td>\n",
              "    </tr>\n",
              "    <tr>\n",
              "      <th>2010-01-08</th>\n",
              "      <td>-0.005380</td>\n",
              "      <td>-0.003854</td>\n",
              "      <td>-0.001164</td>\n",
              "      <td>0.001615</td>\n",
              "      <td>-0.004376</td>\n",
              "    </tr>\n",
              "    <tr>\n",
              "      <th>...</th>\n",
              "      <td>...</td>\n",
              "      <td>...</td>\n",
              "      <td>...</td>\n",
              "      <td>...</td>\n",
              "      <td>...</td>\n",
              "    </tr>\n",
              "    <tr>\n",
              "      <th>2023-12-04</th>\n",
              "      <td>-0.014573</td>\n",
              "      <td>-0.018517</td>\n",
              "      <td>-0.016650</td>\n",
              "      <td>-0.023235</td>\n",
              "      <td>-0.004107</td>\n",
              "    </tr>\n",
              "    <tr>\n",
              "      <th>2023-12-05</th>\n",
              "      <td>0.022174</td>\n",
              "      <td>0.007945</td>\n",
              "      <td>0.012199</td>\n",
              "      <td>0.020943</td>\n",
              "      <td>0.019943</td>\n",
              "    </tr>\n",
              "    <tr>\n",
              "      <th>2023-12-06</th>\n",
              "      <td>-0.002928</td>\n",
              "      <td>-0.033087</td>\n",
              "      <td>0.000154</td>\n",
              "      <td>-0.014853</td>\n",
              "      <td>-0.003723</td>\n",
              "    </tr>\n",
              "    <tr>\n",
              "      <th>2023-12-07</th>\n",
              "      <td>-0.003774</td>\n",
              "      <td>0.000487</td>\n",
              "      <td>-0.003961</td>\n",
              "      <td>0.012873</td>\n",
              "      <td>-0.004843</td>\n",
              "    </tr>\n",
              "    <tr>\n",
              "      <th>2023-12-08</th>\n",
              "      <td>0.005592</td>\n",
              "      <td>0.021446</td>\n",
              "      <td>0.002005</td>\n",
              "      <td>0.017977</td>\n",
              "      <td>0.009607</td>\n",
              "    </tr>\n",
              "  </tbody>\n",
              "</table>\n",
              "<p>3439 rows × 5 columns</p>\n",
              "</div>\n",
              "    <div class=\"colab-df-buttons\">\n",
              "\n",
              "  <div class=\"colab-df-container\">\n",
              "    <button class=\"colab-df-convert\" onclick=\"convertToInteractive('df-12f208ea-c818-438f-a1eb-cf674e129d4e')\"\n",
              "            title=\"Convert this dataframe to an interactive table.\"\n",
              "            style=\"display:none;\">\n",
              "\n",
              "  <svg xmlns=\"http://www.w3.org/2000/svg\" height=\"24px\" viewBox=\"0 -960 960 960\">\n",
              "    <path d=\"M120-120v-720h720v720H120Zm60-500h600v-160H180v160Zm220 220h160v-160H400v160Zm0 220h160v-160H400v160ZM180-400h160v-160H180v160Zm440 0h160v-160H620v160ZM180-180h160v-160H180v160Zm440 0h160v-160H620v160Z\"/>\n",
              "  </svg>\n",
              "    </button>\n",
              "\n",
              "  <style>\n",
              "    .colab-df-container {\n",
              "      display:flex;\n",
              "      gap: 12px;\n",
              "    }\n",
              "\n",
              "    .colab-df-convert {\n",
              "      background-color: #E8F0FE;\n",
              "      border: none;\n",
              "      border-radius: 50%;\n",
              "      cursor: pointer;\n",
              "      display: none;\n",
              "      fill: #1967D2;\n",
              "      height: 32px;\n",
              "      padding: 0 0 0 0;\n",
              "      width: 32px;\n",
              "    }\n",
              "\n",
              "    .colab-df-convert:hover {\n",
              "      background-color: #E2EBFA;\n",
              "      box-shadow: 0px 1px 2px rgba(60, 64, 67, 0.3), 0px 1px 3px 1px rgba(60, 64, 67, 0.15);\n",
              "      fill: #174EA6;\n",
              "    }\n",
              "\n",
              "    .colab-df-buttons div {\n",
              "      margin-bottom: 4px;\n",
              "    }\n",
              "\n",
              "    [theme=dark] .colab-df-convert {\n",
              "      background-color: #3B4455;\n",
              "      fill: #D2E3FC;\n",
              "    }\n",
              "\n",
              "    [theme=dark] .colab-df-convert:hover {\n",
              "      background-color: #434B5C;\n",
              "      box-shadow: 0px 1px 3px 1px rgba(0, 0, 0, 0.15);\n",
              "      filter: drop-shadow(0px 1px 2px rgba(0, 0, 0, 0.3));\n",
              "      fill: #FFFFFF;\n",
              "    }\n",
              "  </style>\n",
              "\n",
              "    <script>\n",
              "      const buttonEl =\n",
              "        document.querySelector('#df-12f208ea-c818-438f-a1eb-cf674e129d4e button.colab-df-convert');\n",
              "      buttonEl.style.display =\n",
              "        google.colab.kernel.accessAllowed ? 'block' : 'none';\n",
              "\n",
              "      async function convertToInteractive(key) {\n",
              "        const element = document.querySelector('#df-12f208ea-c818-438f-a1eb-cf674e129d4e');\n",
              "        const dataTable =\n",
              "          await google.colab.kernel.invokeFunction('convertToInteractive',\n",
              "                                                    [key], {});\n",
              "        if (!dataTable) return;\n",
              "\n",
              "        const docLinkHtml = 'Like what you see? Visit the ' +\n",
              "          '<a target=\"_blank\" href=https://colab.research.google.com/notebooks/data_table.ipynb>data table notebook</a>'\n",
              "          + ' to learn more about interactive tables.';\n",
              "        element.innerHTML = '';\n",
              "        dataTable['output_type'] = 'display_data';\n",
              "        await google.colab.output.renderOutput(dataTable, element);\n",
              "        const docLink = document.createElement('div');\n",
              "        docLink.innerHTML = docLinkHtml;\n",
              "        element.appendChild(docLink);\n",
              "      }\n",
              "    </script>\n",
              "  </div>\n",
              "\n",
              "\n",
              "<div id=\"df-3c3a8a4c-3383-4e5d-a84e-14c6e953483a\">\n",
              "  <button class=\"colab-df-quickchart\" onclick=\"quickchart('df-3c3a8a4c-3383-4e5d-a84e-14c6e953483a')\"\n",
              "            title=\"Suggest charts\"\n",
              "            style=\"display:none;\">\n",
              "\n",
              "<svg xmlns=\"http://www.w3.org/2000/svg\" height=\"24px\"viewBox=\"0 0 24 24\"\n",
              "     width=\"24px\">\n",
              "    <g>\n",
              "        <path d=\"M19 3H5c-1.1 0-2 .9-2 2v14c0 1.1.9 2 2 2h14c1.1 0 2-.9 2-2V5c0-1.1-.9-2-2-2zM9 17H7v-7h2v7zm4 0h-2V7h2v10zm4 0h-2v-4h2v4z\"/>\n",
              "    </g>\n",
              "</svg>\n",
              "  </button>\n",
              "\n",
              "<style>\n",
              "  .colab-df-quickchart {\n",
              "      --bg-color: #E8F0FE;\n",
              "      --fill-color: #1967D2;\n",
              "      --hover-bg-color: #E2EBFA;\n",
              "      --hover-fill-color: #174EA6;\n",
              "      --disabled-fill-color: #AAA;\n",
              "      --disabled-bg-color: #DDD;\n",
              "  }\n",
              "\n",
              "  [theme=dark] .colab-df-quickchart {\n",
              "      --bg-color: #3B4455;\n",
              "      --fill-color: #D2E3FC;\n",
              "      --hover-bg-color: #434B5C;\n",
              "      --hover-fill-color: #FFFFFF;\n",
              "      --disabled-bg-color: #3B4455;\n",
              "      --disabled-fill-color: #666;\n",
              "  }\n",
              "\n",
              "  .colab-df-quickchart {\n",
              "    background-color: var(--bg-color);\n",
              "    border: none;\n",
              "    border-radius: 50%;\n",
              "    cursor: pointer;\n",
              "    display: none;\n",
              "    fill: var(--fill-color);\n",
              "    height: 32px;\n",
              "    padding: 0;\n",
              "    width: 32px;\n",
              "  }\n",
              "\n",
              "  .colab-df-quickchart:hover {\n",
              "    background-color: var(--hover-bg-color);\n",
              "    box-shadow: 0 1px 2px rgba(60, 64, 67, 0.3), 0 1px 3px 1px rgba(60, 64, 67, 0.15);\n",
              "    fill: var(--button-hover-fill-color);\n",
              "  }\n",
              "\n",
              "  .colab-df-quickchart-complete:disabled,\n",
              "  .colab-df-quickchart-complete:disabled:hover {\n",
              "    background-color: var(--disabled-bg-color);\n",
              "    fill: var(--disabled-fill-color);\n",
              "    box-shadow: none;\n",
              "  }\n",
              "\n",
              "  .colab-df-spinner {\n",
              "    border: 2px solid var(--fill-color);\n",
              "    border-color: transparent;\n",
              "    border-bottom-color: var(--fill-color);\n",
              "    animation:\n",
              "      spin 1s steps(1) infinite;\n",
              "  }\n",
              "\n",
              "  @keyframes spin {\n",
              "    0% {\n",
              "      border-color: transparent;\n",
              "      border-bottom-color: var(--fill-color);\n",
              "      border-left-color: var(--fill-color);\n",
              "    }\n",
              "    20% {\n",
              "      border-color: transparent;\n",
              "      border-left-color: var(--fill-color);\n",
              "      border-top-color: var(--fill-color);\n",
              "    }\n",
              "    30% {\n",
              "      border-color: transparent;\n",
              "      border-left-color: var(--fill-color);\n",
              "      border-top-color: var(--fill-color);\n",
              "      border-right-color: var(--fill-color);\n",
              "    }\n",
              "    40% {\n",
              "      border-color: transparent;\n",
              "      border-right-color: var(--fill-color);\n",
              "      border-top-color: var(--fill-color);\n",
              "    }\n",
              "    60% {\n",
              "      border-color: transparent;\n",
              "      border-right-color: var(--fill-color);\n",
              "    }\n",
              "    80% {\n",
              "      border-color: transparent;\n",
              "      border-right-color: var(--fill-color);\n",
              "      border-bottom-color: var(--fill-color);\n",
              "    }\n",
              "    90% {\n",
              "      border-color: transparent;\n",
              "      border-bottom-color: var(--fill-color);\n",
              "    }\n",
              "  }\n",
              "</style>\n",
              "\n",
              "  <script>\n",
              "    async function quickchart(key) {\n",
              "      const quickchartButtonEl =\n",
              "        document.querySelector('#' + key + ' button');\n",
              "      quickchartButtonEl.disabled = true;  // To prevent multiple clicks.\n",
              "      quickchartButtonEl.classList.add('colab-df-spinner');\n",
              "      try {\n",
              "        const charts = await google.colab.kernel.invokeFunction(\n",
              "            'suggestCharts', [key], {});\n",
              "      } catch (error) {\n",
              "        console.error('Error during call to suggestCharts:', error);\n",
              "      }\n",
              "      quickchartButtonEl.classList.remove('colab-df-spinner');\n",
              "      quickchartButtonEl.classList.add('colab-df-quickchart-complete');\n",
              "    }\n",
              "    (() => {\n",
              "      let quickchartButtonEl =\n",
              "        document.querySelector('#df-3c3a8a4c-3383-4e5d-a84e-14c6e953483a button');\n",
              "      quickchartButtonEl.style.display =\n",
              "        google.colab.kernel.accessAllowed ? 'block' : 'none';\n",
              "    })();\n",
              "  </script>\n",
              "</div>\n",
              "    </div>\n",
              "  </div>\n"
            ]
          },
          "metadata": {},
          "execution_count": 1082
        }
      ]
    },
    {
      "cell_type": "code",
      "source": [
        "#Matriz de covarianza de los retornos diarios\n",
        "\n",
        "cov_matrix = returns_1.cov()\n",
        "cov_matrix"
      ],
      "metadata": {
        "id": "Hg_BS6DiKftT",
        "colab": {
          "base_uri": "https://localhost:8080/",
          "height": 206
        },
        "outputId": "62396af7-9acf-4e14-a070-ff90e2d54fa8"
      },
      "execution_count": null,
      "outputs": [
        {
          "output_type": "execute_result",
          "data": {
            "text/plain": [
              "             AGG       GSG    IEMS.L       IYW    SEMB.L\n",
              "AGG     0.000072  0.000033  0.000034  0.000039  0.000026\n",
              "GSG     0.000033  0.000193  0.000065  0.000071  0.000011\n",
              "IEMS.L  0.000034  0.000065  0.000149  0.000095  0.000024\n",
              "IYW     0.000039  0.000071  0.000095  0.000215  0.000031\n",
              "SEMB.L  0.000026  0.000011  0.000024  0.000031  0.000112"
            ],
            "text/html": [
              "\n",
              "  <div id=\"df-14c545c2-8cc7-43be-b7fd-ccf1076eb85a\" class=\"colab-df-container\">\n",
              "    <div>\n",
              "<style scoped>\n",
              "    .dataframe tbody tr th:only-of-type {\n",
              "        vertical-align: middle;\n",
              "    }\n",
              "\n",
              "    .dataframe tbody tr th {\n",
              "        vertical-align: top;\n",
              "    }\n",
              "\n",
              "    .dataframe thead th {\n",
              "        text-align: right;\n",
              "    }\n",
              "</style>\n",
              "<table border=\"1\" class=\"dataframe\">\n",
              "  <thead>\n",
              "    <tr style=\"text-align: right;\">\n",
              "      <th></th>\n",
              "      <th>AGG</th>\n",
              "      <th>GSG</th>\n",
              "      <th>IEMS.L</th>\n",
              "      <th>IYW</th>\n",
              "      <th>SEMB.L</th>\n",
              "    </tr>\n",
              "  </thead>\n",
              "  <tbody>\n",
              "    <tr>\n",
              "      <th>AGG</th>\n",
              "      <td>0.000072</td>\n",
              "      <td>0.000033</td>\n",
              "      <td>0.000034</td>\n",
              "      <td>0.000039</td>\n",
              "      <td>0.000026</td>\n",
              "    </tr>\n",
              "    <tr>\n",
              "      <th>GSG</th>\n",
              "      <td>0.000033</td>\n",
              "      <td>0.000193</td>\n",
              "      <td>0.000065</td>\n",
              "      <td>0.000071</td>\n",
              "      <td>0.000011</td>\n",
              "    </tr>\n",
              "    <tr>\n",
              "      <th>IEMS.L</th>\n",
              "      <td>0.000034</td>\n",
              "      <td>0.000065</td>\n",
              "      <td>0.000149</td>\n",
              "      <td>0.000095</td>\n",
              "      <td>0.000024</td>\n",
              "    </tr>\n",
              "    <tr>\n",
              "      <th>IYW</th>\n",
              "      <td>0.000039</td>\n",
              "      <td>0.000071</td>\n",
              "      <td>0.000095</td>\n",
              "      <td>0.000215</td>\n",
              "      <td>0.000031</td>\n",
              "    </tr>\n",
              "    <tr>\n",
              "      <th>SEMB.L</th>\n",
              "      <td>0.000026</td>\n",
              "      <td>0.000011</td>\n",
              "      <td>0.000024</td>\n",
              "      <td>0.000031</td>\n",
              "      <td>0.000112</td>\n",
              "    </tr>\n",
              "  </tbody>\n",
              "</table>\n",
              "</div>\n",
              "    <div class=\"colab-df-buttons\">\n",
              "\n",
              "  <div class=\"colab-df-container\">\n",
              "    <button class=\"colab-df-convert\" onclick=\"convertToInteractive('df-14c545c2-8cc7-43be-b7fd-ccf1076eb85a')\"\n",
              "            title=\"Convert this dataframe to an interactive table.\"\n",
              "            style=\"display:none;\">\n",
              "\n",
              "  <svg xmlns=\"http://www.w3.org/2000/svg\" height=\"24px\" viewBox=\"0 -960 960 960\">\n",
              "    <path d=\"M120-120v-720h720v720H120Zm60-500h600v-160H180v160Zm220 220h160v-160H400v160Zm0 220h160v-160H400v160ZM180-400h160v-160H180v160Zm440 0h160v-160H620v160ZM180-180h160v-160H180v160Zm440 0h160v-160H620v160Z\"/>\n",
              "  </svg>\n",
              "    </button>\n",
              "\n",
              "  <style>\n",
              "    .colab-df-container {\n",
              "      display:flex;\n",
              "      gap: 12px;\n",
              "    }\n",
              "\n",
              "    .colab-df-convert {\n",
              "      background-color: #E8F0FE;\n",
              "      border: none;\n",
              "      border-radius: 50%;\n",
              "      cursor: pointer;\n",
              "      display: none;\n",
              "      fill: #1967D2;\n",
              "      height: 32px;\n",
              "      padding: 0 0 0 0;\n",
              "      width: 32px;\n",
              "    }\n",
              "\n",
              "    .colab-df-convert:hover {\n",
              "      background-color: #E2EBFA;\n",
              "      box-shadow: 0px 1px 2px rgba(60, 64, 67, 0.3), 0px 1px 3px 1px rgba(60, 64, 67, 0.15);\n",
              "      fill: #174EA6;\n",
              "    }\n",
              "\n",
              "    .colab-df-buttons div {\n",
              "      margin-bottom: 4px;\n",
              "    }\n",
              "\n",
              "    [theme=dark] .colab-df-convert {\n",
              "      background-color: #3B4455;\n",
              "      fill: #D2E3FC;\n",
              "    }\n",
              "\n",
              "    [theme=dark] .colab-df-convert:hover {\n",
              "      background-color: #434B5C;\n",
              "      box-shadow: 0px 1px 3px 1px rgba(0, 0, 0, 0.15);\n",
              "      filter: drop-shadow(0px 1px 2px rgba(0, 0, 0, 0.3));\n",
              "      fill: #FFFFFF;\n",
              "    }\n",
              "  </style>\n",
              "\n",
              "    <script>\n",
              "      const buttonEl =\n",
              "        document.querySelector('#df-14c545c2-8cc7-43be-b7fd-ccf1076eb85a button.colab-df-convert');\n",
              "      buttonEl.style.display =\n",
              "        google.colab.kernel.accessAllowed ? 'block' : 'none';\n",
              "\n",
              "      async function convertToInteractive(key) {\n",
              "        const element = document.querySelector('#df-14c545c2-8cc7-43be-b7fd-ccf1076eb85a');\n",
              "        const dataTable =\n",
              "          await google.colab.kernel.invokeFunction('convertToInteractive',\n",
              "                                                    [key], {});\n",
              "        if (!dataTable) return;\n",
              "\n",
              "        const docLinkHtml = 'Like what you see? Visit the ' +\n",
              "          '<a target=\"_blank\" href=https://colab.research.google.com/notebooks/data_table.ipynb>data table notebook</a>'\n",
              "          + ' to learn more about interactive tables.';\n",
              "        element.innerHTML = '';\n",
              "        dataTable['output_type'] = 'display_data';\n",
              "        await google.colab.output.renderOutput(dataTable, element);\n",
              "        const docLink = document.createElement('div');\n",
              "        docLink.innerHTML = docLinkHtml;\n",
              "        element.appendChild(docLink);\n",
              "      }\n",
              "    </script>\n",
              "  </div>\n",
              "\n",
              "\n",
              "<div id=\"df-e533215b-dd4f-4cde-8030-5b2e89dae8cf\">\n",
              "  <button class=\"colab-df-quickchart\" onclick=\"quickchart('df-e533215b-dd4f-4cde-8030-5b2e89dae8cf')\"\n",
              "            title=\"Suggest charts\"\n",
              "            style=\"display:none;\">\n",
              "\n",
              "<svg xmlns=\"http://www.w3.org/2000/svg\" height=\"24px\"viewBox=\"0 0 24 24\"\n",
              "     width=\"24px\">\n",
              "    <g>\n",
              "        <path d=\"M19 3H5c-1.1 0-2 .9-2 2v14c0 1.1.9 2 2 2h14c1.1 0 2-.9 2-2V5c0-1.1-.9-2-2-2zM9 17H7v-7h2v7zm4 0h-2V7h2v10zm4 0h-2v-4h2v4z\"/>\n",
              "    </g>\n",
              "</svg>\n",
              "  </button>\n",
              "\n",
              "<style>\n",
              "  .colab-df-quickchart {\n",
              "      --bg-color: #E8F0FE;\n",
              "      --fill-color: #1967D2;\n",
              "      --hover-bg-color: #E2EBFA;\n",
              "      --hover-fill-color: #174EA6;\n",
              "      --disabled-fill-color: #AAA;\n",
              "      --disabled-bg-color: #DDD;\n",
              "  }\n",
              "\n",
              "  [theme=dark] .colab-df-quickchart {\n",
              "      --bg-color: #3B4455;\n",
              "      --fill-color: #D2E3FC;\n",
              "      --hover-bg-color: #434B5C;\n",
              "      --hover-fill-color: #FFFFFF;\n",
              "      --disabled-bg-color: #3B4455;\n",
              "      --disabled-fill-color: #666;\n",
              "  }\n",
              "\n",
              "  .colab-df-quickchart {\n",
              "    background-color: var(--bg-color);\n",
              "    border: none;\n",
              "    border-radius: 50%;\n",
              "    cursor: pointer;\n",
              "    display: none;\n",
              "    fill: var(--fill-color);\n",
              "    height: 32px;\n",
              "    padding: 0;\n",
              "    width: 32px;\n",
              "  }\n",
              "\n",
              "  .colab-df-quickchart:hover {\n",
              "    background-color: var(--hover-bg-color);\n",
              "    box-shadow: 0 1px 2px rgba(60, 64, 67, 0.3), 0 1px 3px 1px rgba(60, 64, 67, 0.15);\n",
              "    fill: var(--button-hover-fill-color);\n",
              "  }\n",
              "\n",
              "  .colab-df-quickchart-complete:disabled,\n",
              "  .colab-df-quickchart-complete:disabled:hover {\n",
              "    background-color: var(--disabled-bg-color);\n",
              "    fill: var(--disabled-fill-color);\n",
              "    box-shadow: none;\n",
              "  }\n",
              "\n",
              "  .colab-df-spinner {\n",
              "    border: 2px solid var(--fill-color);\n",
              "    border-color: transparent;\n",
              "    border-bottom-color: var(--fill-color);\n",
              "    animation:\n",
              "      spin 1s steps(1) infinite;\n",
              "  }\n",
              "\n",
              "  @keyframes spin {\n",
              "    0% {\n",
              "      border-color: transparent;\n",
              "      border-bottom-color: var(--fill-color);\n",
              "      border-left-color: var(--fill-color);\n",
              "    }\n",
              "    20% {\n",
              "      border-color: transparent;\n",
              "      border-left-color: var(--fill-color);\n",
              "      border-top-color: var(--fill-color);\n",
              "    }\n",
              "    30% {\n",
              "      border-color: transparent;\n",
              "      border-left-color: var(--fill-color);\n",
              "      border-top-color: var(--fill-color);\n",
              "      border-right-color: var(--fill-color);\n",
              "    }\n",
              "    40% {\n",
              "      border-color: transparent;\n",
              "      border-right-color: var(--fill-color);\n",
              "      border-top-color: var(--fill-color);\n",
              "    }\n",
              "    60% {\n",
              "      border-color: transparent;\n",
              "      border-right-color: var(--fill-color);\n",
              "    }\n",
              "    80% {\n",
              "      border-color: transparent;\n",
              "      border-right-color: var(--fill-color);\n",
              "      border-bottom-color: var(--fill-color);\n",
              "    }\n",
              "    90% {\n",
              "      border-color: transparent;\n",
              "      border-bottom-color: var(--fill-color);\n",
              "    }\n",
              "  }\n",
              "</style>\n",
              "\n",
              "  <script>\n",
              "    async function quickchart(key) {\n",
              "      const quickchartButtonEl =\n",
              "        document.querySelector('#' + key + ' button');\n",
              "      quickchartButtonEl.disabled = true;  // To prevent multiple clicks.\n",
              "      quickchartButtonEl.classList.add('colab-df-spinner');\n",
              "      try {\n",
              "        const charts = await google.colab.kernel.invokeFunction(\n",
              "            'suggestCharts', [key], {});\n",
              "      } catch (error) {\n",
              "        console.error('Error during call to suggestCharts:', error);\n",
              "      }\n",
              "      quickchartButtonEl.classList.remove('colab-df-spinner');\n",
              "      quickchartButtonEl.classList.add('colab-df-quickchart-complete');\n",
              "    }\n",
              "    (() => {\n",
              "      let quickchartButtonEl =\n",
              "        document.querySelector('#df-e533215b-dd4f-4cde-8030-5b2e89dae8cf button');\n",
              "      quickchartButtonEl.style.display =\n",
              "        google.colab.kernel.accessAllowed ? 'block' : 'none';\n",
              "    })();\n",
              "  </script>\n",
              "</div>\n",
              "    </div>\n",
              "  </div>\n"
            ]
          },
          "metadata": {},
          "execution_count": 1083
        }
      ]
    },
    {
      "cell_type": "code",
      "source": [
        "#Pesos equitativos\n",
        "wts"
      ],
      "metadata": {
        "id": "hnM1k4YLQyKS",
        "colab": {
          "base_uri": "https://localhost:8080/"
        },
        "outputId": "8237f741-40c7-4abb-9254-595cd0cf7df9"
      },
      "execution_count": null,
      "outputs": [
        {
          "output_type": "execute_result",
          "data": {
            "text/plain": [
              "array([[0.2],\n",
              "       [0.2],\n",
              "       [0.2],\n",
              "       [0.2],\n",
              "       [0.2]])"
            ]
          },
          "metadata": {},
          "execution_count": 1084
        }
      ]
    },
    {
      "cell_type": "code",
      "source": [
        "#Obteniendo la desviación estandar del mercado\n",
        "sigma_m = np.dot(np.dot(wts.T,cov_matrix),wts)\n",
        "sigma_m = sqrt(sigma_m)\n",
        "sigma_m"
      ],
      "metadata": {
        "colab": {
          "base_uri": "https://localhost:8080/"
        },
        "id": "Yt0XfOdPSDCA",
        "outputId": "b4c28149-8a6d-452f-f907-5d8380f77367"
      },
      "execution_count": null,
      "outputs": [
        {
          "output_type": "execute_result",
          "data": {
            "text/plain": [
              "array([[0.0079935]])"
            ]
          },
          "metadata": {},
          "execution_count": 1085
        }
      ]
    },
    {
      "cell_type": "code",
      "source": [
        "#obtenemos lambda\n",
        "lam = (1/sigma_m)*0.5\n",
        "tau = (1/120)\n",
        "lam"
      ],
      "metadata": {
        "colab": {
          "base_uri": "https://localhost:8080/"
        },
        "id": "frlmqdCKSed9",
        "outputId": "57fd3c26-d0e5-4d86-a7b6-3ae615631527"
      },
      "execution_count": null,
      "outputs": [
        {
          "output_type": "execute_result",
          "data": {
            "text/plain": [
              "array([[62.55081543]])"
            ]
          },
          "metadata": {},
          "execution_count": 1086
        }
      ]
    },
    {
      "cell_type": "code",
      "source": [
        "#Obengamos la distribución del prior\n",
        "media_prior = lam * np.dot(cov_matrix,wts)\n",
        "varianza_prior = tau * cov_matrix\n"
      ],
      "metadata": {
        "id": "Zzg5TxVEVrux"
      },
      "execution_count": null,
      "outputs": []
    },
    {
      "cell_type": "code",
      "source": [
        "p= {\n",
        "    'Relativo': [1, -1, 0, 0, 0], #Relativo\n",
        "    'Absoluto': [0, 0, 0, 1, 0],#Absoluto\n",
        "}\n",
        "\n",
        "df_p = pd.DataFrame(p).transpose()\n",
        "q = np.array([0.065,0.078])\n",
        "df_p"
      ],
      "metadata": {
        "id": "Gd0A645NNr_o",
        "colab": {
          "base_uri": "https://localhost:8080/",
          "height": 112
        },
        "outputId": "5cddc687-f989-4204-cdb9-f2cc46d924bd"
      },
      "execution_count": null,
      "outputs": [
        {
          "output_type": "execute_result",
          "data": {
            "text/plain": [
              "          0  1  2  3  4\n",
              "Relativo  1 -1  0  0  0\n",
              "Absoluto  0  0  0  1  0"
            ],
            "text/html": [
              "\n",
              "  <div id=\"df-2ec1ecec-a0c6-46f5-bd5a-2fc3277a7779\" class=\"colab-df-container\">\n",
              "    <div>\n",
              "<style scoped>\n",
              "    .dataframe tbody tr th:only-of-type {\n",
              "        vertical-align: middle;\n",
              "    }\n",
              "\n",
              "    .dataframe tbody tr th {\n",
              "        vertical-align: top;\n",
              "    }\n",
              "\n",
              "    .dataframe thead th {\n",
              "        text-align: right;\n",
              "    }\n",
              "</style>\n",
              "<table border=\"1\" class=\"dataframe\">\n",
              "  <thead>\n",
              "    <tr style=\"text-align: right;\">\n",
              "      <th></th>\n",
              "      <th>0</th>\n",
              "      <th>1</th>\n",
              "      <th>2</th>\n",
              "      <th>3</th>\n",
              "      <th>4</th>\n",
              "    </tr>\n",
              "  </thead>\n",
              "  <tbody>\n",
              "    <tr>\n",
              "      <th>Relativo</th>\n",
              "      <td>1</td>\n",
              "      <td>-1</td>\n",
              "      <td>0</td>\n",
              "      <td>0</td>\n",
              "      <td>0</td>\n",
              "    </tr>\n",
              "    <tr>\n",
              "      <th>Absoluto</th>\n",
              "      <td>0</td>\n",
              "      <td>0</td>\n",
              "      <td>0</td>\n",
              "      <td>1</td>\n",
              "      <td>0</td>\n",
              "    </tr>\n",
              "  </tbody>\n",
              "</table>\n",
              "</div>\n",
              "    <div class=\"colab-df-buttons\">\n",
              "\n",
              "  <div class=\"colab-df-container\">\n",
              "    <button class=\"colab-df-convert\" onclick=\"convertToInteractive('df-2ec1ecec-a0c6-46f5-bd5a-2fc3277a7779')\"\n",
              "            title=\"Convert this dataframe to an interactive table.\"\n",
              "            style=\"display:none;\">\n",
              "\n",
              "  <svg xmlns=\"http://www.w3.org/2000/svg\" height=\"24px\" viewBox=\"0 -960 960 960\">\n",
              "    <path d=\"M120-120v-720h720v720H120Zm60-500h600v-160H180v160Zm220 220h160v-160H400v160Zm0 220h160v-160H400v160ZM180-400h160v-160H180v160Zm440 0h160v-160H620v160ZM180-180h160v-160H180v160Zm440 0h160v-160H620v160Z\"/>\n",
              "  </svg>\n",
              "    </button>\n",
              "\n",
              "  <style>\n",
              "    .colab-df-container {\n",
              "      display:flex;\n",
              "      gap: 12px;\n",
              "    }\n",
              "\n",
              "    .colab-df-convert {\n",
              "      background-color: #E8F0FE;\n",
              "      border: none;\n",
              "      border-radius: 50%;\n",
              "      cursor: pointer;\n",
              "      display: none;\n",
              "      fill: #1967D2;\n",
              "      height: 32px;\n",
              "      padding: 0 0 0 0;\n",
              "      width: 32px;\n",
              "    }\n",
              "\n",
              "    .colab-df-convert:hover {\n",
              "      background-color: #E2EBFA;\n",
              "      box-shadow: 0px 1px 2px rgba(60, 64, 67, 0.3), 0px 1px 3px 1px rgba(60, 64, 67, 0.15);\n",
              "      fill: #174EA6;\n",
              "    }\n",
              "\n",
              "    .colab-df-buttons div {\n",
              "      margin-bottom: 4px;\n",
              "    }\n",
              "\n",
              "    [theme=dark] .colab-df-convert {\n",
              "      background-color: #3B4455;\n",
              "      fill: #D2E3FC;\n",
              "    }\n",
              "\n",
              "    [theme=dark] .colab-df-convert:hover {\n",
              "      background-color: #434B5C;\n",
              "      box-shadow: 0px 1px 3px 1px rgba(0, 0, 0, 0.15);\n",
              "      filter: drop-shadow(0px 1px 2px rgba(0, 0, 0, 0.3));\n",
              "      fill: #FFFFFF;\n",
              "    }\n",
              "  </style>\n",
              "\n",
              "    <script>\n",
              "      const buttonEl =\n",
              "        document.querySelector('#df-2ec1ecec-a0c6-46f5-bd5a-2fc3277a7779 button.colab-df-convert');\n",
              "      buttonEl.style.display =\n",
              "        google.colab.kernel.accessAllowed ? 'block' : 'none';\n",
              "\n",
              "      async function convertToInteractive(key) {\n",
              "        const element = document.querySelector('#df-2ec1ecec-a0c6-46f5-bd5a-2fc3277a7779');\n",
              "        const dataTable =\n",
              "          await google.colab.kernel.invokeFunction('convertToInteractive',\n",
              "                                                    [key], {});\n",
              "        if (!dataTable) return;\n",
              "\n",
              "        const docLinkHtml = 'Like what you see? Visit the ' +\n",
              "          '<a target=\"_blank\" href=https://colab.research.google.com/notebooks/data_table.ipynb>data table notebook</a>'\n",
              "          + ' to learn more about interactive tables.';\n",
              "        element.innerHTML = '';\n",
              "        dataTable['output_type'] = 'display_data';\n",
              "        await google.colab.output.renderOutput(dataTable, element);\n",
              "        const docLink = document.createElement('div');\n",
              "        docLink.innerHTML = docLinkHtml;\n",
              "        element.appendChild(docLink);\n",
              "      }\n",
              "    </script>\n",
              "  </div>\n",
              "\n",
              "\n",
              "<div id=\"df-80a43608-a9d5-453a-b15a-dc9f54c55e7b\">\n",
              "  <button class=\"colab-df-quickchart\" onclick=\"quickchart('df-80a43608-a9d5-453a-b15a-dc9f54c55e7b')\"\n",
              "            title=\"Suggest charts\"\n",
              "            style=\"display:none;\">\n",
              "\n",
              "<svg xmlns=\"http://www.w3.org/2000/svg\" height=\"24px\"viewBox=\"0 0 24 24\"\n",
              "     width=\"24px\">\n",
              "    <g>\n",
              "        <path d=\"M19 3H5c-1.1 0-2 .9-2 2v14c0 1.1.9 2 2 2h14c1.1 0 2-.9 2-2V5c0-1.1-.9-2-2-2zM9 17H7v-7h2v7zm4 0h-2V7h2v10zm4 0h-2v-4h2v4z\"/>\n",
              "    </g>\n",
              "</svg>\n",
              "  </button>\n",
              "\n",
              "<style>\n",
              "  .colab-df-quickchart {\n",
              "      --bg-color: #E8F0FE;\n",
              "      --fill-color: #1967D2;\n",
              "      --hover-bg-color: #E2EBFA;\n",
              "      --hover-fill-color: #174EA6;\n",
              "      --disabled-fill-color: #AAA;\n",
              "      --disabled-bg-color: #DDD;\n",
              "  }\n",
              "\n",
              "  [theme=dark] .colab-df-quickchart {\n",
              "      --bg-color: #3B4455;\n",
              "      --fill-color: #D2E3FC;\n",
              "      --hover-bg-color: #434B5C;\n",
              "      --hover-fill-color: #FFFFFF;\n",
              "      --disabled-bg-color: #3B4455;\n",
              "      --disabled-fill-color: #666;\n",
              "  }\n",
              "\n",
              "  .colab-df-quickchart {\n",
              "    background-color: var(--bg-color);\n",
              "    border: none;\n",
              "    border-radius: 50%;\n",
              "    cursor: pointer;\n",
              "    display: none;\n",
              "    fill: var(--fill-color);\n",
              "    height: 32px;\n",
              "    padding: 0;\n",
              "    width: 32px;\n",
              "  }\n",
              "\n",
              "  .colab-df-quickchart:hover {\n",
              "    background-color: var(--hover-bg-color);\n",
              "    box-shadow: 0 1px 2px rgba(60, 64, 67, 0.3), 0 1px 3px 1px rgba(60, 64, 67, 0.15);\n",
              "    fill: var(--button-hover-fill-color);\n",
              "  }\n",
              "\n",
              "  .colab-df-quickchart-complete:disabled,\n",
              "  .colab-df-quickchart-complete:disabled:hover {\n",
              "    background-color: var(--disabled-bg-color);\n",
              "    fill: var(--disabled-fill-color);\n",
              "    box-shadow: none;\n",
              "  }\n",
              "\n",
              "  .colab-df-spinner {\n",
              "    border: 2px solid var(--fill-color);\n",
              "    border-color: transparent;\n",
              "    border-bottom-color: var(--fill-color);\n",
              "    animation:\n",
              "      spin 1s steps(1) infinite;\n",
              "  }\n",
              "\n",
              "  @keyframes spin {\n",
              "    0% {\n",
              "      border-color: transparent;\n",
              "      border-bottom-color: var(--fill-color);\n",
              "      border-left-color: var(--fill-color);\n",
              "    }\n",
              "    20% {\n",
              "      border-color: transparent;\n",
              "      border-left-color: var(--fill-color);\n",
              "      border-top-color: var(--fill-color);\n",
              "    }\n",
              "    30% {\n",
              "      border-color: transparent;\n",
              "      border-left-color: var(--fill-color);\n",
              "      border-top-color: var(--fill-color);\n",
              "      border-right-color: var(--fill-color);\n",
              "    }\n",
              "    40% {\n",
              "      border-color: transparent;\n",
              "      border-right-color: var(--fill-color);\n",
              "      border-top-color: var(--fill-color);\n",
              "    }\n",
              "    60% {\n",
              "      border-color: transparent;\n",
              "      border-right-color: var(--fill-color);\n",
              "    }\n",
              "    80% {\n",
              "      border-color: transparent;\n",
              "      border-right-color: var(--fill-color);\n",
              "      border-bottom-color: var(--fill-color);\n",
              "    }\n",
              "    90% {\n",
              "      border-color: transparent;\n",
              "      border-bottom-color: var(--fill-color);\n",
              "    }\n",
              "  }\n",
              "</style>\n",
              "\n",
              "  <script>\n",
              "    async function quickchart(key) {\n",
              "      const quickchartButtonEl =\n",
              "        document.querySelector('#' + key + ' button');\n",
              "      quickchartButtonEl.disabled = true;  // To prevent multiple clicks.\n",
              "      quickchartButtonEl.classList.add('colab-df-spinner');\n",
              "      try {\n",
              "        const charts = await google.colab.kernel.invokeFunction(\n",
              "            'suggestCharts', [key], {});\n",
              "      } catch (error) {\n",
              "        console.error('Error during call to suggestCharts:', error);\n",
              "      }\n",
              "      quickchartButtonEl.classList.remove('colab-df-spinner');\n",
              "      quickchartButtonEl.classList.add('colab-df-quickchart-complete');\n",
              "    }\n",
              "    (() => {\n",
              "      let quickchartButtonEl =\n",
              "        document.querySelector('#df-80a43608-a9d5-453a-b15a-dc9f54c55e7b button');\n",
              "      quickchartButtonEl.style.display =\n",
              "        google.colab.kernel.accessAllowed ? 'block' : 'none';\n",
              "    })();\n",
              "  </script>\n",
              "</div>\n",
              "    </div>\n",
              "  </div>\n"
            ]
          },
          "metadata": {},
          "execution_count": 1088
        }
      ]
    },
    {
      "cell_type": "code",
      "source": [
        "#Vamos a obtener omega\n",
        "a = np.dot(df_p,np.dot(tau * matrix_cov,df_p.T))\n",
        "a[0][1] = 0\n",
        "a[1][0] = 0\n",
        "\n",
        "omega = a\n",
        "omega\n",
        "\n"
      ],
      "metadata": {
        "colab": {
          "base_uri": "https://localhost:8080/"
        },
        "id": "xYhdECxQTkMR",
        "outputId": "3f90041c-8f54-4391-c0c2-b7dc17ca3df2"
      },
      "execution_count": null,
      "outputs": [
        {
          "output_type": "execute_result",
          "data": {
            "text/plain": [
              "array([[1.51051219e-06, 0.00000000e+00],\n",
              "       [0.00000000e+00, 1.53639519e-06]])"
            ]
          },
          "metadata": {},
          "execution_count": 1089
        }
      ]
    },
    {
      "cell_type": "code",
      "source": [
        "#Obtengamos la distribución posteriori\n",
        "\n",
        "factor1 = np.linalg.inv(np.linalg.inv(tau * cov_matrix) + np.dot(df_p.T,np.dot(np.linalg.inv(omega),df_p)))\n",
        "factor2 = np.dot(media_prior.T,np.linalg.inv(tau * cov_matrix)) + np.dot(df_p.T, np.dot(np.linalg.inv(omega),q))\n",
        "\n",
        "media_posteriori = np.dot(factor2, factor1)\n",
        "media_posteriori = pd.DataFrame(media_posteriori)\n",
        "\n",
        "varianza_posteriori = factor1\n",
        "varianza_posteriori = pd.DataFrame(varianza_posteriori)\n",
        "\n"
      ],
      "metadata": {
        "id": "VrcYbfmTdJc4"
      },
      "execution_count": null,
      "outputs": []
    },
    {
      "cell_type": "code",
      "source": [
        "l = [0.3,1,6,lam]\n",
        "w = [0,0,0,0,0]\n",
        "#(1/lam1)* np.dot(np.linalg.inv(cov_matrix),media_posteriori)\n",
        "f1 = np.linalg.inv(cov_matrix)\n",
        "for i in range(len(l)):\n",
        "  w[i] = np.dot(l[i] * np.linalg.inv(cov_matrix),media_posteriori.T)"
      ],
      "metadata": {
        "id": "uBWnY1ufdlcg"
      },
      "execution_count": null,
      "outputs": []
    },
    {
      "cell_type": "code",
      "source": [
        "#Lambda = 0.3, que corresponde a una inversión con muy bajo aversión al riesgo\n",
        "print(w[0])\n",
        "print(sum(w[0]))"
      ],
      "metadata": {
        "colab": {
          "base_uri": "https://localhost:8080/"
        },
        "id": "V2eVOniv9AsS",
        "outputId": "f174f021-26ba-416a-83ca-c716792dd1b8"
      },
      "execution_count": null,
      "outputs": [
        {
          "output_type": "stream",
          "name": "stdout",
          "text": [
            "[[ 61.67106168]\n",
            " [-54.16496383]\n",
            " [  3.75304893]\n",
            " [ 62.88056899]\n",
            " [  3.75304893]]\n",
            "77.89276469057273\n"
          ]
        }
      ]
    },
    {
      "cell_type": "code",
      "source": [
        "#Lambda = 1, que corresponde al nivel más bajo en términos de riesgo\n",
        "print(w[1])\n",
        "print(sum(w[1]))"
      ],
      "metadata": {
        "colab": {
          "base_uri": "https://localhost:8080/"
        },
        "id": "w7t7ZUcE9dws",
        "outputId": "229109af-a304-454f-f0f8-a5dd026bb444"
      },
      "execution_count": null,
      "outputs": [
        {
          "output_type": "stream",
          "name": "stdout",
          "text": [
            "[[ 205.57020562]\n",
            " [-180.54987944]\n",
            " [  12.51016309]\n",
            " [ 209.60189662]\n",
            " [  12.51016309]]\n",
            "259.64254896857574\n"
          ]
        }
      ]
    },
    {
      "cell_type": "code",
      "source": [
        "#lambda = 6, que corresponde a una inversión riesgosa\n",
        "print(w[2])\n",
        "print(sum(w[2]))"
      ],
      "metadata": {
        "colab": {
          "base_uri": "https://localhost:8080/"
        },
        "id": "ec2cw-d998J_",
        "outputId": "55478800-64d0-4f94-e3f1-9a9b98b7080a"
      },
      "execution_count": null,
      "outputs": [
        {
          "output_type": "stream",
          "name": "stdout",
          "text": [
            "[[ 1233.4212337 ]\n",
            " [-1083.29927665]\n",
            " [   75.06097852]\n",
            " [ 1257.61137972]\n",
            " [   75.06097852]]\n",
            "1557.855293811454\n"
          ]
        }
      ]
    },
    {
      "cell_type": "code",
      "source": [
        "#Lambda que calculamos con el prior\n",
        "print(w[3])\n",
        "print(sum(w[3]))"
      ],
      "metadata": {
        "colab": {
          "base_uri": "https://localhost:8080/"
        },
        "id": "ODrsEEc4-4aP",
        "outputId": "b800d39b-a8f4-4bb8-b385-d080c23e3702"
      },
      "execution_count": null,
      "outputs": [
        {
          "output_type": "stream",
          "name": "stdout",
          "text": [
            "[[ 12858.58399041]\n",
            " [-11293.54218579]\n",
            " [   782.52090231]\n",
            " [ 13110.76955032]\n",
            " [   782.52090231]]\n",
            "16240.853159582235\n"
          ]
        }
      ]
    },
    {
      "cell_type": "markdown",
      "source": [
        "Notemos que la lambda que mejor nos acomoda es lambda = 0.3, que corresponde al riesgo más bajo en términos de adversión al riesgo, esto nos indica que el 22.11% se invertirá en la tasa libre de riesgo."
      ],
      "metadata": {
        "id": "0Qqen2G-_Bi9"
      }
    }
  ]
}